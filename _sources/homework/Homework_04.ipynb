{
  "cells": [
    {
      "cell_type": "markdown",
      "metadata": {
        "id": "HTK2DSlIsbgd"
      },
      "source": [
        "# Homework 04: Probability Theory and Common Distributions"
      ]
    },
    {
      "cell_type": "code",
      "execution_count": 1,
      "metadata": {
        "id": "gQ1M90VQsbgh"
      },
      "outputs": [],
      "source": [
        "%matplotlib inline\n",
        "import matplotlib.pyplot as plt\n",
        "import seaborn as sns; sns.set()\n",
        "import numpy as np\n",
        "import pandas as pd"
      ]
    },
    {
      "cell_type": "code",
      "execution_count": 2,
      "metadata": {
        "id": "O6Ir-lYpsbgi"
      },
      "outputs": [],
      "source": [
        "import scipy.stats"
      ]
    },
    {
      "cell_type": "markdown",
      "metadata": {
        "id": "bDUdLrCAsbgj"
      },
      "source": [
        "## <span style=\"color:Orange\">Problem 1</span>"
      ]
    },
    {
      "cell_type": "markdown",
      "metadata": {
        "id": "yjk7E7IVsbgj"
      },
      "source": [
        "Implement the function below to calculate the event probabilities $P(A)$, $P(B)$, $P(A \\cap B)$ and the conditional probabilities $P(A\\mid B)$, $P(B\\mid A)$ for an arbitrary (finite) probability space specified by each outcome's probability. *Hint: the probability of an event containing a set of outcomes is just the sum of the individual outcome probabilities.*"
      ]
    },
    {
      "cell_type": "code",
      "execution_count": 3,
      "metadata": {
        "deletable": false,
        "nbgrader": {
          "checksum": "b26b6b06ed8a18e4adf32c56dbe69184",
          "grade": false,
          "grade_id": "cell-645c193e9e70befb",
          "locked": false,
          "schema_version": 1,
          "solution": true
        },
        "id": "CW-KYDxlsbgj"
      },
      "outputs": [],
      "source": [
        "def calculate_probabilities(p, A, B):\n",
        "    \"\"\"Calculate probabilities for an arbitrary probability space.\n",
        "\n",
        "    Parameters\n",
        "    ----------\n",
        "    p : float array of shape (N,)\n",
        "        Probabilities for each of the N possible outcomes in the probability space.\n",
        "    A : boolean array of shape (N,)\n",
        "        Identifies members of event set A in the probability space.\n",
        "    B : boolean array of shape (N,)\n",
        "        Identifies members of event set B in the probability space.\n",
        "\n",
        "    Returns\n",
        "    -------\n",
        "    tuple\n",
        "        Tuple of five probabilities values:\n",
        "        P(A), P(B), P(A instersect B), P(A | B), P(B | A).\n",
        "    \"\"\"\n",
        "    assert np.all((p >= 0) & (p <= 1))\n",
        "    assert np.sum(p) == 1\n",
        "    df  = pd.DataFrame({'p': p, 'A': A, 'B': B})\n",
        "\n",
        "    p_a = sum(df.loc[df['A'] == True]['p'])\n",
        "    p_b = sum(df.loc[df['B'] == True]['p'])\n",
        "    p_ab = sum(df.loc[(df['B'] == True) & (df['A'] == True)]['p'])\n",
        "    p_ainb = p_ab / p_b\n",
        "    p_bina =  p_ab / p_a\n",
        "\n",
        "    return p_a, p_b, p_ab, p_ainb, p_bina"
      ]
    },
    {
      "cell_type": "code",
      "execution_count": 4,
      "metadata": {
        "deletable": false,
        "editable": false,
        "nbgrader": {
          "checksum": "0f009ae6e95034f20e3084493c61390f",
          "grade": true,
          "grade_id": "cell-b092ca5941d722a0",
          "locked": true,
          "points": 1,
          "schema_version": 1,
          "solution": false
        },
        "id": "iuA3VZz4sbgk"
      },
      "outputs": [],
      "source": [
        "# A correction solution should pass the tests below.\n",
        "gen = np.random.RandomState(seed=123)\n",
        "N = 100\n",
        "p = gen.uniform(size=(4, N))\n",
        "p = (p / p.sum(axis=1).reshape(-1, 1)).reshape(-1) / 4.\n",
        "\n",
        "# Test when A and B are \"independent\" events, i.e., P(A interset B) = P(A) P(B).\n",
        "A = np.arange(4 * N) < 2 * N\n",
        "B = (np.arange(4 * N) >= N) & (np.arange(4 * N) < 3 * N)\n",
        "assert np.allclose(\n",
        "    np.round(calculate_probabilities(p, A, B), 3),\n",
        "    [0.5, 0.5, 0.25, 0.5, 0.5])\n",
        "\n",
        "# Test with randomly generated events A, B.\n",
        "A = gen.uniform(size=4*N) < 0.3\n",
        "B = gen.uniform(size=4*N) > 0.6\n",
        "#print(np.round(event_probabilities(p, A, B), 3))\n",
        "assert np.allclose(\n",
        "    np.round(calculate_probabilities(p, A, B), 3),\n",
        "    [0.278, 0.33, 0.076, 0.23, 0.273])"
      ]
    },
    {
      "cell_type": "markdown",
      "metadata": {
        "id": "LS_uace7sbgk"
      },
      "source": [
        "## <span style=\"color:Orange\">Problem 2</span>"
      ]
    },
    {
      "cell_type": "markdown",
      "metadata": {
        "id": "LLkpwjH6sbgl"
      },
      "source": [
        "The cumulative distribution function (CDF) is the fundamental representation of a random variable, rather than the probability density function (PDF) which might not be defined, is not a probability and generally has dimensions. In this problem, you will explore a practical application of the CDF for generating random numbers.\n",
        "\n",
        "Since the CDF $y = F_X(x)$ maps from random variable values to the range $[0,1]$, its inverse $x = F_X^{-1}(y)$ maps from $[0,1]$ back to the random variable. What distribution of $y$ values would generate values according to the PDF $f_X(x)$ when transformed by the inverse $F_X^{-1}(y)$? The answer is a uniform distribution, as we can demonstrate numerically for an arbitrary random variable:"
      ]
    },
    {
      "cell_type": "code",
      "execution_count": 5,
      "metadata": {
        "colab": {
          "base_uri": "https://localhost:8080/",
          "height": 458
        },
        "id": "p19mMwIlsbgl",
        "outputId": "c54ade8c-8b5a-41a4-b0c7-e478bf76ee0b"
      },
      "outputs": [
        {
          "output_type": "display_data",
          "data": {
            "text/plain": [
              "<Figure size 640x480 with 1 Axes>"
            ],
            "image/png": "[encoded data removed]"
          },
          "metadata": {}
        }
      ],
      "source": [
        "def cdf_hist(X, n=10000, seed=123):\n",
        "    gen = np.random.RandomState(seed=seed)\n",
        "    # Generate n random value from the scipy.stats distribution X.\n",
        "    x = X.rvs(n, random_state=gen)\n",
        "    plt.hist(x, bins=50, label='$f_X(x)$', histtype='step', lw=2, density=True, stacked=True)\n",
        "    # Histogram the corresponding CDF values.\n",
        "    y = X.cdf(x)\n",
        "    plt.hist(y, bins=20, label='$F_X(x)$', alpha=0.5, density=True, stacked=True)\n",
        "    plt.xlabel('x')\n",
        "    plt.legend(loc='upper center', ncol=2)\n",
        "\n",
        "cdf_hist(scipy.stats.beta(0.9, 1.5))"
      ]
    },
    {
      "cell_type": "markdown",
      "metadata": {
        "id": "SVkq4GrQsbgl"
      },
      "source": [
        "When the function $F_X(x)$ can be inverted analytically, you can use it to transform uniformly generated random values into a random sampling of the PDF $f_X(x)$.\n",
        "\n",
        "For example, consider random outcomes consisting of $(x,y)$ points uniformly distributed on the disk,\n",
        "$$\n",
        "0 \\le r_1 \\le \\sqrt{x^2 + y^2} \\le r_2 \\; .\n",
        "$$\n",
        "The CDF of the random variable $r \\equiv \\sqrt{x^2 + y^2}$ is then\n",
        "$$\n",
        "F_R(r) = \\begin{cases}\n",
        "1 & r > r_2 \\\\\n",
        "\\frac{r^2 - r_1^2}{r_2^2 - r_1^2} & r_1 \\le r \\le r_2 \\\\\n",
        "0 & r < r_1\n",
        "\\end{cases}\\; .\n",
        "$$\n",
        "Implement the function below to apply $F_R^{-1}(y)$ to uniformly distributed random values in order to sample $f_R(x)$:"
      ]
    },
    {
      "cell_type": "code",
      "execution_count": 6,
      "metadata": {
        "deletable": false,
        "nbgrader": {
          "checksum": "2a2e46bb7d660eee48c482275e01871b",
          "grade": false,
          "grade_id": "cell-4a3969cc21bad440",
          "locked": false,
          "schema_version": 1,
          "solution": true
        },
        "id": "mV7CEDq6sbgl"
      },
      "outputs": [],
      "source": [
        "def sample_disk(r1, r2, n, gen):\n",
        "    \"\"\"Sample random radii for points uniformly distributed on a disk.\n",
        "\n",
        "    Parameters\n",
        "    ----------\n",
        "    r1 : float\n",
        "        Inner radius of disk.\n",
        "    r2 : float\n",
        "        Outer radius of disk.\n",
        "    n : int\n",
        "        Number of random samples to generate.\n",
        "    gen : np.random.RandomState\n",
        "        Random state for reproducible random numbers.\n",
        "        Uses gen.uniform() internally, not gen.rand().\n",
        "\n",
        "    Returns\n",
        "    -------\n",
        "    array\n",
        "        Array of n randomly generated r values.\n",
        "    \"\"\"\n",
        "    assert (r1 >= 0) and (r1 < r2)\n",
        "    r=[]\n",
        "    for i in range (0,n):\n",
        "      j = gen.uniform(0,1)\n",
        "      r.append((j * (r2**2 - r1**2) + r1**2)**0.5)\n",
        "    return np.array(r)"
      ]
    },
    {
      "cell_type": "code",
      "execution_count": 7,
      "metadata": {
        "deletable": false,
        "editable": false,
        "nbgrader": {
          "checksum": "482cb262e3fbc52364028d4c45041b77",
          "grade": true,
          "grade_id": "cell-8bd5af1a46e05050",
          "locked": true,
          "points": 1,
          "schema_version": 1,
          "solution": false
        },
        "id": "0k3QHJ53sbgm"
      },
      "outputs": [],
      "source": [
        "# A correct solution should pass these tests.\n",
        "r1, r2, n = 1., 2., 1000\n",
        "gen = np.random.RandomState(seed=123)\n",
        "r = sample_disk(r1, r2, n, gen)\n",
        "assert np.all((r >= r1) & (r <= r2))\n",
        "assert np.allclose(np.round(np.mean(r), 3), 1.556)\n",
        "assert np.allclose(np.round(np.std(r), 3), 0.279)\n",
        "\n",
        "r1, r2, n = 0., 2., 1000\n",
        "r = sample_disk(r1, r2, n, gen)\n",
        "assert np.all((r >= r1) & (r <= r2))\n",
        "assert np.allclose(np.round(np.mean(r), 3), 1.325)\n",
        "assert np.allclose(np.round(np.std(r), 3), 0.494)"
      ]
    },
    {
      "cell_type": "markdown",
      "metadata": {
        "id": "o0bROVSFsbgm"
      },
      "source": [
        "Test your implementation by plotting some $(x,y)$ points with uniformly random $0 \\le \\theta < 2\\pi$:"
      ]
    },
    {
      "cell_type": "code",
      "execution_count": 8,
      "metadata": {
        "colab": {
          "base_uri": "https://localhost:8080/",
          "height": 434
        },
        "id": "EHd2QDORsbgm",
        "outputId": "b4569484-6785-4f2d-fbf3-cf6aa72ee867"
      },
      "outputs": [
        {
          "output_type": "display_data",
          "data": {
            "text/plain": [
              "<Figure size 640x480 with 1 Axes>"
            ],
            "image/png": "[encoded data removed]"
          },
          "metadata": {}
        }
      ],
      "source": [
        "gen = np.random.RandomState(seed=123)\n",
        "r = sample_disk(0.8, 1.2, 1000, gen)\n",
        "theta = gen.uniform(0, 2 * np.pi, size=len(r))\n",
        "plt.scatter(r * np.cos(theta), r * np.sin(theta), s=5)\n",
        "plt.gca().set_aspect(1)"
      ]
    },
    {
      "cell_type": "markdown",
      "metadata": {
        "id": "uhbbsZA7sbgm"
      },
      "source": [
        "Sometimes $F_X(x)$ cannot be inverted explicitly, either because the inverse has no closed form or because the underlying distribution is arbitrary.  In these cases, we can still apply the same method numerically.\n",
        "\n",
        "Implement the function below to tabulate an empirical estimate of the CDF for an arbitrary random variable, as:\n",
        "$$\n",
        "x_{CDF} = x_{\\text{lo}}, x_0, x_1, \\ldots, x_{N-1}, x_{\\text{hi}} \\; ,\n",
        "$$\n",
        "where the $x_i$ are [sorted](https://docs.scipy.org/doc/numpy/reference/generated/numpy.interp.html), $x_0 \\le x_1 \\le \\ldots \\le x_{N-1}$, and corresponding CDF values:\n",
        "$$\n",
        "y_{CDF} = 0, \\frac{1}{N+1}, \\frac{2}{N+1}, \\ldots, \\frac{N}{N+1}, 1 \\; .\n",
        "$$"
      ]
    },
    {
      "cell_type": "code",
      "execution_count": 9,
      "metadata": {
        "deletable": false,
        "nbgrader": {
          "checksum": "138a812d73f24fb2fd6c8f076d521734",
          "grade": false,
          "grade_id": "cell-dfbdb3a404b995da",
          "locked": false,
          "schema_version": 1,
          "solution": true
        },
        "id": "k8zVqZVmsbgm"
      },
      "outputs": [],
      "source": [
        "def empirical_cdf(x, xlo, xhi):\n",
        "    \"\"\"Tabulate the empirical CDF from samples of an arbitrary random variable.\n",
        "\n",
        "    Parameters\n",
        "    ----------\n",
        "    x : array of shape (N,)\n",
        "        Array of input random variable values to use.\n",
        "    xlo : float\n",
        "        Low limit for the random variable x.\n",
        "    xhi : float\n",
        "        High limit for the random variable x.\n",
        "\n",
        "    Returns\n",
        "    -------\n",
        "    tuple\n",
        "        Tuple (x_cdf, y_cdf) of arrays both of shape (N+2,), padded at each end\n",
        "        as described above.\n",
        "    \"\"\"\n",
        "    assert xlo < xhi\n",
        "    x = np.asarray(x)\n",
        "    assert np.all((x >= xlo) & (x <= xhi))\n",
        "\n",
        "    x = np.sort(x)\n",
        "\n",
        "    x_cdf = np.array([xlo])\n",
        "    x_cdf = np.append(x_cdf, x)\n",
        "    x_cdf = np.append(x_cdf, xhi)\n",
        "\n",
        "    y_cdf = [0]\n",
        "    for i in range(0,len(x)):\n",
        "      y_cdf.append(((i+1)/(len(x)+1)))\n",
        "    y_cdf.append(1)\n",
        "\n",
        "    return x_cdf, y_cdf"
      ]
    },
    {
      "cell_type": "code",
      "execution_count": 10,
      "metadata": {
        "deletable": false,
        "editable": false,
        "nbgrader": {
          "checksum": "0617fe018478f97682df7cca6a2dd811",
          "grade": true,
          "grade_id": "cell-f256ef9551b29f56",
          "locked": true,
          "points": 1,
          "schema_version": 1,
          "solution": false
        },
        "id": "vQqFNXvRsbgm"
      },
      "outputs": [],
      "source": [
        "# A correct solution should pass these tests.\n",
        "x_cdf, y_cdf = empirical_cdf([1, 2, 3, 4], 0, 5)\n",
        "assert np.array_equal(x_cdf, [0, 1, 2, 3, 4, 5])\n",
        "assert np.allclose(y_cdf, [0., .2, .4, .6, .8, 1.])\n",
        "\n",
        "x_cdf, y_cdf = empirical_cdf([4, 2, 1, 3], 0, 5)\n",
        "assert np.array_equal(x_cdf, [0, 1, 2, 3, 4, 5])\n",
        "assert np.allclose(y_cdf, [0., .2, .4, .6, .8, 1.])\n",
        "\n",
        "gen = np.random.RandomState(seed=123)\n",
        "x = scipy.stats.beta(0.9, 1.5).rvs(size=4, random_state=gen)\n",
        "x_cdf, y_cdf = empirical_cdf(x, 0., 1.)\n",
        "assert np.allclose(\n",
        "    np.round(x_cdf, 3),\n",
        "    [ 0.   ,  0.087,  0.152,  0.42 ,  0.721,  1.   ])\n",
        "assert np.allclose(y_cdf, [0., .2, .4, .6, .8, 1.])"
      ]
    },
    {
      "cell_type": "markdown",
      "metadata": {
        "id": "M1Q2ZkDesbgn"
      },
      "source": [
        "Test your implementation by generating CDF samples matched to an unknown distribution.  Note that we use [linear interpolation](https://docs.scipy.org/doc/numpy/reference/generated/numpy.interp.html) to numerically invert the empirical CDF in this approach, which is a useful trick to remember:"
      ]
    },
    {
      "cell_type": "code",
      "execution_count": 11,
      "metadata": {
        "colab": {
          "base_uri": "https://localhost:8080/",
          "height": 434
        },
        "id": "bCa2A3Mgsbgn",
        "outputId": "58b1c7f6-1e28-403f-cad9-f4f4f4cf1aee"
      },
      "outputs": [
        {
          "output_type": "display_data",
          "data": {
            "text/plain": [
              "<Figure size 640x480 with 1 Axes>"
            ],
            "image/png": "[encoded data removed]"
          },
          "metadata": {}
        }
      ],
      "source": [
        "n = 5000\n",
        "gen = np.random.RandomState(seed=123)\n",
        "X = scipy.stats.beta(0.9, 1.5)\n",
        "# Generate samples using scipy.stats\n",
        "x_in = X.rvs(n, random_state=gen)\n",
        "plt.hist(x_in, bins=50, label='Input data', alpha=0.5, density=True, stacked=True)\n",
        "# Generate samples using the empirical CDF of x_in\n",
        "x_cdf, y_cdf = empirical_cdf(x_in, 0., 1.)\n",
        "y = gen.uniform(size=n)\n",
        "x = np.interp(y, y_cdf, x_cdf)\n",
        "plt.hist(x, bins=50, label='CDF samples', histtype='step', lw=2, density=True, stacked=True)\n",
        "plt.legend();"
      ]
    },
    {
      "cell_type": "markdown",
      "metadata": {
        "id": "yT7peb1Lsbgn"
      },
      "source": [
        "## <span style=\"color:Orange\">Problem 3</span>"
      ]
    },
    {
      "cell_type": "markdown",
      "metadata": {
        "id": "Ts6KBb41sbgn"
      },
      "source": [
        "Consider a sequence of $n$ Bernoulli trials with success probabilty $p$ per trial. A string of consecutive successes is known as a success run. Write a function that returns the counts for runs of length $k$ for each $k$ observed in a python dictionary.\n",
        "\n",
        "For example: if the trials were `[0, 1, 0, 1, 1, 0, 0, 0, 0, 1]`, the function should return `{1: 2, 2: 1}`"
      ]
    },
    {
      "cell_type": "code",
      "execution_count": 12,
      "metadata": {
        "id": "DS2bBKvXsbgn"
      },
      "outputs": [],
      "source": [
        "from collections import Counter\n",
        "import itertools\n",
        "\n",
        "def count_runs(xs):\n",
        "    \"\"\"Count number of success runs of length k.\n",
        "\n",
        "    Parameters\n",
        "    ----------\n",
        "    xs : array of shape (1, nx)\n",
        "        Vector of Bernoulli trials\n",
        "\n",
        "    Returns\n",
        "    -------\n",
        "    dict\n",
        "        Returns a dictionary the counts (val) for runs of length k (key) for each k observed\n",
        "    \"\"\"\n",
        "    runs = []\n",
        "    count = 0\n",
        "    for i in xs:\n",
        "      if i == 1:\n",
        "        count += 1\n",
        "      else:\n",
        "        if count != 0:\n",
        "          runs.append(count)\n",
        "          count = 0\n",
        "    if count !=0:\n",
        "      runs.append(count)\n",
        "    return dict(Counter(runs))"
      ]
    },
    {
      "cell_type": "code",
      "execution_count": 13,
      "metadata": {
        "id": "mPSY97n1sbgn"
      },
      "outputs": [],
      "source": [
        "cnt = count_runs([0, 1, 0, 1, 1, 0, 0, 0, 0, 1],)\n",
        "assert [cnt[1],cnt[2]] == [2,1]\n",
        "\n",
        "cnt = count_runs([0, 1, 0, 1, 1, 0, 0, 0, 0, 1, 1, 1],)\n",
        "assert [cnt[1],cnt[2],cnt[3]] == [1,1,1]\n",
        "\n",
        "rng = np.random.default_rng(seed=1234)\n",
        "cnt = count_runs(rng.integers(2,size=1000))\n",
        "assert [cnt[1],cnt[2],cnt[3],cnt[4],cnt[5],cnt[6],cnt[7],cnt[8],cnt[9]] == [127,60,26,24,6,4,1,1,1]"
      ]
    },
    {
      "cell_type": "markdown",
      "metadata": {
        "id": "hqOaGo3Bsbgn"
      },
      "source": [
        "Using `count_runs` above, write a method `run_prob` that returns the probability of observing at least one run of length `k` or more from `n` trials with success probabilty `p` per trial. This probability is estimated from `expts` simulated experinents."
      ]
    },
    {
      "cell_type": "code",
      "execution_count": 14,
      "metadata": {
        "id": "8nVfocjnsbgn"
      },
      "outputs": [],
      "source": [
        "def run_prob(expts, n, k, p, seed=1234):\n",
        "    \"\"\"Calculate the probability of observing at least one run of length `k` or more from `n` trials with success probabilty `p` per trial. This probability is estimated from `expts` simulated experinents.\n",
        "\n",
        "    Parameters\n",
        "    ----------\n",
        "    expts : int\n",
        "        Number of simulated experiments\n",
        "    k: int\n",
        "        Number of consecutive successes defining a success run\n",
        "    n: int\n",
        "        Number of trials per experiment\n",
        "    p: float\n",
        "        Success probability per trial\n",
        "    seed : int\n",
        "        Random number seed to use.\n",
        "\n",
        "    Returns\n",
        "    -------\n",
        "    float\n",
        "        Returns the probability of observing at least one run of length `k` or more\n",
        "    \"\"\"\n",
        "\n",
        "    # Initialize random generator. Use this generator in your code below\n",
        "    rng = np.random.default_rng(seed=seed)\n",
        "    successes = 0\n",
        "\n",
        "    for i in range (0,expts):\n",
        "      trial = [(1 if rng.random() <= p else 0) for i in range(n)]\n",
        "      cnt = count_runs(trial)\n",
        "\n",
        "      if any(num >= k for num in list(cnt.keys())):\n",
        "        successes += 1\n",
        "\n",
        "    return(successes/expts)"
      ]
    },
    {
      "cell_type": "markdown",
      "metadata": {
        "id": "04tcq6F2sbgn"
      },
      "source": [
        "Determine the probability of observing at least one run of length $k$=5 or more when $n$=100 and $p$=0.5. Estimate this probability from 100,000 simulated experiments."
      ]
    },
    {
      "cell_type": "code",
      "execution_count": 15,
      "metadata": {
        "colab": {
          "base_uri": "https://localhost:8080/"
        },
        "id": "yt0sXUD_sbgo",
        "outputId": "d6356f99-3aba-4ddb-b3df-78c4cc844f05"
      },
      "outputs": [
        {
          "output_type": "stream",
          "name": "stdout",
          "text": [
            "81.0 %\n"
          ]
        }
      ],
      "source": [
        "prob = run_prob(expts=100000, n=100, k=5, p=0.5)\n",
        "print (np.round(prob*100,1),'%')\n",
        "assert np.allclose(prob, 0.81044, rtol=0.001, atol=0.1)"
      ]
    },
    {
      "cell_type": "markdown",
      "metadata": {
        "id": "2HdBH1A4sbgo"
      },
      "source": [
        "Determine the probability of observing at least one run of length $k$=7 or more when $n$=100 and $p$=0.7. Estimate this probability from 100,000 simulated experiments."
      ]
    },
    {
      "cell_type": "code",
      "execution_count": 16,
      "metadata": {
        "colab": {
          "base_uri": "https://localhost:8080/"
        },
        "id": "cwn4nk4-sbgo",
        "outputId": "adbb40a1-498a-429f-b0a8-1d5456dffa73"
      },
      "outputs": [
        {
          "output_type": "stream",
          "name": "stdout",
          "text": [
            "95.0 %\n"
          ]
        }
      ],
      "source": [
        "prob = run_prob(expts=100000, n=100, k=7, p=0.7)\n",
        "print (np.round(prob*100,1),'%')\n",
        "assert np.allclose(prob, 0.9489, rtol=0.001, atol=0.1)"
      ]
    },
    {
      "cell_type": "markdown",
      "metadata": {
        "id": "xhAz-YlKsbgo"
      },
      "source": [
        "## <span style=\"color:Orange\">Problem 4</span>"
      ]
    },
    {
      "cell_type": "markdown",
      "metadata": {
        "id": "_61HBpeWsbgo"
      },
      "source": [
        "We showed that the conditional probability density of a multidimensional feature space can be calculated as:\n",
        "$$\n",
        "f_{X|Y}(\\vec{x}\\mid \\vec{y}) = \\frac{f(\\vec{x}, \\vec{y})}{f(\\vec{y})} \\; ,\n",
        "$$\n",
        "where features $\\vec{x}$ are conditioned on the values of features $\\vec{y}$.\n",
        "\n",
        "For the ubiquitous multivariate normal probability density, we can split the joint mean $\\vec{\\mu}_{X,Y}$ into separate means for the $X$ and $Y$ features,\n",
        "$$\n",
        "\\vec{\\mu}_{X,Y} = \\begin{bmatrix}\\vec{\\mu}_X \\\\ \\vec{\\mu}_Y\\end{bmatrix}\n",
        "$$\n",
        "and, similarly, for the joint covariance:\n",
        "$$\n",
        "C_{X,Y} = \\begin{bmatrix}\n",
        "C_{XX} & C_{XY} \\\\\n",
        "C_{XY} & C_{YY}\n",
        "\\end{bmatrix} \\; ,\n",
        "$$\n",
        "where $C_{XX}$ is the submatrix of covariances for the $X$ features, etc.\n",
        "\n",
        "We can then explicitly calculate the resulting marginal mean:\n",
        "$$\n",
        "\\vec{\\mu}_{X|Y} \\equiv \\langle \\vec{x}\\rangle_{X|Y} = \\vec{\\mu}_X + C_{XY} C_{YY}^{-1} \\left(\\vec{y} - \\vec{\\mu}_Y\\right) \\; ,\n",
        "$$\n",
        "and covariance\n",
        "$$\n",
        "C_{X|Y} \\equiv \\langle \\left( \\vec{x} - \\vec{\\mu}_{X|Y}\\right)\n",
        "\\left( \\vec{x} - \\vec{\\mu}_{X|Y}\\right)^T \\rangle_{X|Y} = C_{XX} - C_{XY} C_{YY}^{-1} C_{XY}^T \\; .\n",
        "$$\n",
        "\n",
        "Note that $\\vec{\\mu}_{X|Y}$ depends on the conditioned feature values $\\vec{y}$, but $C_{X|Y}$ does not. These Gaussian conditional probability densities are central to the Factor Analysis (FA) and Gaussian Process (GP) methods.\n",
        "\n",
        "Implement the function below to calculate these expressions:"
      ]
    },
    {
      "cell_type": "code",
      "execution_count": 17,
      "metadata": {
        "id": "WtK2xs9Esbgo"
      },
      "outputs": [],
      "source": [
        "def gauss_conditional_predicted(y0, muX, muY, CXX, CXY, CYY):\n",
        "    \"\"\"Predicted conditional Gaussian means and covariances.\n",
        "\n",
        "    Parameters\n",
        "    ----------\n",
        "    y0 : array of shape (ny,)\n",
        "        Fixed y values used for conditioning.\n",
        "    muX : array of shape (nx,)\n",
        "        Mean value of X features.\n",
        "    muY : array of shape (ny,)\n",
        "        Mean value of Y features.\n",
        "    CXX : array of shape (nx, nx)\n",
        "        Covariances between X features.\n",
        "    CXY : array of shape (nx, ny)\n",
        "        Covariances between X and Y features.\n",
        "    CYY : array of shape (ny, ny)\n",
        "        Covariances between Y features.\n",
        "\n",
        "    Returns\n",
        "    -------\n",
        "    tuple\n",
        "        Tuple (mu, C) of arrays with shapes (nx,) and (nx,nx), respectively,\n",
        "        giving the means and covariances of X features conditioned on Y=y0.\n",
        "    \"\"\"\n",
        "    nx = len(muX)\n",
        "    ny = len(muY)\n",
        "    assert y0.shape == (ny,)\n",
        "    assert CXX.shape == (nx, nx)\n",
        "    assert CXY.shape == (nx, ny)\n",
        "    assert CYY.shape == (ny, ny)\n",
        "    #print(np.dot(CXY, np.linalg.inv(CYY)))\n",
        "    mu = muX + np.dot(np.dot(CXY, np.linalg.inv(CYY)), (y0 - muY))\n",
        "    #print(mu)\n",
        "    #print(np.dot(CXY, np.linalg.inv(CYY)))\n",
        "    #print(CXY)\n",
        "    #print(np.transpose(CXY))\n",
        "    C = CXX - np.dot(np.dot(CXY, np.linalg.inv(CYY)), np.transpose(CXY))\n",
        "    return mu, C"
      ]
    },
    {
      "cell_type": "code",
      "execution_count": 18,
      "metadata": {
        "id": "dXXmqhPesbgo"
      },
      "outputs": [],
      "source": [
        "# A correct solution should pass these tests.\n",
        "nx, ny = 2, 3\n",
        "y0, muX, muY = np.ones(ny), np.zeros(nx), np.zeros(ny)\n",
        "CXX, CXY, CYY = np.identity(nx), np.zeros((nx, ny)), np.identity(ny)\n",
        "mu, C = gauss_conditional_predicted(y0, muX, muY, CXX, CXY, CYY)\n",
        "assert np.allclose(mu, [0, 0])\n",
        "assert np.allclose(C, [[1, 0], [0, 1]])\n",
        "\n",
        "y0, muX, muY = np.array([1, 2]), np.array([3, 2, 1]), np.array([0, 0])\n",
        "CXX, CXY, CYY = np.array([[2, 0, 1], [0, 1, 0], [1, 0, 1]]), np.zeros((3, 2)), np.array([[1, 1], [1, 2]])\n",
        "mu, C = gauss_conditional_predicted(y0, muX, muY, CXX, CXY, CYY)\n",
        "assert np.allclose(mu, [3, 2, 1])\n",
        "assert np.allclose(C, [[ 2, 0, 1],  [0, 1, 0], [1, 0, 1]])"
      ]
    },
    {
      "cell_type": "markdown",
      "metadata": {
        "id": "9iU46E_Msbgo"
      },
      "source": [
        "Implement the function below to calculate empirical estimates of the conditional Gaussian means and covariances. Since the requirement $Y = y_0$ will likely not select *any* samples from a finite dataset, we relax this condition to:\n",
        "\n",
        "$$\n",
        "\\left| \\vec{y} - \\vec{y}_0\\right|^2 < \\epsilon^2 \\; ,\n",
        "$$\n",
        "\n",
        "and apply `np.mean` and `np.cov` to the resulting subset of samples. *Hint: pay attention to the `rowvar` parameter of `np.cov`.*"
      ]
    },
    {
      "cell_type": "code",
      "execution_count": 45,
      "metadata": {
        "id": "14XhFJ_rsbgo"
      },
      "outputs": [],
      "source": [
        "def gauss_conditional_measured(X, Y, y0, eps=1.5):\n",
        "    \"\"\"Measured conditional Gaussian means and covariances.\n",
        "\n",
        "    Parameters\n",
        "    ----------\n",
        "    X : array of shape (N, nx)\n",
        "        X feature values for dataset with N samples.\n",
        "    Y : array of shape (N, ny)\n",
        "        Y feature values for dataset with N samples.\n",
        "    y0 : array of shape (ny,)\n",
        "        Fixed y values used for conditioning.\n",
        "    eps : float\n",
        "        Tolerance for selecting samples with Y ~ y0.\n",
        "\n",
        "    Returns\n",
        "    -------\n",
        "    tuple\n",
        "        Tuple (mu, C) of arrays with shapes (nx,) and (nx,nx), respectively,\n",
        "        giving the means and covariances of X features conditioned on Y=y0.\n",
        "    \"\"\"\n",
        "    print(X)\n",
        "    print(Y)\n",
        "    muX = []\n",
        "    for i in range(0,len(X[0])):\n",
        "      muX.append(np.mean(X[:,i]))\n",
        "    muX = np.mean(X, axis = 0)\n",
        "    muY = np.mean(Y, axis = 0)\n",
        "    #y0, muX, muY, CXX, CXY, CYY\n",
        "    CXX = np.cov(X, rowvar = False)\n",
        "    CYY = np.cov(X, rowvar = False)\n",
        "    CXY = np.cov(X, Y, rowvar = False)\n",
        "    nx = CXX.shape[0]\n",
        "    ny = CYY.shape[1]\n",
        "    CXY = CXY[:nx,nx:nx+ny]\n",
        "    cond = (muY**2 - y0**2) < eps**2\n",
        "    print(np.dot(CXY, np.linalg.inv(CYY)))\n",
        "    print(np.dot(np.dot(CXY, np.linalg.inv(CYY)), (y0-muY)))\n",
        "    mu = muX + np.dot(np.dot(CXY, np.linalg.inv(CYY)), (y0-muY))\n",
        "    C = CXX - np.dot(np.dot(CXY, np.linalg.inv(CYY)), np.transpose(CXY))\n",
        "    return muX, C\n",
        "#this is definently still wrong hehe"
      ]
    },
    {
      "cell_type": "code",
      "execution_count": 46,
      "metadata": {
        "colab": {
          "base_uri": "https://localhost:8080/",
          "height": 703
        },
        "id": "4dFRRUHIsbgp",
        "outputId": "bc50000b-6465-4e4b-8e55-bf1a2ce0366b"
      },
      "outputs": [
        {
          "output_type": "stream",
          "name": "stdout",
          "text": [
            "[[-1.0856306   0.99734545]\n",
            " [ 1.65143654 -2.42667924]\n",
            " [-0.67888615 -0.09470897]\n",
            " ...\n",
            " [ 0.02233164  0.39937134]\n",
            " [-2.20796478 -0.22517091]\n",
            " [-1.72158801 -0.43295757]]\n",
            "[[ 0.2829785  -1.50629471 -0.57860025]\n",
            " [-0.42891263  1.26593626 -0.8667404 ]\n",
            " [ 1.49138963 -0.638902   -0.44398196]\n",
            " ...\n",
            " [-1.03475915 -1.20688171 -0.85081118]\n",
            " [ 0.53693766  0.104976    1.98852572]\n",
            " [-1.55892172 -0.62743907 -0.74905897]]\n",
            "[[0.00084808 0.00199023]\n",
            " [0.00050959 0.00072781]]\n"
          ]
        },
        {
          "output_type": "error",
          "ename": "ValueError",
          "evalue": "ignored",
          "traceback": [
            "\u001b[0;31m---------------------------------------------------------------------------\u001b[0m",
            "\u001b[0;31mValueError\u001b[0m                                Traceback (most recent call last)",
            "\u001b[0;32m<ipython-input-46-b0818ea8a303>\u001b[0m in \u001b[0;36m<cell line: 10>\u001b[0;34m()\u001b[0m\n\u001b[1;32m      8\u001b[0m \u001b[0mC\u001b[0m \u001b[0;34m=\u001b[0m \u001b[0mnp\u001b[0m\u001b[0;34m.\u001b[0m\u001b[0mblock\u001b[0m\u001b[0;34m(\u001b[0m\u001b[0;34m[\u001b[0m\u001b[0;34m[\u001b[0m\u001b[0mCXX\u001b[0m\u001b[0;34m,\u001b[0m \u001b[0mCXY\u001b[0m\u001b[0;34m]\u001b[0m\u001b[0;34m,\u001b[0m \u001b[0;34m[\u001b[0m\u001b[0mCXY\u001b[0m\u001b[0;34m.\u001b[0m\u001b[0mT\u001b[0m\u001b[0;34m,\u001b[0m \u001b[0mCYY\u001b[0m\u001b[0;34m]\u001b[0m\u001b[0;34m]\u001b[0m\u001b[0;34m)\u001b[0m\u001b[0;34m\u001b[0m\u001b[0;34m\u001b[0m\u001b[0m\n\u001b[1;32m      9\u001b[0m \u001b[0mXY\u001b[0m \u001b[0;34m=\u001b[0m \u001b[0mgen\u001b[0m\u001b[0;34m.\u001b[0m\u001b[0mmultivariate_normal\u001b[0m\u001b[0;34m(\u001b[0m\u001b[0mmu\u001b[0m\u001b[0;34m,\u001b[0m \u001b[0mC\u001b[0m\u001b[0;34m,\u001b[0m \u001b[0msize\u001b[0m\u001b[0;34m=\u001b[0m\u001b[0;36m1000000\u001b[0m\u001b[0;34m)\u001b[0m\u001b[0;34m\u001b[0m\u001b[0;34m\u001b[0m\u001b[0m\n\u001b[0;32m---> 10\u001b[0;31m \u001b[0mmu\u001b[0m\u001b[0;34m,\u001b[0m \u001b[0mC\u001b[0m \u001b[0;34m=\u001b[0m \u001b[0mgauss_conditional_measured\u001b[0m\u001b[0;34m(\u001b[0m\u001b[0mXY\u001b[0m\u001b[0;34m[\u001b[0m\u001b[0;34m:\u001b[0m\u001b[0;34m,\u001b[0m \u001b[0;34m:\u001b[0m\u001b[0mnx\u001b[0m\u001b[0;34m]\u001b[0m\u001b[0;34m,\u001b[0m \u001b[0mXY\u001b[0m\u001b[0;34m[\u001b[0m\u001b[0;34m:\u001b[0m\u001b[0;34m,\u001b[0m \u001b[0mnx\u001b[0m\u001b[0;34m:\u001b[0m\u001b[0;34m]\u001b[0m\u001b[0;34m,\u001b[0m \u001b[0my\u001b[0m\u001b[0;34m)\u001b[0m\u001b[0;34m\u001b[0m\u001b[0;34m\u001b[0m\u001b[0m\n\u001b[0m\u001b[1;32m     11\u001b[0m \u001b[0;32massert\u001b[0m \u001b[0mnp\u001b[0m\u001b[0;34m.\u001b[0m\u001b[0mallclose\u001b[0m\u001b[0;34m(\u001b[0m\u001b[0mnp\u001b[0m\u001b[0;34m.\u001b[0m\u001b[0mround\u001b[0m\u001b[0;34m(\u001b[0m\u001b[0mmu\u001b[0m\u001b[0;34m,\u001b[0m \u001b[0;36m2\u001b[0m\u001b[0;34m)\u001b[0m\u001b[0;34m,\u001b[0m \u001b[0;34m[\u001b[0m\u001b[0;36m0\u001b[0m\u001b[0;34m,\u001b[0m \u001b[0;36m0\u001b[0m\u001b[0;34m]\u001b[0m\u001b[0;34m)\u001b[0m\u001b[0;34m\u001b[0m\u001b[0;34m\u001b[0m\u001b[0m\n\u001b[1;32m     12\u001b[0m \u001b[0mprint\u001b[0m\u001b[0;34m(\u001b[0m\u001b[0mnp\u001b[0m\u001b[0;34m.\u001b[0m\u001b[0mround\u001b[0m\u001b[0;34m(\u001b[0m\u001b[0mC\u001b[0m\u001b[0;34m,\u001b[0m \u001b[0;36m2\u001b[0m\u001b[0;34m)\u001b[0m\u001b[0;34m)\u001b[0m\u001b[0;34m\u001b[0m\u001b[0;34m\u001b[0m\u001b[0m\n",
            "\u001b[0;32m<ipython-input-45-becf66f8ae53>\u001b[0m in \u001b[0;36mgauss_conditional_measured\u001b[0;34m(X, Y, y0, eps)\u001b[0m\n\u001b[1;32m     35\u001b[0m     \u001b[0mcond\u001b[0m \u001b[0;34m=\u001b[0m \u001b[0;34m(\u001b[0m\u001b[0mmuY\u001b[0m\u001b[0;34m**\u001b[0m\u001b[0;36m2\u001b[0m \u001b[0;34m-\u001b[0m \u001b[0my0\u001b[0m\u001b[0;34m**\u001b[0m\u001b[0;36m2\u001b[0m\u001b[0;34m)\u001b[0m \u001b[0;34m<\u001b[0m \u001b[0meps\u001b[0m\u001b[0;34m**\u001b[0m\u001b[0;36m2\u001b[0m\u001b[0;34m\u001b[0m\u001b[0;34m\u001b[0m\u001b[0m\n\u001b[1;32m     36\u001b[0m     \u001b[0mprint\u001b[0m\u001b[0;34m(\u001b[0m\u001b[0mnp\u001b[0m\u001b[0;34m.\u001b[0m\u001b[0mdot\u001b[0m\u001b[0;34m(\u001b[0m\u001b[0mCXY\u001b[0m\u001b[0;34m,\u001b[0m \u001b[0mnp\u001b[0m\u001b[0;34m.\u001b[0m\u001b[0mlinalg\u001b[0m\u001b[0;34m.\u001b[0m\u001b[0minv\u001b[0m\u001b[0;34m(\u001b[0m\u001b[0mCYY\u001b[0m\u001b[0;34m)\u001b[0m\u001b[0;34m)\u001b[0m\u001b[0;34m)\u001b[0m\u001b[0;34m\u001b[0m\u001b[0;34m\u001b[0m\u001b[0m\n\u001b[0;32m---> 37\u001b[0;31m     \u001b[0mprint\u001b[0m\u001b[0;34m(\u001b[0m\u001b[0mnp\u001b[0m\u001b[0;34m.\u001b[0m\u001b[0mdot\u001b[0m\u001b[0;34m(\u001b[0m\u001b[0mnp\u001b[0m\u001b[0;34m.\u001b[0m\u001b[0mdot\u001b[0m\u001b[0;34m(\u001b[0m\u001b[0mCXY\u001b[0m\u001b[0;34m,\u001b[0m \u001b[0mnp\u001b[0m\u001b[0;34m.\u001b[0m\u001b[0mlinalg\u001b[0m\u001b[0;34m.\u001b[0m\u001b[0minv\u001b[0m\u001b[0;34m(\u001b[0m\u001b[0mCYY\u001b[0m\u001b[0;34m)\u001b[0m\u001b[0;34m)\u001b[0m\u001b[0;34m,\u001b[0m \u001b[0;34m(\u001b[0m\u001b[0mcond\u001b[0m\u001b[0;34m)\u001b[0m\u001b[0;34m)\u001b[0m\u001b[0;34m)\u001b[0m\u001b[0;34m\u001b[0m\u001b[0;34m\u001b[0m\u001b[0m\n\u001b[0m\u001b[1;32m     38\u001b[0m     \u001b[0mmu\u001b[0m \u001b[0;34m=\u001b[0m \u001b[0mmuX\u001b[0m \u001b[0;34m+\u001b[0m \u001b[0mnp\u001b[0m\u001b[0;34m.\u001b[0m\u001b[0mdot\u001b[0m\u001b[0;34m(\u001b[0m\u001b[0mnp\u001b[0m\u001b[0;34m.\u001b[0m\u001b[0mdot\u001b[0m\u001b[0;34m(\u001b[0m\u001b[0mCXY\u001b[0m\u001b[0;34m,\u001b[0m \u001b[0mnp\u001b[0m\u001b[0;34m.\u001b[0m\u001b[0mlinalg\u001b[0m\u001b[0;34m.\u001b[0m\u001b[0minv\u001b[0m\u001b[0;34m(\u001b[0m\u001b[0mCYY\u001b[0m\u001b[0;34m)\u001b[0m\u001b[0;34m)\u001b[0m\u001b[0;34m,\u001b[0m \u001b[0;34m(\u001b[0m\u001b[0my0\u001b[0m\u001b[0;34m-\u001b[0m\u001b[0mmuY\u001b[0m\u001b[0;34m)\u001b[0m\u001b[0;34m)\u001b[0m\u001b[0;34m\u001b[0m\u001b[0;34m\u001b[0m\u001b[0m\n\u001b[1;32m     39\u001b[0m     \u001b[0mC\u001b[0m \u001b[0;34m=\u001b[0m \u001b[0mCXX\u001b[0m \u001b[0;34m-\u001b[0m \u001b[0mnp\u001b[0m\u001b[0;34m.\u001b[0m\u001b[0mdot\u001b[0m\u001b[0;34m(\u001b[0m\u001b[0mnp\u001b[0m\u001b[0;34m.\u001b[0m\u001b[0mdot\u001b[0m\u001b[0;34m(\u001b[0m\u001b[0mCXY\u001b[0m\u001b[0;34m,\u001b[0m \u001b[0mnp\u001b[0m\u001b[0;34m.\u001b[0m\u001b[0mlinalg\u001b[0m\u001b[0;34m.\u001b[0m\u001b[0minv\u001b[0m\u001b[0;34m(\u001b[0m\u001b[0mCYY\u001b[0m\u001b[0;34m)\u001b[0m\u001b[0;34m)\u001b[0m\u001b[0;34m,\u001b[0m \u001b[0mnp\u001b[0m\u001b[0;34m.\u001b[0m\u001b[0mtranspose\u001b[0m\u001b[0;34m(\u001b[0m\u001b[0mCXY\u001b[0m\u001b[0;34m)\u001b[0m\u001b[0;34m)\u001b[0m\u001b[0;34m\u001b[0m\u001b[0;34m\u001b[0m\u001b[0m\n",
            "\u001b[0;32m/usr/local/lib/python3.10/dist-packages/numpy/core/overrides.py\u001b[0m in \u001b[0;36mdot\u001b[0;34m(*args, **kwargs)\u001b[0m\n",
            "\u001b[0;31mValueError\u001b[0m: shapes (2,2) and (3,) not aligned: 2 (dim 1) != 3 (dim 0)"
          ]
        }
      ],
      "source": [
        "# A correct solution should pass these tests.\n",
        "# Repeat the first test above, but numerically this time.\n",
        "gen = np.random.RandomState(seed=123)\n",
        "nx, ny = 2, 3\n",
        "y, muX, muY = np.ones(ny), np.zeros(nx), np.zeros(ny)\n",
        "CXX, CXY, CYY = np.identity(nx), np.zeros((nx, ny)), np.identity(ny)\n",
        "mu = np.hstack([muX, muY])\n",
        "C = np.block([[CXX, CXY], [CXY.T, CYY]])\n",
        "XY = gen.multivariate_normal(mu, C, size=1000000)\n",
        "mu, C = gauss_conditional_measured(XY[:, :nx], XY[:, nx:], y)\n",
        "assert np.allclose(np.round(mu, 2), [0, 0])\n",
        "print(np.round(C, 2))\n",
        "assert np.allclose(np.round(C, 2), [[1, 0], [0, 1]])\n",
        "\n",
        "# Repeat the second test above, but numerically this time.\n",
        "y, muX, muY = np.array([1, 2]), np.array([3, 2, 1]), np.array([0, 0])\n",
        "CXX, CXY, CYY = np.array([[2, 0, 1], [0, 1, 0], [1, 0, 1]]), np.zeros((3, 2)), np.array([[1, 1], [1, 2]])\n",
        "mu = np.hstack([muX, muY])\n",
        "C = np.block([[CXX, CXY], [CXY.T, CYY]])\n",
        "XY = gen.multivariate_normal(mu, C, size=1000000)\n",
        "mu, C = gauss_conditional_measured(XY[:, :3], XY[:, 3:], y)\n",
        "assert np.allclose(np.round(mu, 2), [3, 2, 1])\n",
        "assert np.allclose(np.round(C, 2), [[ 2, 0, 1],  [0, 1, 0], [1, 0, 1]])"
      ]
    }
  ],
  "metadata": {
    "kernelspec": {
      "display_name": "Python 3 (ipykernel)",
      "language": "python",
      "name": "python3"
    },
    "language_info": {
      "codemirror_mode": {
        "name": "ipython",
        "version": 3
      },
      "file_extension": ".py",
      "mimetype": "text/x-python",
      "name": "python",
      "nbconvert_exporter": "python",
      "pygments_lexer": "ipython3",
      "version": "3.11.2"
    },
    "colab": {
      "provenance": []
    }
  },
  "nbformat": 4,
  "nbformat_minor": 0
}