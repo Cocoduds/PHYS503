{
  "cells": [
    {
      "cell_type": "markdown",
      "metadata": {
        "id": "vj06AfoavR5U"
      },
      "source": [
        "# Homework 07: Markov Chains"
      ]
    },
    {
      "cell_type": "code",
      "execution_count": 1,
      "metadata": {
        "id": "7UgH9yeKvR5X"
      },
      "outputs": [],
      "source": [
        "%matplotlib inline\n",
        "import matplotlib.pyplot as plt\n",
        "import seaborn as sns; sns.set()\n",
        "import numpy as np\n",
        "import pandas as pd"
      ]
    },
    {
      "cell_type": "markdown",
      "metadata": {
        "id": "iO5thOnlvR5Y"
      },
      "source": [
        "## <span style=\"color:Orange\">Problem 1</span>"
      ]
    },
    {
      "cell_type": "markdown",
      "metadata": {
        "id": "CUuBom1PvR5Y"
      },
      "source": [
        "We showed in class that a Markov chain can have long-range dependencies,\n",
        "$$\n",
        "P(X_n\\mid X_{n-k}) \\ne P(X_n) \\; ,\n",
        "$$\n",
        "and commented that dependent random variables are usually, but not necessarily, correlated:\n",
        "$$\n",
        "\\rho \\equiv \\frac{\\langle (X_n - \\mu) (X_{n-k} - \\mu)\\rangle}{\\sigma^2} \\ne 0 \\; ,\n",
        "$$\n",
        "where $\\mu$ and $\\sigma$ are the chain's long-term mean and standard deviation, respectively.\n",
        "\n",
        "However, it is possible to define (fairly artificial) distributions with dependent random variables that are uncorrelated.  For example:\n",
        " - $x_1$ is uniformly distributed in $[-1,+1]$.\n",
        " - $x_2 = |x_1|$.\n",
        "\n",
        "Implement the function below to generate a dataset with these two features. Hints:\n",
        " - Use `uniform()` to generate values of $x_1$.\n",
        " - Use `np.corrcoef()` to calculate the correlation coefficient $\\rho$."
      ]
    },
    {
      "cell_type": "code",
      "execution_count": 26,
      "metadata": {
        "nbgrader": {
          "grade": false,
          "grade_id": "cell-79b54173f8b574ad",
          "locked": false,
          "schema_version": 1,
          "solution": true
        },
        "id": "KezdNF8wvR5Z"
      },
      "outputs": [],
      "source": [
        "def generate(n, seed):\n",
        "    \"\"\"Generate a dataset with two dependent but uncorrelated features.\n",
        "\n",
        "    Parameters\n",
        "    ----------\n",
        "    n : int\n",
        "        Number of samples to generate.\n",
        "    seed : int\n",
        "        Seed to use for reproducible random numbers.\n",
        "\n",
        "    Returns\n",
        "    -------\n",
        "    tuple\n",
        "        Tuple (X, rho) of generated data X with shape (n, 2) and the\n",
        "        correlation coefficient rho of the generated data.\n",
        "    \"\"\"\n",
        "    np.random.seed(seed)\n",
        "    x1 = np.random.uniform(-1,1, size = n)\n",
        "    x2 = np.abs(x1)\n",
        "    X = np.array(list(zip(x1,x2)))\n",
        "    rho = np.corrcoef(x1,x2)[0,1]\n",
        "    return X, rho"
      ]
    },
    {
      "cell_type": "code",
      "execution_count": 27,
      "metadata": {
        "nbgrader": {
          "grade": true,
          "grade_id": "cell-4b9d7eed563290ad",
          "locked": true,
          "points": 1,
          "schema_version": 1,
          "solution": false
        },
        "id": "yTCPgE-TvR5Z"
      },
      "outputs": [],
      "source": [
        "# A correct solution should pass these tests.\n",
        "X, _ = generate(n=3, seed=1)\n",
        "assert np.all(np.round(X, 3) == [[-0.166,  0.166], [ 0.441,  0.441], [-1.000,  1.000]])\n",
        "X, _ = generate(n=3, seed=2)\n",
        "assert np.all(np.round(X, 3) == [[-0.128,  0.128], [-0.948,  0.948], [ 0.099,  0.099]])\n",
        "_, rho = generate(n=10000, seed=3)\n",
        "assert np.abs(rho) < 0.002"
      ]
    },
    {
      "cell_type": "markdown",
      "metadata": {
        "id": "e-RoGJT0vR5Z"
      },
      "source": [
        "You have now demonstrated that $\\rho \\simeq 0$, and a plot of this dataset should convince you that $x_1$ and $x_2$ are (highly) dependent:"
      ]
    },
    {
      "cell_type": "code",
      "execution_count": 28,
      "metadata": {
        "id": "SEe0WjtSvR5a",
        "outputId": "0dbf64dd-c562-4387-8909-e458126bfe94",
        "colab": {
          "base_uri": "https://localhost:8080/",
          "height": 458
        }
      },
      "outputs": [
        {
          "output_type": "display_data",
          "data": {
            "text/plain": [
              "<Figure size 640x480 with 1 Axes>"
            ],
            "image/png": "[encoded data removed]"
          },
          "metadata": {}
        }
      ],
      "source": [
        "X, rho = generate(n=50, seed=4)\n",
        "plt.scatter(X[:, 0], X[:, 1], s=5)\n",
        "plt.xlabel('$x$'); plt.ylabel('$y$')\n",
        "plt.text(-0.22, 0.9, '$\\\\rho = {:.3f}$'.format(rho), fontsize='x-large');"
      ]
    },
    {
      "cell_type": "markdown",
      "metadata": {
        "id": "FJkxt3YjvR5a"
      },
      "source": [
        "## <span style=\"color:Orange\">Problem 2</span>"
      ]
    },
    {
      "cell_type": "markdown",
      "metadata": {
        "id": "_p0QuEv6vR5a"
      },
      "source": [
        "In this problem, you will implement a Metropolis update rule to sample a Markov chain for the un-normalized probability density:\n",
        "$$\n",
        "P(x, y) \\propto \\frac{1}{2} \\exp\\left[-\\frac{(x/s)^2 + (y s)^2}{2}\\right] +\n",
        "\\frac{1}{2} \\exp\\left[-\\frac{(x s)^2 + (y/s)^2}{2}\\right]\n",
        "$$\n",
        "with hyperparameter $s > 0$."
      ]
    },
    {
      "cell_type": "code",
      "execution_count": null,
      "metadata": {
        "id": "K2GNI3BOvR5a"
      },
      "outputs": [],
      "source": [
        "def P(x,y,s):\n",
        "    return 0.5 * (np.exp(-0.5 * ((x / s) ** 2 + (y * s) ** 2)) + np.exp(-0.5 * ((x * s) ** 2 + (y / s) ** 2)))"
      ]
    },
    {
      "cell_type": "code",
      "execution_count": null,
      "metadata": {
        "id": "TuadIBskvR5b"
      },
      "outputs": [],
      "source": [
        "def plot_P(s=3, lim=5):\n",
        "    fig = plt.figure(figsize=(6, 6))\n",
        "    xy = np.linspace(-lim, +lim, 250)\n",
        "    Pxy = P(xy, xy[:, np.newaxis], s)\n",
        "    plt.contour(xy, xy, Pxy, [0.1, 0.2, 0.3], colors='r')\n",
        "\n",
        "plot_P()"
      ]
    },
    {
      "cell_type": "markdown",
      "metadata": {
        "id": "Wiqm6GO7vR5b"
      },
      "source": [
        "Implement the function below to perform a Metropolis update starting from $(x,y)$ and using a Gaussian proposal distribution $Q(x,y)$ centered at $(0,0)$ with standard deviation $\\sigma$ along both coordinates. Use the \"random walk\" mode for your proposed updates.  (Recall that Metropolis updates are a special case of Metropolis-Hastings updates where the ratio of $Q$ factors cancels in the Hastings ratio.)"
      ]
    },
    {
      "cell_type": "code",
      "execution_count": null,
      "metadata": {
        "nbgrader": {
          "grade": false,
          "grade_id": "cell-02eb16e37fcf88d5",
          "locked": false,
          "schema_version": 1,
          "solution": true
        },
        "id": "M4iL1fyTvR5b"
      },
      "outputs": [],
      "source": [
        "def metropolis_update(x, y, s, gen, sigma=1):\n",
        "    \"\"\"Perform a single Metropolis update.\n",
        "\n",
        "    Parameters\n",
        "    ----------\n",
        "    x : float\n",
        "        Value of x from the previous step.\n",
        "    y : float\n",
        "        Value of y from the previous step.\n",
        "    s : float\n",
        "        Value of the hyperparameter s.\n",
        "    gen : np.random.RandomState\n",
        "        Random state to use for reproducible random samples.\n",
        "    sigma : float\n",
        "        Standard deviation of the Gaussian proposal distribution Q(x,y).\n",
        "\n",
        "    Returns\n",
        "    -------\n",
        "    tuple\n",
        "        Tuple (x,y) of the position after the update.\n",
        "\n",
        "    \"\"\"\n",
        "    # YOUR CODE HERE\n",
        "    raise NotImplementedError()"
      ]
    },
    {
      "cell_type": "code",
      "execution_count": null,
      "metadata": {
        "nbgrader": {
          "grade": true,
          "grade_id": "cell-47de77e3bd7eede8",
          "locked": true,
          "points": 1,
          "schema_version": 1,
          "solution": false
        },
        "id": "abycLUwEvR5b"
      },
      "outputs": [],
      "source": [
        "# A correct solution should pass these tests.\n",
        "s, n = 3, 1000\n",
        "gen = np.random.RandomState(seed=123)\n",
        "# Generate steps from (0, 0) with sigma=1\n",
        "xy = np.array([metropolis_update(0, 0, s, gen, sigma=1) for i in range(n)])\n",
        "nrepeat = np.count_nonzero(np.all(xy == [0, 0], axis=1))\n",
        "assert np.allclose(nrepeat / n, 0.69967, atol=0.1, rtol=0.1)\n",
        "assert np.allclose(np.mean(xy, axis=0), [0, 0], atol=0.1, rtol=0.1)\n",
        "# Generate steps from (5, 0) with sigma=1\n",
        "xy = np.array([metropolis_update(5, 0, s, gen, sigma=1) for i in range(n)])\n",
        "nrepeat = np.count_nonzero(np.all(xy == [5, 0], axis=1))\n",
        "assert np.allclose(nrepeat / n, 0.70136, atol=0.1, rtol=0.1)\n",
        "assert np.allclose(np.mean(xy, axis=0), [4.893, 0], atol=0.1, rtol=0.1)\n",
        "# Generate steps from (1, -1) with sigma=1\n",
        "xy = np.array([metropolis_update(1, -1, s, gen, sigma=1) for i in range(n)])\n",
        "nrepeat = np.count_nonzero(np.all(xy == [1, -1], axis=1))\n",
        "assert np.allclose(nrepeat / n, 0.26665, atol=0.1, rtol=0.1)\n",
        "assert np.allclose(np.mean(xy, axis=0), [0.822, -0.822], atol=0.1, rtol=0.1)\n",
        "# Generate steps from (1, -1) with sigma=2\n",
        "xy = np.array([metropolis_update(1, -1, s, gen, sigma=2) for i in range(n)])\n",
        "nrepeat = np.count_nonzero(np.all(xy == [1, -1], axis=1))\n",
        "assert np.allclose(nrepeat / n, 0.43847, atol=0.1, rtol=0.1)\n",
        "assert np.allclose(np.mean(xy, axis=0), [0.781, -0.781], atol=0.1, rtol=0.1)"
      ]
    },
    {
      "cell_type": "markdown",
      "metadata": {
        "id": "dCsS5wVOvR5b"
      },
      "source": [
        "Test your solution with the following visualization:"
      ]
    },
    {
      "cell_type": "code",
      "execution_count": null,
      "metadata": {
        "id": "cTrqUN8uvR5b"
      },
      "outputs": [],
      "source": [
        "def plot_chain(update_rule, x0=0, y0=0, s=3, n_updates=200, lim=5, seed=123, **kwargs):\n",
        "    gen = np.random.RandomState(seed=seed)\n",
        "    path = [(x0, y0)]\n",
        "    for i in range(n_updates):\n",
        "        path.append(update_rule(*path[-1], s, gen, **kwargs))\n",
        "    plot_P(s, lim)\n",
        "    x, y = np.array(path).T\n",
        "    plt.scatter(x, y, s=10, c='k')\n",
        "    plt.plot(x, y, 'k-', lw=0.5, alpha=0.3)\n",
        "    plt.xlim(-lim, +lim)\n",
        "    plt.ylim(-lim, +lim)\n",
        "    plt.xlabel('$x$')\n",
        "    plt.ylabel('$y$')"
      ]
    },
    {
      "cell_type": "code",
      "execution_count": null,
      "metadata": {
        "id": "MdhivxLpvR5c"
      },
      "outputs": [],
      "source": [
        "plot_chain(metropolis_update, sigma=2.0)"
      ]
    },
    {
      "cell_type": "code",
      "execution_count": null,
      "metadata": {
        "id": "8se3kKravR5c"
      },
      "outputs": [],
      "source": [
        "plot_chain(metropolis_update, sigma=1.0)"
      ]
    },
    {
      "cell_type": "code",
      "execution_count": null,
      "metadata": {
        "id": "W55VgH19vR5c"
      },
      "outputs": [],
      "source": [
        "plot_chain(metropolis_update, sigma=0.5)"
      ]
    },
    {
      "cell_type": "markdown",
      "metadata": {
        "id": "9D0APJZIvR5c"
      },
      "source": [
        "## <span style=\"color:Orange\">Problem 3</span>"
      ]
    },
    {
      "cell_type": "markdown",
      "metadata": {
        "id": "M4Z-H5zAvR5c"
      },
      "source": [
        "In this problem you will implement a Gibbs update rule for the same probability density.\n",
        "\n",
        "Implement the function below to sample from the conditional distribution $P(x\\mid y)$. Hint: each sample can be drawn from a single Gaussian with $\\sigma = s$ or $\\sigma = 1/s$ as long as you weight the contributions from each Gaussian correctly given $y$."
      ]
    },
    {
      "cell_type": "code",
      "execution_count": null,
      "metadata": {
        "nbgrader": {
          "grade": false,
          "grade_id": "cell-818e424d9b7bf842",
          "locked": false,
          "schema_version": 1,
          "solution": true
        },
        "id": "vgSnRBQYvR5c"
      },
      "outputs": [],
      "source": [
        "def sample_conditional(y, s, gen):\n",
        "    \"\"\"Sample from the conditional distribution P(x | y).\n",
        "\n",
        "    Parameters\n",
        "    ----------\n",
        "    y : float\n",
        "        Fixed value of y to use.\n",
        "    s : float\n",
        "        Value of the hyperparameter s.\n",
        "    gen : np.random.RandomState\n",
        "        Random state to use for reproducible random samples.\n",
        "\n",
        "    Returns\n",
        "    -------\n",
        "    float\n",
        "        Random value of x sampled from P(x | y).\n",
        "    \"\"\"\n",
        "    # YOUR CODE HERE\n",
        "    raise NotImplementedError()"
      ]
    },
    {
      "cell_type": "code",
      "execution_count": null,
      "metadata": {
        "nbgrader": {
          "grade": true,
          "grade_id": "cell-1e27ab2b8bb8f7ee",
          "locked": true,
          "points": 1,
          "schema_version": 1,
          "solution": false
        },
        "id": "pto97mYOvR5c"
      },
      "outputs": [],
      "source": [
        "# A correct solution should pass these tests.\n",
        "s, n = 3, 10000\n",
        "gen = np.random.RandomState(seed=123)\n",
        "# With y=+/-4, the distribution of x should be narrow.\n",
        "x = [sample_conditional(+4, s, gen) for i in range(n)]\n",
        "assert np.allclose(np.percentile(x, (5, 50, 95)), [-0.549, 0, +0.549], atol=0.1, rtol=0.1)\n",
        "x = [sample_conditional(-4, s, gen) for i in range(n)]\n",
        "assert np.allclose(np.percentile(x, (5, 50, 95)), [-0.549, 0, +0.549], atol=0.1, rtol=0.1)\n",
        "# With y=0, the distribution of x should have a narrow core and a wide tail.\n",
        "x = [sample_conditional(0, s, gen) for i in range(n)]\n",
        "assert np.allclose(np.percentile(x, (5, 25, 50, 75, 95)), [-3.84, -0.50, 0, +0.50, +3.84], atol=0.1, rtol=0.1)"
      ]
    },
    {
      "cell_type": "markdown",
      "metadata": {
        "id": "6qOm3RoRvR5c"
      },
      "source": [
        "Implement the function below to perform a Gibbs update consisting of:\n",
        " - Sample $x_{n+1}$ from $P_X(x\\mid y_n)$\n",
        " - Sample $y_{n+1}$ from $P_Y(y\\mid x_{n+1})$\n",
        "\n",
        "Note that you can use `sample_conditional()` for both steps by noticing that $P_Y(y\\mid x)$ equals $P_X(x\\mid y)$ when $x$ and $y$ are swapped."
      ]
    },
    {
      "cell_type": "code",
      "execution_count": null,
      "metadata": {
        "nbgrader": {
          "grade": false,
          "grade_id": "cell-5b4ffb40027224e6",
          "locked": false,
          "schema_version": 1,
          "solution": true
        },
        "id": "nXzGToQ3vR5c"
      },
      "outputs": [],
      "source": [
        "def gibbs_update(x, y, s, gen):\n",
        "    \"\"\"Perform a single Gibbs update.\n",
        "\n",
        "    Parameters\n",
        "    ----------\n",
        "    x : float\n",
        "        Value of x from the previous step.\n",
        "    y : float\n",
        "        Value of y from the previous step.\n",
        "    s : float\n",
        "        Value of the hyperparameter s.\n",
        "    gen : np.random.RandomState\n",
        "        Random state to use for reproducible random samples.\n",
        "\n",
        "    Returns\n",
        "    -------\n",
        "    tuple\n",
        "        Tuple (x,y) of the position after the update.\n",
        "    \"\"\"\n",
        "    # YOUR CODE HERE\n",
        "    raise NotImplementedError()"
      ]
    },
    {
      "cell_type": "code",
      "execution_count": null,
      "metadata": {
        "nbgrader": {
          "grade": true,
          "grade_id": "cell-e90dc911508f02b9",
          "locked": true,
          "points": 1,
          "schema_version": 1,
          "solution": false
        },
        "id": "uq38mwUYvR5d"
      },
      "outputs": [],
      "source": [
        "# A correct solution should pass these tests.\n",
        "s, n = 3, 10000\n",
        "gen = np.random.RandomState(seed=123)\n",
        "# Generate steps from (0,0).\n",
        "xy = np.array([gibbs_update(0, 0, s, gen) for i in range(n)])\n",
        "assert np.allclose(\n",
        "    np.percentile(xy[:, 0], (5, 25, 50, 75, 95)),\n",
        "    [-3.849, -0.502, 0, +0.502, +3.849], atol=0.1, rtol=0.1)\n",
        "assert np.allclose(\n",
        "    np.percentile(xy[:, 1], (5, 25, 50, 75, 95)),\n",
        "    [-2.36, -0.297, 0, +0.297, +2.36], atol=0.1, rtol=0.1)\n",
        "# Steps from (5,0) have the same distribution.\n",
        "xy = np.array([gibbs_update(5, 0, s, gen) for i in range(n)])\n",
        "assert np.allclose(\n",
        "    np.percentile(xy[:, 0], (5, 25, 50, 75, 95)),\n",
        "    [-3.849, -0.502, 0, +0.502, +3.849], atol=0.1, rtol=0.1)\n",
        "assert np.allclose(\n",
        "    np.percentile(xy[:, 1], (5, 25, 50, 75, 95)),\n",
        "    [-2.36, -0.297, 0, +0.297, +2.36], atol=0.1, rtol=0.1)\n",
        "# Steps from (0,-5) have a different distribution.\n",
        "xy = np.array([gibbs_update(0, -5, s, gen) for i in range(n)])\n",
        "assert np.allclose(\n",
        "    np.percentile(xy[:, 0], (5, 25, 50, 75, 95)),\n",
        "    [-0.548, -0.225, 0, +0.225, +0.548], atol=0.1, rtol=0.1)\n",
        "assert np.allclose(\n",
        "    np.percentile(xy[:, 1], (5, 25, 50, 75, 95)),\n",
        "    [-3.42, -0.391, 0, +0.391, +3.42], atol=0.1, rtol=0.1)"
      ]
    },
    {
      "cell_type": "markdown",
      "metadata": {
        "id": "cZDo0EocvR5d"
      },
      "source": [
        "Test your solution with the following visualization:"
      ]
    },
    {
      "cell_type": "code",
      "execution_count": null,
      "metadata": {
        "id": "t6zJKAvJvR5d"
      },
      "outputs": [],
      "source": [
        "plot_chain(gibbs_update)"
      ]
    },
    {
      "cell_type": "markdown",
      "metadata": {
        "id": "gBh2jbSbvR5d"
      },
      "source": [
        "## <span style=\"color:Orange\">Problem 4</span>"
      ]
    },
    {
      "cell_type": "markdown",
      "metadata": {
        "id": "zPs-1q2PvR5d"
      },
      "source": [
        "If we define the potential energy for a \"particle\" as:\n",
        "$$\n",
        "U(x,y) \\equiv -\\log P(x,y)\n",
        "$$\n",
        "it has partial derivatives:\n",
        "$$\n",
        "\\frac{\\partial}{\\partial x} U(x,y) = x\\, \\frac{E_1 / s^2 + E_2 s^2}{E_1 + E_2} \\quad, \\quad\n",
        "\\frac{\\partial}{\\partial y} U(x,y) = y\\, \\frac{E_1 s^2 + E_2 / s^2}{E_1 + E_2}\n",
        "$$\n",
        "with\n",
        "$$\n",
        "E_1(x,y) \\equiv \\frac{1}{2} \\exp\\left[-\\frac{(x/s)^2 + (y s)^2}{2}\\right] \\quad, \\quad\n",
        "E_2(x,y) \\equiv \\frac{1}{2} \\exp\\left[-\\frac{(x s)^2 + (y/s)^2}{2}\\right] \\; .\n",
        "$$\n",
        "A Hamiltonian MC simulates the trajectory of a particle using the equations of motion:\n",
        "$$\n",
        "x \\rightarrow x + p_x \\Delta t \\quad, \\quad\n",
        "y \\rightarrow y + p_y \\Delta t \\quad, \\quad\n",
        "p_x \\rightarrow p_x - \\frac{\\partial}{\\partial x} U(x,y) \\Delta t \\quad, \\quad\n",
        "p_y \\rightarrow p_y - \\frac{\\partial}{\\partial y} U(x,y) \\Delta t \\; ,\n",
        "$$\n",
        "where we have set all masses equal to 1 and the temperature $k_B T = 1$.\n",
        "\n",
        "Implement the function below to perform a single $\\Delta t$ step according to the equations above:"
      ]
    },
    {
      "cell_type": "code",
      "execution_count": null,
      "metadata": {
        "nbgrader": {
          "grade": false,
          "grade_id": "cell-da1dd84022871b35",
          "locked": false,
          "schema_version": 1,
          "solution": true
        },
        "id": "HSPqHS0OvR5e"
      },
      "outputs": [],
      "source": [
        "def HMC_step(x, y, px, py, s, dt):\n",
        "    \"\"\"Perform a single HMC dt step.\n",
        "\n",
        "    Parameters\n",
        "    ----------\n",
        "    x : float\n",
        "        Current x position.\n",
        "    y : float\n",
        "        Current y position.\n",
        "    px : float\n",
        "        Current x momentum.\n",
        "    py : float\n",
        "        Current y momentum.\n",
        "    s : float\n",
        "        Value of the hyperparameter s.\n",
        "    dt : float\n",
        "        Step size to take.\n",
        "\n",
        "    Returns\n",
        "    -------\n",
        "    tuple\n",
        "        Tuple (x, y, px, py) with particle position and momentum after this step.\n",
        "    \"\"\"\n",
        "    # YOUR CODE HERE\n",
        "    raise NotImplementedError()"
      ]
    },
    {
      "cell_type": "code",
      "execution_count": null,
      "metadata": {
        "nbgrader": {
          "grade": true,
          "grade_id": "cell-cb621aef67d0a0d0",
          "locked": true,
          "points": 1,
          "schema_version": 1,
          "solution": false
        },
        "id": "VtESj-lEvR5e"
      },
      "outputs": [],
      "source": [
        "# A correct solution should pass these tests.\n",
        "assert np.all(HMC_step(0., 0., 0., 0., 3, 1.) == np.array([0.,0.,0.,0.]))\n",
        "assert np.all(HMC_step(0., 0., 1., 1., 3, 0.) == np.array([0.,0.,1.,1.]))\n",
        "assert np.all(HMC_step(0., 0., 1., 1., 3, 1.) == np.array([1.,1.,1.,1.]))\n",
        "assert np.all(HMC_step(0., 0., 1., 1., 3, 2.) == np.array([2.,2.,1.,1.]))\n",
        "assert np.all(np.round(HMC_step(1., 1., -1., 1., 3, 1.), 3) == np.array([0.,2.,-5.556,-3.556]))\n",
        "assert np.all(np.round(HMC_step(0., 1., -1., 1., 3, 1.), 3) == np.array([-1.,2.,-1.,0.786]))\n",
        "assert np.all(np.round(HMC_step(1., 0., -1., 1., 3, 1.), 3) == np.array([0.,1.,-1.214,1.]))"
      ]
    },
    {
      "cell_type": "markdown",
      "metadata": {
        "id": "w53AneqNvR5e"
      },
      "source": [
        "In order to perform an HMC update, we first need to generate random values of the (nuisance) parameters $p_x$ and $p_y$, then we follow the resulting particle from its initial conditions through a fixed number of steps. The result of the update is wherever the particle ends up. Note that the only use of random numbers is to generate the particle's initial momentum."
      ]
    },
    {
      "cell_type": "code",
      "execution_count": null,
      "metadata": {
        "id": "I2X7d05YvR5e"
      },
      "outputs": [],
      "source": [
        "def HMC_update(x0, y0, s, gen, p_sigma, n_steps, dt):\n",
        "    \"\"\"Perform a single HMC update by following a single particle for a fixed time.\n",
        "\n",
        "    Parameters\n",
        "    ----------\n",
        "    x0 : float\n",
        "        Initial x position.\n",
        "    y0 : float\n",
        "        Initial y position.\n",
        "    s : float\n",
        "        Value of the hyperparameter s.\n",
        "    gen : np.random.RandomState\n",
        "        Random state to use for reproducible random samples.\n",
        "    p_sigma : float\n",
        "        Gaussian sigma for generating random initial (px,py) values.\n",
        "    n_steps : int\n",
        "        Number of particle steps to simulate.\n",
        "    dt : float\n",
        "        Size of each step.\n",
        "\n",
        "    Returns\n",
        "    -------\n",
        "    array\n",
        "        Array of shape (n_steps + 1, 4) with the particle position and momentum after each step.\n",
        "    \"\"\"\n",
        "    px0, py0 = gen.normal(scale=p_sigma, size=2)\n",
        "    path = [(x0, y0, px0, py0)]\n",
        "    for i in range(n_steps):\n",
        "        path.append(HMC_step(*path[-1], s, dt))\n",
        "    return np.array(path)"
      ]
    },
    {
      "cell_type": "markdown",
      "metadata": {
        "id": "zZoJAIOCvR5e"
      },
      "source": [
        "Finally, use the following visualization to see the particle trajectories from different updates:"
      ]
    },
    {
      "cell_type": "code",
      "execution_count": null,
      "metadata": {
        "id": "DPo8b6ZtvR5e"
      },
      "outputs": [],
      "source": [
        "def plot_HMC(x0=0, y0=0, s=3, p_sigma=1., n_steps=500, dt=0.01, n_updates=50, lim=5, seed=3, **kwargs):\n",
        "    gen = np.random.RandomState(seed=seed)\n",
        "    plot_P(s, lim)\n",
        "    for i in range(n_updates):\n",
        "        path = HMC_update(x0, y0, s, gen, p_sigma, n_steps, dt)\n",
        "        x, y, px, py = np.array(path).T\n",
        "        plt.scatter(x[-1], y[-1], s=25, c='k')\n",
        "        plt.plot(x, y, 'b-', lw=1, alpha=0.3)\n",
        "    plt.xlim(-lim, +lim)\n",
        "    plt.ylim(-lim, +lim)\n",
        "    plt.xlabel('$x$')\n",
        "    plt.ylabel('$y$')\n",
        "\n",
        "plot_HMC()"
      ]
    }
  ],
  "metadata": {
    "celltoolbar": "Create Assignment",
    "kernelspec": {
      "display_name": "Python 3 (ipykernel)",
      "language": "python",
      "name": "python3"
    },
    "language_info": {
      "codemirror_mode": {
        "name": "ipython",
        "version": 3
      },
      "file_extension": ".py",
      "mimetype": "text/x-python",
      "name": "python",
      "nbconvert_exporter": "python",
      "pygments_lexer": "ipython3",
      "version": "3.11.2"
    },
    "colab": {
      "provenance": []
    }
  },
  "nbformat": 4,
  "nbformat_minor": 0
}