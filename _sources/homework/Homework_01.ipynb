{
  "cells": [
    {
      "cell_type": "markdown",
      "metadata": {
        "id": "Y42wf0uhlR24"
      },
      "source": [
        "# Homework 01: Numerical python and data handling"
      ]
    },
    {
      "cell_type": "code",
      "execution_count": 7,
      "metadata": {
        "id": "HNG_2KfhlR3B"
      },
      "outputs": [],
      "source": [
        "%matplotlib inline\n",
        "import matplotlib.pyplot as plt\n",
        "import seaborn as sns; sns.set()\n",
        "import numpy as np\n",
        "import pandas as pd\n",
        "import os.path\n",
        "import subprocess"
      ]
    },
    {
      "cell_type": "code",
      "execution_count": 8,
      "metadata": {
        "id": "nSEsE5aelR3F"
      },
      "outputs": [],
      "source": [
        "def wget_data(url):\n",
        "    local_path='./tmp_data'\n",
        "    subprocess.run([\"wget\", \"-nc\", \"-P\", local_path, url])"
      ]
    },
    {
      "cell_type": "code",
      "execution_count": 9,
      "metadata": {
        "id": "KU0CesIQlR3H"
      },
      "outputs": [],
      "source": [
        "def locate_data(name, check_exists=True):\n",
        "    local_path='./tmp_data'\n",
        "    path = os.path.join(local_path, name)\n",
        "    if check_exists and not os.path.exists(path):\n",
        "        raise RuntimeError('No such data file: {}'.format(path))\n",
        "    return path"
      ]
    },
    {
      "cell_type": "markdown",
      "metadata": {
        "id": "eFd2pa-xlR3J"
      },
      "source": [
        "## Problem 1"
      ]
    },
    {
      "cell_type": "markdown",
      "metadata": {
        "id": "dFtWM8r5lR3K"
      },
      "source": [
        "Use `np.einsum` to evaluate the tensor expression $g^{il} \\Gamma^m_{ki} x^k$ which arises in [contravariant derivatives in General Relativity](https://en.wikipedia.org/wiki/Christoffel_symbols#Covariant_derivatives_of_tensors).  Note we are using the GR convention that repeated indices (k,l) are summed over."
      ]
    },
    {
      "cell_type": "code",
      "execution_count": 10,
      "metadata": {
        "deletable": false,
        "nbgrader": {
          "checksum": "67ebba3716136199857aaeefd0595675",
          "grade": false,
          "grade_id": "cell-b10c5a1cfe3128da",
          "locked": false,
          "schema_version": 1,
          "solution": true
        },
        "id": "Wwlgfyx3lR3L"
      },
      "outputs": [],
      "source": [
        "def tensor_expr(g, Gamma, x, D=4):\n",
        "    \"\"\"Evaluate the tensor expression above.\n",
        "\n",
        "    Parameters\n",
        "    ----------\n",
        "    g : array\n",
        "        Numpy array of shape (D, D)\n",
        "    Gamma : array\n",
        "        Numpy array of shape (D, D, D)\n",
        "    x : array\n",
        "        Numpy array of shape (D,)\n",
        "    D : int\n",
        "        Dimension of input tensors.\n",
        "\n",
        "    Returns\n",
        "    -------\n",
        "    array\n",
        "        Numpy array of shape (D, D) that evaluates the tensor expression.\n",
        "    \"\"\"\n",
        "    assert g.shape == (D, D)\n",
        "    assert Gamma.shape == (D, D, D)\n",
        "    assert x.shape == (D,)\n",
        "\n",
        "    # YOUR CODE HERE\n",
        "    return np.einsum('il, mki, k -> lm', g, Gamma, x)"
      ]
    },
    {
      "cell_type": "code",
      "execution_count": 11,
      "metadata": {
        "deletable": false,
        "editable": false,
        "nbgrader": {
          "checksum": "f91f3472db3a535b4aa76494682b0bbd",
          "grade": true,
          "grade_id": "cell-dc1412e0ed9e3c8f",
          "locked": true,
          "points": 1,
          "schema_version": 1,
          "solution": false
        },
        "colab": {
          "base_uri": "https://localhost:8080/"
        },
        "id": "DXZ-RBoGlR3N",
        "outputId": "4c9e66bd-83d7-4d66-833c-a9f624e5721a"
      },
      "outputs": [
        {
          "output_type": "stream",
          "name": "stdout",
          "text": [
            "[[ 1680  3984  6288  8592]\n",
            " [ 1940  4628  7316 10004]\n",
            " [ 2200  5272  8344 11416]\n",
            " [ 2460  5916  9372 12828]]\n"
          ]
        }
      ],
      "source": [
        "# A correct solution should pass these tests.\n",
        "g = np.arange(4 ** 2).reshape(4, 4)\n",
        "Gamma = np.arange(4 ** 3).reshape(4, 4, 4)\n",
        "x = np.arange(4)\n",
        "y = tensor_expr(g, Gamma, x)\n",
        "print(y)\n",
        "assert np.array_equal(\n",
        "    y,\n",
        "    [[ 1680,  3984,  6288,  8592], [ 1940,  4628,  7316, 10004],\n",
        "     [ 2200,  5272,  8344, 11416], [ 2460,  5916,  9372, 12828]])"
      ]
    },
    {
      "cell_type": "markdown",
      "metadata": {
        "id": "LtS5mws9lR3Q"
      },
      "source": [
        "## Problem 2"
      ]
    },
    {
      "cell_type": "markdown",
      "metadata": {
        "id": "uMlxvoDflR3S"
      },
      "source": [
        "Use `np.histogram` to calculate the fraction of values in an arbitrary input data array that lie in each of the 10 intervals \\[0.0, 0.1), \\[0.1, 0.2), ..., \\[0.9, 1.0). You can assume that all input values are in the range \\[0,1). This is a useful technique to estimate the probability density that the data was sampled from."
      ]
    },
    {
      "cell_type": "code",
      "execution_count": 12,
      "metadata": {
        "deletable": false,
        "nbgrader": {
          "checksum": "0af6aa7170b9f78496e1dbfd925016db",
          "grade": false,
          "grade_id": "cell-366b67031512bdaa",
          "locked": false,
          "schema_version": 1,
          "solution": true
        },
        "id": "TNZn6L8qlR3U"
      },
      "outputs": [],
      "source": [
        "def estimate_probability_density(data, bins):\n",
        "    \"\"\"Estimate the probability density of arbitrary data.\n",
        "\n",
        "    Parameters\n",
        "    ----------\n",
        "    data : array\n",
        "        1D numpy array of random values.\n",
        "    bins : array\n",
        "        1D numpy array of N+1 bin edges to use. Must be increasing.\n",
        "\n",
        "    Returns\n",
        "    -------\n",
        "    array\n",
        "        1D numpy array of N probability densities.\n",
        "    \"\"\"\n",
        "    assert np.all(np.diff(bins) > 0)\n",
        "\n",
        "    # YOUR CODE HERE\n",
        "    hist, bin_edges = np.histogram(data,bins)\n",
        "    print((np.roll(bin_edges, -1) - bin_edges))\n",
        "    bin_widths = np.array(np.roll(bin_edges, -1) - bin_edges)[:len(hist)]\n",
        "    probability = hist/len(data)/bin_widths\n",
        "    return probability"
      ]
    },
    {
      "cell_type": "code",
      "execution_count": 13,
      "metadata": {
        "deletable": false,
        "editable": false,
        "nbgrader": {
          "checksum": "f5029940f395172b2bbf68f048632eec",
          "grade": true,
          "grade_id": "cell-3add23f80d497553",
          "locked": true,
          "points": 1,
          "schema_version": 1,
          "solution": false
        },
        "colab": {
          "base_uri": "https://localhost:8080/"
        },
        "id": "YQABL8bilR3W",
        "outputId": "1c2dd265-e193-4f2c-caac-69a7ebde4e63"
      },
      "outputs": [
        {
          "output_type": "stream",
          "name": "stdout",
          "text": [
            "[ 0.1  0.1  0.1  0.1  0.1  0.1  0.1  0.1  0.1  0.1 -1. ]\n",
            "[0.6 0.8 0.7 1.7 1.1 1.3 1.6 0.9 0.8 0.5]\n"
          ]
        }
      ],
      "source": [
        "# A correct solution should pass these tests.\n",
        "generator = np.random.RandomState(seed=123)\n",
        "data = generator.uniform(size=100)\n",
        "bins = np.linspace(0., 1., 11)\n",
        "rho = estimate_probability_density(data, bins)\n",
        "print(rho)\n",
        "assert np.allclose(0.1 * rho.sum(), 1.)\n",
        "assert np.allclose(rho, [ 0.6,  0.8,  0.7,  1.7,  1.1,  1.3,  1.6,  0.9,  0.8,  0.5])"
      ]
    },
    {
      "cell_type": "markdown",
      "metadata": {
        "id": "nDeMEnMBlR3X"
      },
      "source": [
        "## Problem 3"
      ]
    },
    {
      "cell_type": "markdown",
      "metadata": {
        "id": "AS11r9w-lR3Y"
      },
      "source": [
        "Define a function to calculate the [entropy](https://en.wikipedia.org/wiki/Entropy_estimation) $H(\\rho)$ of a binned probability density, defined as:\n",
        "$$\n",
        "H(\\rho) \\equiv -\\sum_i \\rho_i \\log(\\rho_i) \\Delta w_i \\; ,\n",
        "$$\n",
        "where $\\rho_i$ is the binned density in bin $i$ with width $w_i$."
      ]
    },
    {
      "cell_type": "code",
      "execution_count": 14,
      "metadata": {
        "deletable": false,
        "nbgrader": {
          "checksum": "cdacb2d2924ff83259b567883a4832d0",
          "grade": false,
          "grade_id": "cell-49d830408cabc403",
          "locked": false,
          "schema_version": 1,
          "solution": true
        },
        "id": "sSUt5_hLlR3Z"
      },
      "outputs": [],
      "source": [
        "def binned_entropy(rho, bins):\n",
        "    \"\"\"Calculate the binned entropy.\n",
        "\n",
        "    Parameters\n",
        "    ----------\n",
        "    rho : array\n",
        "        1D numpy array of densities, e.g., calculated by the previous function.\n",
        "    bins : array\n",
        "        1D numpy array of N+1 bin edges to use. Must be increasing.\n",
        "\n",
        "    Returns\n",
        "    -------\n",
        "    float\n",
        "        Value of the binned entropy.\n",
        "    \"\"\"\n",
        "    assert np.all(np.diff(bins) > 0)\n",
        "\n",
        "    # YOUR CODE HERE\n",
        "    bin_widths = np.array(np.roll(bins, -1) - bins)[:len(rho)]\n",
        "    print(bin_widths)\n",
        "    entropy = np.sum(rho*np.log(rho)*bin_widths)\n",
        "    print(entropy)\n",
        "    return(-entropy)"
      ]
    },
    {
      "cell_type": "code",
      "execution_count": 15,
      "metadata": {
        "deletable": false,
        "editable": false,
        "nbgrader": {
          "checksum": "2de813a17b08d4d867107f8c4d1b1cee",
          "grade": true,
          "grade_id": "cell-7672bc6e182b3f89",
          "locked": true,
          "points": 1,
          "schema_version": 1,
          "solution": false
        },
        "colab": {
          "base_uri": "https://localhost:8080/"
        },
        "id": "AF3_C0zDlR3a",
        "outputId": "0344a72a-006e-4339-95f5-905688ad4373"
      },
      "outputs": [
        {
          "output_type": "stream",
          "name": "stdout",
          "text": [
            "[ 0.1  0.1  0.1  0.1  0.1  0.1  0.1  0.1  0.1  0.1 -1. ]\n",
            "[ 0.1  0.1  0.1  0.1  0.1  0.1  0.1  0.1  0.1  0.1 -1. ]\n",
            "[0.1 0.1 0.1 0.1 0.1 0.1 0.1 0.1 0.1 0.1]\n",
            "0.0008015440491370906\n",
            "[0.1 0.1 0.1 0.1 0.1 0.1 0.1 0.1 0.1 0.1]\n",
            "0.699349908506402\n"
          ]
        }
      ],
      "source": [
        "\n",
        "# A correct solution should pass these tests.\n",
        "generator = np.random.RandomState(seed=123)\n",
        "data1 = generator.uniform(size=10000)\n",
        "data2 = generator.uniform(size=10000) ** 4\n",
        "bins = np.linspace(0., 1., 11)\n",
        "rho1 = estimate_probability_density(data1, bins)\n",
        "rho2 = estimate_probability_density(data2, bins)\n",
        "H1 = binned_entropy(rho1, bins)\n",
        "H2 = binned_entropy(rho2, bins)\n",
        "assert np.allclose(H1, -0.000801544)\n",
        "assert np.allclose(H2, -0.699349908)"
      ]
    },
    {
      "cell_type": "markdown",
      "metadata": {
        "id": "4kBsu-ldlR3c"
      },
      "source": [
        "## Problem 4"
      ]
    },
    {
      "cell_type": "markdown",
      "metadata": {
        "id": "JwimV78XlR3d"
      },
      "source": [
        "Define a function that reads `pong_data.hf5` and returns a new subset DataFrame containing only the columns `x5`, `y5`, `x7`, `y7` (**in that order**) and only the last 200 rows."
      ]
    },
    {
      "cell_type": "code",
      "execution_count": 16,
      "metadata": {
        "colab": {
          "base_uri": "https://localhost:8080/"
        },
        "id": "LNCmPCpxlR3e",
        "outputId": "8b94a337-f862-42b0-c632-6e09bdd95776"
      },
      "outputs": [
        {
          "output_type": "stream",
          "name": "stdout",
          "text": [
            "           x0        x1        x2        x3        x4        x5        x6  \\\n",
            "0   -0.065289  0.026892  0.116548  0.203748  0.288559  0.371047  0.451275   \n",
            "1    0.104788  0.170583  0.234577  0.296817  0.357352  0.416228  0.473492   \n",
            "2    0.034411  0.114257  0.191914  0.267445  0.340906  0.412355  0.481846   \n",
            "3    0.018970  0.092728  0.164466  0.234239  0.302100  0.368102  0.432295   \n",
            "4    0.102970  0.168359  0.231957  0.293812  0.353973  0.412486  0.469395   \n",
            "..        ...       ...       ...       ...       ...       ...       ...   \n",
            "995  0.098345  0.148411  0.197106  0.244466  0.290529  0.335330  0.378904   \n",
            "996  0.097067  0.150260  0.201996  0.252315  0.301255  0.348855  0.395150   \n",
            "997 -0.161553 -0.089041 -0.018516  0.050077  0.116790  0.181677  0.244785   \n",
            "998 -0.006522  0.075279  0.154840  0.232221  0.307482  0.380682  0.451876   \n",
            "999 -0.027545  0.058443  0.142074  0.223415  0.302527  0.379472  0.454309   \n",
            "\n",
            "           x7        x8        x9   y0        y1        y2        y3  \\\n",
            "0    0.529305  0.605197  0.679010  0.0  0.121093  0.209007  0.264651   \n",
            "1    0.529187  0.583356  0.636041  0.0  0.135630  0.237684  0.307081   \n",
            "2    0.549434  0.615170  0.679105  0.0  0.128678  0.223969  0.286789   \n",
            "3    0.494730  0.555455  0.614516  0.0  0.131896  0.230317  0.296180   \n",
            "4    0.524746  0.578580  0.630940  0.0  0.135807  0.238033  0.307598   \n",
            "..        ...       ...       ...  ...       ...       ...       ...   \n",
            "995  0.421284  0.462503  0.502593  0.0  0.141563  0.249387  0.324396   \n",
            "996  0.440177  0.483971  0.526565  0.0  0.140528  0.247346  0.321376   \n",
            "997  0.306165  0.365863  0.423925  0.0  0.132515  0.231539  0.297989   \n",
            "998  0.521120  0.588466  0.653968  0.0  0.127573  0.221790  0.283565   \n",
            "999  0.527096  0.597888  0.666742  0.0  0.125089  0.216889  0.276314   \n",
            "\n",
            "           y4        y5        y6        y7        y8        y9  \n",
            "0    0.288910  0.282643  0.246687  0.181855  0.088937 -0.031295  \n",
            "1    0.344715  0.351458  0.328154  0.275628  0.194680  0.086088  \n",
            "2    0.318027  0.318548  0.289194  0.230782  0.144110  0.029951  \n",
            "3    0.330379  0.333779  0.307225  0.251537  0.167514  0.055931  \n",
            "4    0.345395  0.352296  0.329146  0.276770  0.195967  0.087517  \n",
            "..        ...       ...       ...       ...       ...       ...  \n",
            "995  0.367489  0.379540  0.361400  0.313895  0.237831  0.133990  \n",
            "996  0.363517  0.374642  0.355601  0.307221  0.230305  0.125635  \n",
            "997  0.332757  0.336711  0.310696  0.255533  0.172020  0.060934  \n",
            "998  0.313786  0.313319  0.283003  0.223656  0.136074  0.021031  \n",
            "999  0.304249  0.301558  0.269079  0.207630  0.118002  0.000969  \n",
            "\n",
            "[1000 rows x 20 columns]\n"
          ]
        }
      ],
      "source": [
        "wget_data('https://courses.physics.illinois.edu/phys503/fa2023/data/pong_data.hf5')\n",
        "pong_data = pd.read_hdf(locate_data('pong_data.hf5'))\n",
        "print(pong_data)"
      ]
    },
    {
      "cell_type": "code",
      "execution_count": 74,
      "metadata": {
        "deletable": false,
        "nbgrader": {
          "checksum": "0e05585740687be735277fb545caa381",
          "grade": false,
          "grade_id": "cell-0cae4a532ac8ed42",
          "locked": false,
          "schema_version": 1,
          "solution": true
        },
        "id": "_SVOjfcdlR3f"
      },
      "outputs": [],
      "source": [
        "def create_subset():\n",
        "    \"\"\"Read pong_data.hf5 and return a subset.\n",
        "    \"\"\"\n",
        "    # YOUR CODE HERE\n",
        "    columns = pong_data[['x5','y5', 'x7', 'y7']]\n",
        "    subset = columns [-200:]\n",
        "    return subset"
      ]
    },
    {
      "cell_type": "code",
      "source": [
        "print(create_subset())"
      ],
      "metadata": {
        "id": "3WJr_mJSKgjb",
        "outputId": "d2d0e686-982e-451f-ee57-5a91783b8e5e",
        "colab": {
          "base_uri": "https://localhost:8080/"
        }
      },
      "execution_count": 75,
      "outputs": [
        {
          "output_type": "stream",
          "name": "stdout",
          "text": [
            "           x5        y5        x7        y7\n",
            "800  0.345902  0.285369  0.502691  0.185569\n",
            "801  0.386747  0.315539  0.525772  0.226682\n",
            "802  0.510889  0.282691  0.669121  0.181920\n",
            "803  0.393058  0.280415  0.552502  0.178819\n",
            "804  0.575114  0.237782  0.755070  0.120723\n",
            "..        ...       ...       ...       ...\n",
            "995  0.335330  0.379540  0.421284  0.313895\n",
            "996  0.348855  0.374642  0.440177  0.307221\n",
            "997  0.181677  0.336711  0.306165  0.255533\n",
            "998  0.380682  0.313319  0.521120  0.223656\n",
            "999  0.379472  0.301558  0.527096  0.207630\n",
            "\n",
            "[200 rows x 4 columns]\n"
          ]
        }
      ]
    },
    {
      "cell_type": "code",
      "execution_count": 76,
      "metadata": {
        "deletable": false,
        "editable": false,
        "nbgrader": {
          "checksum": "38f3af71e1904885fe03f432dd55f281",
          "grade": true,
          "grade_id": "cell-30143518143c64b1",
          "locked": true,
          "points": 1,
          "schema_version": 1,
          "solution": false
        },
        "id": "uWNM2kA_lR3g"
      },
      "outputs": [],
      "source": [
        "# A correct solution should pass these tests.\n",
        "subset = create_subset()\n",
        "assert np.array_equal(subset.columns.values, ('x5', 'y5', 'x7', 'y7'))\n",
        "assert len(subset) == 200\n",
        "summary = subset.describe()\n",
        "assert np.allclose(summary.loc['mean', :].values,\n",
        "                   [ 0.43564752,  0.30610958,  0.57520991,  0.21383226])"
      ]
    }
  ],
  "metadata": {
    "kernelspec": {
      "display_name": "Python 3",
      "language": "python",
      "name": "python3"
    },
    "language_info": {
      "codemirror_mode": {
        "name": "ipython",
        "version": 3
      },
      "file_extension": ".py",
      "mimetype": "text/x-python",
      "name": "python",
      "nbconvert_exporter": "python",
      "pygments_lexer": "ipython3",
      "version": "3.11.2"
    },
    "colab": {
      "provenance": []
    }
  },
  "nbformat": 4,
  "nbformat_minor": 0
}