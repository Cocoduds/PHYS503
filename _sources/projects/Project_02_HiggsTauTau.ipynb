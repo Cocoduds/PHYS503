{
  "cells": [
    {
      "cell_type": "markdown",
      "metadata": {
        "id": "Ec5MKNFZ1-ED"
      },
      "source": [
        "# Higgs Boson Decaying to Tau Leptons"
      ]
    },
    {
      "cell_type": "markdown",
      "metadata": {
        "id": "A0OnyYx51-EH"
      },
      "source": [
        "<img src=\"https://raw.githubusercontent.com/illinois-dap/DataAnalysisForPhysicists/main/img/Project_HiggsTauTau-EventDisplay.jpg\" width=700 align=left></img><br>"
      ]
    },
    {
      "cell_type": "markdown",
      "metadata": {
        "id": "b5iE0syZ1-EH"
      },
      "source": [
        "## <span style=\"color:Orange\">Overview</span>"
      ]
    },
    {
      "cell_type": "markdown",
      "metadata": {
        "id": "tch1PqOL1-EI"
      },
      "source": [
        "From [[1]](https://papers.nips.cc/paper_files/paper/2014/file/e1d5be1c7f2f456670de3d53c7b54f4a-Paper.pdf), “The Higgs boson is an elementary particle in the Standard Model of particle physics, produced by the quantum excitation of the Higgs field, one of the fields in particle physics theory.It is named after physicist Peter Higgs, who in 1964, along with six other scientists, proposed the mechanism, which suggested the existence of such a particle. Its existence was confirmed by the ATLAS and CMS collaborations based on collisions in the LHC at CERN.\n",
        "\n",
        "On December 10, 2013, two of the physicists, Peter Higgs and François Englert, were awarded the Nobel Prize in Physics for their theoretical predictions. Although Higgs's name has come to be associated with this theory, several researchers between about 1964 and 1972 independently developed different parts of it.”\n",
        "\n",
        "The Standard Model (SM) of particle physics predicts the existence of a Higgs boson. It was discovered at CERN in 2012 by the ATLAS and CMS collaborations, with contributions to the data analysis in the discovery paper by Neubauer’s research group at Illinois."
      ]
    },
    {
      "cell_type": "markdown",
      "metadata": {
        "id": "zdkqrZkR1-EJ"
      },
      "source": [
        "## <span style=\"color:Orange\">Data Sources</span>"
      ]
    },
    {
      "cell_type": "markdown",
      "metadata": {
        "id": "bVzVMPMq1-EJ"
      },
      "source": [
        "Original Source\n",
        "* https://archive.ics.uci.edu/ml/machine-learning-databases/00280/HIGGS.csv.gz"
      ]
    },
    {
      "cell_type": "markdown",
      "metadata": {
        "id": "lQXsXbqn1-EK"
      },
      "source": [
        "File URLs\n",
        "* https://courses.physics.illinois.edu/phys503/fa2023/data/projects/HiggsTauTau/HIGGS.csv.gz"
      ]
    },
    {
      "cell_type": "markdown",
      "metadata": {
        "id": "Oc_6Yfht1-EK"
      },
      "source": [
        "## <span style=\"color:Orange\">Questions</span>"
      ]
    },
    {
      "cell_type": "markdown",
      "metadata": {
        "id": "UXoK6jR81-EK"
      },
      "source": [
        "Please refer to the corresponding Project 01 notebook for background questions related to this project. In this project, you are to focused on machine learning application(s)."
      ]
    },
    {
      "cell_type": "markdown",
      "metadata": {
        "id": "NQfq8Mm01-EL"
      },
      "source": [
        "### <span style=\"color:LightGreen\">Question 01</span>"
      ]
    },
    {
      "cell_type": "markdown",
      "metadata": {
        "tags": [],
        "id": "2xT6IpBf1-EL"
      },
      "source": [
        "Implement and train one of the neural networks (NN) described in __[1]__. Be sure to set aside test data from the original data set which is not used in the training. You should implement a NN one that makes the training time manageable, like one of the shallow networks with hyperparameters shown in Table 1 of __[1]__ or even a smaller network. Can you show the NN classification output (analogous to Figure 4)?"
      ]
    },
    {
      "cell_type": "code",
      "source": [
        "%pip install xgboost # A boosted decision tree would potentially be a good idea for this problem. We used XGBoost in a similar project last year for B0->K*MuMu decay"
      ],
      "metadata": {
        "colab": {
          "base_uri": "https://localhost:8080/"
        },
        "id": "7LFky1IXqOck",
        "outputId": "aadf9275-1911-4dc0-d2f8-5d265d9eefd0"
      },
      "execution_count": 1,
      "outputs": [
        {
          "output_type": "stream",
          "name": "stdout",
          "text": [
            "Requirement already satisfied: xgboost in /usr/local/lib/python3.10/dist-packages (2.0.2)\n",
            "Requirement already satisfied: numpy in /usr/local/lib/python3.10/dist-packages (from xgboost) (1.23.5)\n",
            "Requirement already satisfied: scipy in /usr/local/lib/python3.10/dist-packages (from xgboost) (1.11.4)\n"
          ]
        }
      ]
    },
    {
      "cell_type": "code",
      "source": [
        "import matplotlib.pyplot as plt\n",
        "import seaborn as sns; sns.set()\n",
        "import numpy as np\n",
        "import pandas as pd\n",
        "import os.path\n",
        "import subprocess\n",
        "import autograd.numpy as anp\n",
        "import autograd\n",
        "import warnings\n",
        "warnings.filterwarnings('ignore')\n",
        "\n",
        "\n",
        "# import matplotlib.collections\n",
        "# import scipy.signal\n",
        "# from sklearn import model_selection\n",
        "# import xgboost\n",
        "\n",
        "# import tensorflow.compat.v1 as tf\n",
        "# tf.disable_v2_behavior()\n",
        "# print(tf.__version__)\n",
        "\n",
        "\n",
        "# Use CPU rather than GPU for keras neural networks\n",
        "import os\n",
        "os.environ[\"CUDA_DEVICE_ORDER\"] = \"PCI_BUS_ID\"\n",
        "os.environ[\"CUDA_VISIBLE_DEVICES\"] = \"\"\n",
        "from tensorflow import keras\n",
        "from tqdm.keras import TqdmCallback"
      ],
      "metadata": {
        "id": "P0p9IiCT2iF7"
      },
      "execution_count": 1,
      "outputs": []
    },
    {
      "cell_type": "code",
      "source": [
        "def wget_data(url: str):\n",
        "    local_path = './tmp_data'\n",
        "    p = subprocess.Popen([\"wget\", \"-nc\", \"-P\", local_path, url], stderr=subprocess.PIPE, encoding='UTF-8')\n",
        "    rc = None\n",
        "    while rc is None:\n",
        "      line = p.stderr.readline().strip('\\n')\n",
        "      # if len(line) > 0:\n",
        "      #   print(line)\n",
        "      rc = p.poll()\n",
        "\n",
        "def locate_data(name, check_exists=True):\n",
        "    local_path='./tmp_data'\n",
        "    path = os.path.join(local_path, name)\n",
        "    if check_exists and not os.path.exists(path):\n",
        "        raise RuntimeError('No such data file: {}'.format(path))\n",
        "    return path"
      ],
      "metadata": {
        "id": "yZP_eFI83FfF"
      },
      "execution_count": 2,
      "outputs": []
    },
    {
      "cell_type": "code",
      "source": [
        "wget_data('https://courses.physics.illinois.edu/phys503/fa2023/data/projects/HiggsTauTau/HIGGS.csv.gz')"
      ],
      "metadata": {
        "id": "Rgtkir193Ijs"
      },
      "execution_count": 3,
      "outputs": []
    },
    {
      "cell_type": "code",
      "source": [
        "data = pd.read_csv(locate_data('HIGGS.csv.gz'), names = ['signal', 'lepton  pT', 'lepton  eta', 'lepton  phi', 'missing energy magnitude', 'missing energy phi', 'jet 1 pt', 'jet 1 eta', 'jet 1 phi', 'jet 1 b-tag', 'jet 2 pt', 'jet 2 eta', 'jet 2 phi', 'jet 2 b-tag', 'jet 3 pt', 'jet 3 eta', 'jet 3 phi', 'jet 3 b-tag', 'jet 4 pt', 'jet 4 eta',\n",
        "                'jet 4 phi', 'jet 4 b-tag', 'm_jj', 'm_jjj', 'm_lv', 'm_jlv', 'm_bb', 'm_wbb', 'm_wwbb'], header = None)"
      ],
      "metadata": {
        "id": "D6KH4MC33UAJ"
      },
      "execution_count": 4,
      "outputs": []
    },
    {
      "cell_type": "code",
      "source": [
        "# Set the random seed to make sure we get reproducible results (we get the same every time we run)\n",
        "keras.utils.set_random_seed(0)\n",
        "cutoff = 1000000 #5500000 is half of the dataset. Perhaps 70% would be more ideal\n",
        "training_data = np.array(data[['lepton  pT', 'lepton  eta', 'lepton  phi', 'missing energy magnitude', 'missing energy phi', 'jet 1 pt', 'jet 1 eta', 'jet 1 phi', 'jet 1 b-tag', 'jet 2 pt', 'jet 2 eta', 'jet 2 phi', 'jet 2 b-tag', 'jet 3 pt', 'jet 3 eta', 'jet 3 phi', 'jet 3 b-tag', 'jet 4 pt', 'jet 4 eta',\n",
        "                'jet 4 phi', 'jet 4 b-tag', 'm_jj', 'm_jjj', 'm_lv', 'm_jlv', 'm_bb', 'm_wbb', 'm_wwbb']].iloc[0:cutoff]).reshape(cutoff,1,28)\n",
        "training_output = np.array(data[\"signal\"].iloc[0:cutoff])"
      ],
      "metadata": {
        "id": "obqBCW9SiEVT"
      },
      "execution_count": 14,
      "outputs": []
    },
    {
      "cell_type": "code",
      "source": [
        "# Make model\n",
        "# The smallest model in the paper is 3 layers of 100 units\n",
        "# Perhaps another method to speed up would be to only look at high level features\n",
        "\n",
        "x = keras.layers.Input(shape=(1,28))\n",
        "y = keras.layers.SimpleRNN(100,activation=\"tanh\", return_sequences=True)(x)\n",
        "y = keras.layers.SimpleRNN(100,activation=\"tanh\", return_sequences=True)(y)\n",
        "y = keras.layers.SimpleRNN(1,activation=\"linear\", return_sequences=False)(y)\n",
        "model  = keras.Model(inputs=x,outputs=y)"
      ],
      "metadata": {
        "id": "AFhr8eQojt7d"
      },
      "execution_count": 7,
      "outputs": []
    },
    {
      "cell_type": "code",
      "source": [
        "# This is a new even smaller model\n",
        "x = keras.layers.Input(shape=(1,28))\n",
        "y = keras.layers.SimpleRNN(20,activation=\"tanh\", return_sequences=True)(x)\n",
        "y = keras.layers.SimpleRNN(20,activation=\"tanh\", return_sequences=True)(y)\n",
        "y = keras.layers.SimpleRNN(1,activation=\"linear\", return_sequences=False)(y)\n",
        "model  = keras.Model(inputs=x,outputs=y)"
      ],
      "metadata": {
        "id": "aIYuwnpN25MC"
      },
      "execution_count": 9,
      "outputs": []
    },
    {
      "cell_type": "code",
      "source": [
        "# Train model\n",
        "model.compile(\n",
        "    optimizer = keras.optimizers.Adam(),\n",
        "    loss = keras.losses.MeanSquaredError()\n",
        ")\n",
        "# Batch size and epoch parameters from the paper\n",
        "history = model.fit(\n",
        "    training_data,\n",
        "    training_output,\n",
        "    batch_size=100,        # The training takes groups of samples (in this case 100 samples at a time)\n",
        "    epochs=50,             # The number of times to iterate through our dataset\n",
        "    validation_split = 0,  # Use 0% of data to check accuracy\n",
        "    verbose=0,             # Don't print info as it trains\n",
        "    callbacks=[TqdmCallback(verbose=0)]\n",
        ")"
      ],
      "metadata": {
        "colab": {
          "base_uri": "https://localhost:8080/",
          "height": 49,
          "referenced_widgets": [
            "949761701cb442ec8a3a57c6f55dba60",
            "558af41f2d9c422aa36bf6da80b7498d",
            "88ef6275959a4d8098d1c3b613141538",
            "5594e78a5eb04d6facb1a47a2c093a74",
            "33edc334b4494ec8bf3873166e00a8bd",
            "6d81344220594708a182d8f3cbc07520",
            "c2f3bcde7f804d9ea411117d07f4ef12",
            "5fee8c3eacce4e089265ac1b9b830805",
            "68dd025b11634095ae6e93d27f572196",
            "9fc51f91d7344d549d0e66990ea3a8e0",
            "c477f9bc86fd4ae3834f530abb426470"
          ]
        },
        "id": "z0CngtTCkDq7",
        "outputId": "edf160c9-cfb1-4ab3-8452-8c5afee3d82d"
      },
      "execution_count": null,
      "outputs": [
        {
          "output_type": "display_data",
          "data": {
            "text/plain": [
              "0epoch [00:00, ?epoch/s]"
            ],
            "application/vnd.jupyter.widget-view+json": {
              "version_major": 2,
              "version_minor": 0,
              "model_id": "949761701cb442ec8a3a57c6f55dba60"
            }
          },
          "metadata": {}
        }
      ]
    },
    {
      "cell_type": "code",
      "source": [
        "results = model(np.array(data[['lepton  pT', 'lepton  eta', 'lepton  phi', 'missing energy magnitude', 'missing energy phi', 'jet 1 pt', 'jet 1 eta', 'jet 1 phi', 'jet 1 b-tag', 'jet 2 pt', 'jet 2 eta', 'jet 2 phi', 'jet 2 b-tag', 'jet 3 pt', 'jet 3 eta', 'jet 3 phi', 'jet 3 b-tag', 'jet 4 pt', 'jet 4 eta',\n",
        "                'jet 4 phi', 'jet 4 b-tag', 'm_jj', 'm_jjj', 'm_lv', 'm_jlv', 'm_bb', 'm_wbb', 'm_wwbb']].iloc[cutoff:]).reshape(11000000-cutoff,1,28)).numpy()"
      ],
      "metadata": {
        "id": "X3uJJNBLmk5x"
      },
      "execution_count": 62,
      "outputs": []
    },
    {
      "cell_type": "code",
      "source": [
        "true_results = np.array(data[\"signal\"].iloc[cutoff:])"
      ],
      "metadata": {
        "id": "pCYWweZ4ouy8"
      },
      "execution_count": 35,
      "outputs": []
    },
    {
      "cell_type": "code",
      "source": [
        "signal = np.array([])\n",
        "background = np.array([])\n",
        "for i in range(0,11000000-cutoff):\n",
        "  if true_results[i] == 1:\n",
        "    signal = np.append(signal, results[i])\n",
        "  else:\n",
        "    background = np.append(background, results[i])"
      ],
      "metadata": {
        "id": "wJmTEqMOp1bh"
      },
      "execution_count": 73,
      "outputs": []
    },
    {
      "cell_type": "code",
      "source": [
        "plt.hist(signal, label = \"Signal\")\n",
        "plt.hist(background, label = \"Background\")\n",
        "plt.legend()\n",
        "plt.show()"
      ],
      "metadata": {
        "colab": {
          "base_uri": "https://localhost:8080/",
          "height": 434
        },
        "id": "TJAqBsyDolZ0",
        "outputId": "3b78fdee-10ab-4164-dcef-94faef55230a"
      },
      "execution_count": 76,
      "outputs": [
        {
          "output_type": "display_data",
          "data": {
            "text/plain": [
              "<Figure size 640x480 with 1 Axes>"
            ],
            "image/png": "[encoded data removed]"
          },
          "metadata": {}
        }
      ]
    },
    {
      "cell_type": "markdown",
      "source": [
        "I have been having trouble getting this to work with the full dataset as collab keeps running out of ram and it takes a long time. Here is a preliminary test trained on 10000 samples and tested with a further 10000 samples, which is far from ideal."
      ],
      "metadata": {
        "id": "ZESJY3CwxIvL"
      }
    },
    {
      "cell_type": "markdown",
      "source": [
        "![project 2 trial 1.png](data:image/png;base64,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)"
      ],
      "metadata": {
        "id": "ZOjNBaPOxCgD"
      }
    },
    {
      "cell_type": "markdown",
      "metadata": {
        "id": "y05CBpPK1-EL"
      },
      "source": [
        "---\n",
        "\n",
        "## <span style=\"color:Orange\">References</span>\n",
        "\n",
        "__[<span style=\"color:Red\">1</span>]__ P.J. Sadowski, D. Whiteson, P. Baldi, \"Searching for Higgs Boson Decay Modes with Deep Learning\", _Advances in Neural Information Processing Systems 27 (NIPS 2014)_ (https://papers.nips.cc/paper/2014/hash/e1d5be1c7f2f456670de3d53c7b54f4a-Abstract.html)\n"
      ]
    },
    {
      "cell_type": "markdown",
      "metadata": {
        "id": "_bdwwTiw1-EL"
      },
      "source": [
        "---\n",
        "\n",
        "## <span style=\"color:Orange\">Acknowledgements</span>\n",
        "\n",
        "* Initial version: Mark Neubauer\n",
        "\n",
        "© Copyright 2023"
      ]
    }
  ],
  "metadata": {
    "kernelspec": {
      "display_name": "Python 3 (ipykernel)",
      "language": "python",
      "name": "python3"
    },
    "language_info": {
      "codemirror_mode": {
        "name": "ipython",
        "version": 3
      },
      "file_extension": ".py",
      "mimetype": "text/x-python",
      "name": "python",
      "nbconvert_exporter": "python",
      "pygments_lexer": "ipython3",
      "version": "3.9.7"
    },
    "colab": {
      "provenance": []
    },
    "widgets": {
      "application/vnd.jupyter.widget-state+json": {
        "949761701cb442ec8a3a57c6f55dba60": {
          "model_module": "@jupyter-widgets/controls",
          "model_name": "HBoxModel",
          "model_module_version": "1.5.0",
          "state": {
            "_dom_classes": [],
            "_model_module": "@jupyter-widgets/controls",
            "_model_module_version": "1.5.0",
            "_model_name": "HBoxModel",
            "_view_count": null,
            "_view_module": "@jupyter-widgets/controls",
            "_view_module_version": "1.5.0",
            "_view_name": "HBoxView",
            "box_style": "",
            "children": [
              "IPY_MODEL_558af41f2d9c422aa36bf6da80b7498d",
              "IPY_MODEL_88ef6275959a4d8098d1c3b613141538",
              "IPY_MODEL_5594e78a5eb04d6facb1a47a2c093a74"
            ],
            "layout": "IPY_MODEL_33edc334b4494ec8bf3873166e00a8bd"
          }
        },
        "558af41f2d9c422aa36bf6da80b7498d": {
          "model_module": "@jupyter-widgets/controls",
          "model_name": "HTMLModel",
          "model_module_version": "1.5.0",
          "state": {
            "_dom_classes": [],
            "_model_module": "@jupyter-widgets/controls",
            "_model_module_version": "1.5.0",
            "_model_name": "HTMLModel",
            "_view_count": null,
            "_view_module": "@jupyter-widgets/controls",
            "_view_module_version": "1.5.0",
            "_view_name": "HTMLView",
            "description": "",
            "description_tooltip": null,
            "layout": "IPY_MODEL_6d81344220594708a182d8f3cbc07520",
            "placeholder": "​",
            "style": "IPY_MODEL_c2f3bcde7f804d9ea411117d07f4ef12",
            "value": " 14%"
          }
        },
        "88ef6275959a4d8098d1c3b613141538": {
          "model_module": "@jupyter-widgets/controls",
          "model_name": "FloatProgressModel",
          "model_module_version": "1.5.0",
          "state": {
            "_dom_classes": [],
            "_model_module": "@jupyter-widgets/controls",
            "_model_module_version": "1.5.0",
            "_model_name": "FloatProgressModel",
            "_view_count": null,
            "_view_module": "@jupyter-widgets/controls",
            "_view_module_version": "1.5.0",
            "_view_name": "ProgressView",
            "bar_style": "",
            "description": "",
            "description_tooltip": null,
            "layout": "IPY_MODEL_5fee8c3eacce4e089265ac1b9b830805",
            "max": 50,
            "min": 0,
            "orientation": "horizontal",
            "style": "IPY_MODEL_68dd025b11634095ae6e93d27f572196",
            "value": 7
          }
        },
        "5594e78a5eb04d6facb1a47a2c093a74": {
          "model_module": "@jupyter-widgets/controls",
          "model_name": "HTMLModel",
          "model_module_version": "1.5.0",
          "state": {
            "_dom_classes": [],
            "_model_module": "@jupyter-widgets/controls",
            "_model_module_version": "1.5.0",
            "_model_name": "HTMLModel",
            "_view_count": null,
            "_view_module": "@jupyter-widgets/controls",
            "_view_module_version": "1.5.0",
            "_view_name": "HTMLView",
            "description": "",
            "description_tooltip": null,
            "layout": "IPY_MODEL_9fc51f91d7344d549d0e66990ea3a8e0",
            "placeholder": "​",
            "style": "IPY_MODEL_c477f9bc86fd4ae3834f530abb426470",
            "value": " 7/50 [03:49&lt;22:57, 32.04s/epoch, loss=0.184]"
          }
        },
        "33edc334b4494ec8bf3873166e00a8bd": {
          "model_module": "@jupyter-widgets/base",
          "model_name": "LayoutModel",
          "model_module_version": "1.2.0",
          "state": {
            "_model_module": "@jupyter-widgets/base",
            "_model_module_version": "1.2.0",
            "_model_name": "LayoutModel",
            "_view_count": null,
            "_view_module": "@jupyter-widgets/base",
            "_view_module_version": "1.2.0",
            "_view_name": "LayoutView",
            "align_content": null,
            "align_items": null,
            "align_self": null,
            "border": null,
            "bottom": null,
            "display": null,
            "flex": null,
            "flex_flow": null,
            "grid_area": null,
            "grid_auto_columns": null,
            "grid_auto_flow": null,
            "grid_auto_rows": null,
            "grid_column": null,
            "grid_gap": null,
            "grid_row": null,
            "grid_template_areas": null,
            "grid_template_columns": null,
            "grid_template_rows": null,
            "height": null,
            "justify_content": null,
            "justify_items": null,
            "left": null,
            "margin": null,
            "max_height": null,
            "max_width": null,
            "min_height": null,
            "min_width": null,
            "object_fit": null,
            "object_position": null,
            "order": null,
            "overflow": null,
            "overflow_x": null,
            "overflow_y": null,
            "padding": null,
            "right": null,
            "top": null,
            "visibility": null,
            "width": null
          }
        },
        "6d81344220594708a182d8f3cbc07520": {
          "model_module": "@jupyter-widgets/base",
          "model_name": "LayoutModel",
          "model_module_version": "1.2.0",
          "state": {
            "_model_module": "@jupyter-widgets/base",
            "_model_module_version": "1.2.0",
            "_model_name": "LayoutModel",
            "_view_count": null,
            "_view_module": "@jupyter-widgets/base",
            "_view_module_version": "1.2.0",
            "_view_name": "LayoutView",
            "align_content": null,
            "align_items": null,
            "align_self": null,
            "border": null,
            "bottom": null,
            "display": null,
            "flex": null,
            "flex_flow": null,
            "grid_area": null,
            "grid_auto_columns": null,
            "grid_auto_flow": null,
            "grid_auto_rows": null,
            "grid_column": null,
            "grid_gap": null,
            "grid_row": null,
            "grid_template_areas": null,
            "grid_template_columns": null,
            "grid_template_rows": null,
            "height": null,
            "justify_content": null,
            "justify_items": null,
            "left": null,
            "margin": null,
            "max_height": null,
            "max_width": null,
            "min_height": null,
            "min_width": null,
            "object_fit": null,
            "object_position": null,
            "order": null,
            "overflow": null,
            "overflow_x": null,
            "overflow_y": null,
            "padding": null,
            "right": null,
            "top": null,
            "visibility": null,
            "width": null
          }
        },
        "c2f3bcde7f804d9ea411117d07f4ef12": {
          "model_module": "@jupyter-widgets/controls",
          "model_name": "DescriptionStyleModel",
          "model_module_version": "1.5.0",
          "state": {
            "_model_module": "@jupyter-widgets/controls",
            "_model_module_version": "1.5.0",
            "_model_name": "DescriptionStyleModel",
            "_view_count": null,
            "_view_module": "@jupyter-widgets/base",
            "_view_module_version": "1.2.0",
            "_view_name": "StyleView",
            "description_width": ""
          }
        },
        "5fee8c3eacce4e089265ac1b9b830805": {
          "model_module": "@jupyter-widgets/base",
          "model_name": "LayoutModel",
          "model_module_version": "1.2.0",
          "state": {
            "_model_module": "@jupyter-widgets/base",
            "_model_module_version": "1.2.0",
            "_model_name": "LayoutModel",
            "_view_count": null,
            "_view_module": "@jupyter-widgets/base",
            "_view_module_version": "1.2.0",
            "_view_name": "LayoutView",
            "align_content": null,
            "align_items": null,
            "align_self": null,
            "border": null,
            "bottom": null,
            "display": null,
            "flex": null,
            "flex_flow": null,
            "grid_area": null,
            "grid_auto_columns": null,
            "grid_auto_flow": null,
            "grid_auto_rows": null,
            "grid_column": null,
            "grid_gap": null,
            "grid_row": null,
            "grid_template_areas": null,
            "grid_template_columns": null,
            "grid_template_rows": null,
            "height": null,
            "justify_content": null,
            "justify_items": null,
            "left": null,
            "margin": null,
            "max_height": null,
            "max_width": null,
            "min_height": null,
            "min_width": null,
            "object_fit": null,
            "object_position": null,
            "order": null,
            "overflow": null,
            "overflow_x": null,
            "overflow_y": null,
            "padding": null,
            "right": null,
            "top": null,
            "visibility": null,
            "width": null
          }
        },
        "68dd025b11634095ae6e93d27f572196": {
          "model_module": "@jupyter-widgets/controls",
          "model_name": "ProgressStyleModel",
          "model_module_version": "1.5.0",
          "state": {
            "_model_module": "@jupyter-widgets/controls",
            "_model_module_version": "1.5.0",
            "_model_name": "ProgressStyleModel",
            "_view_count": null,
            "_view_module": "@jupyter-widgets/base",
            "_view_module_version": "1.2.0",
            "_view_name": "StyleView",
            "bar_color": null,
            "description_width": ""
          }
        },
        "9fc51f91d7344d549d0e66990ea3a8e0": {
          "model_module": "@jupyter-widgets/base",
          "model_name": "LayoutModel",
          "model_module_version": "1.2.0",
          "state": {
            "_model_module": "@jupyter-widgets/base",
            "_model_module_version": "1.2.0",
            "_model_name": "LayoutModel",
            "_view_count": null,
            "_view_module": "@jupyter-widgets/base",
            "_view_module_version": "1.2.0",
            "_view_name": "LayoutView",
            "align_content": null,
            "align_items": null,
            "align_self": null,
            "border": null,
            "bottom": null,
            "display": null,
            "flex": null,
            "flex_flow": null,
            "grid_area": null,
            "grid_auto_columns": null,
            "grid_auto_flow": null,
            "grid_auto_rows": null,
            "grid_column": null,
            "grid_gap": null,
            "grid_row": null,
            "grid_template_areas": null,
            "grid_template_columns": null,
            "grid_template_rows": null,
            "height": null,
            "justify_content": null,
            "justify_items": null,
            "left": null,
            "margin": null,
            "max_height": null,
            "max_width": null,
            "min_height": null,
            "min_width": null,
            "object_fit": null,
            "object_position": null,
            "order": null,
            "overflow": null,
            "overflow_x": null,
            "overflow_y": null,
            "padding": null,
            "right": null,
            "top": null,
            "visibility": null,
            "width": null
          }
        },
        "c477f9bc86fd4ae3834f530abb426470": {
          "model_module": "@jupyter-widgets/controls",
          "model_name": "DescriptionStyleModel",
          "model_module_version": "1.5.0",
          "state": {
            "_model_module": "@jupyter-widgets/controls",
            "_model_module_version": "1.5.0",
            "_model_name": "DescriptionStyleModel",
            "_view_count": null,
            "_view_module": "@jupyter-widgets/base",
            "_view_module_version": "1.2.0",
            "_view_name": "StyleView",
            "description_width": ""
          }
        }
      }
    }
  },
  "nbformat": 4,
  "nbformat_minor": 0
}