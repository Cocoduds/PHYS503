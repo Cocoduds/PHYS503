{
  "cells": [
    {
      "cell_type": "markdown",
      "metadata": {
        "id": "Ec5MKNFZ1-ED"
      },
      "source": [
        "# Higgs Boson Decaying to Tau Leptons"
      ]
    },
    {
      "cell_type": "markdown",
      "metadata": {
        "id": "A0OnyYx51-EH"
      },
      "source": [
        "<img src=\"https://raw.githubusercontent.com/illinois-dap/DataAnalysisForPhysicists/main/img/Project_HiggsTauTau-EventDisplay.jpg\" width=700 align=left></img><br>"
      ]
    },
    {
      "cell_type": "markdown",
      "metadata": {
        "id": "b5iE0syZ1-EH"
      },
      "source": [
        "## <span style=\"color:Orange\">Overview</span>"
      ]
    },
    {
      "cell_type": "markdown",
      "metadata": {
        "id": "tch1PqOL1-EI"
      },
      "source": [
        "From [[1]](https://papers.nips.cc/paper_files/paper/2014/file/e1d5be1c7f2f456670de3d53c7b54f4a-Paper.pdf), “The Higgs boson is an elementary particle in the Standard Model of particle physics, produced by the quantum excitation of the Higgs field, one of the fields in particle physics theory.It is named after physicist Peter Higgs, who in 1964, along with six other scientists, proposed the mechanism, which suggested the existence of such a particle. Its existence was confirmed by the ATLAS and CMS collaborations based on collisions in the LHC at CERN.\n",
        "\n",
        "On December 10, 2013, two of the physicists, Peter Higgs and François Englert, were awarded the Nobel Prize in Physics for their theoretical predictions. Although Higgs's name has come to be associated with this theory, several researchers between about 1964 and 1972 independently developed different parts of it.”\n",
        "\n",
        "The Standard Model (SM) of particle physics predicts the existence of a Higgs boson. It was discovered at CERN in 2012 by the ATLAS and CMS collaborations, with contributions to the data analysis in the discovery paper by Neubauer’s research group at Illinois."
      ]
    },
    {
      "cell_type": "markdown",
      "metadata": {
        "id": "zdkqrZkR1-EJ"
      },
      "source": [
        "## <span style=\"color:Orange\">Data Sources</span>"
      ]
    },
    {
      "cell_type": "markdown",
      "metadata": {
        "id": "bVzVMPMq1-EJ"
      },
      "source": [
        "Original Source\n",
        "* https://archive.ics.uci.edu/ml/machine-learning-databases/00280/HIGGS.csv.gz"
      ]
    },
    {
      "cell_type": "markdown",
      "metadata": {
        "id": "lQXsXbqn1-EK"
      },
      "source": [
        "File URLs\n",
        "* https://courses.physics.illinois.edu/phys503/fa2023/data/projects/HiggsTauTau/HIGGS.csv.gz"
      ]
    },
    {
      "cell_type": "markdown",
      "metadata": {
        "id": "Oc_6Yfht1-EK"
      },
      "source": [
        "## <span style=\"color:Orange\">Questions</span>"
      ]
    },
    {
      "cell_type": "markdown",
      "metadata": {
        "id": "UXoK6jR81-EK"
      },
      "source": [
        "Please refer to the corresponding Project 01 notebook for background questions related to this project. In this project, you are to focused on machine learning application(s)."
      ]
    },
    {
      "cell_type": "markdown",
      "metadata": {
        "id": "NQfq8Mm01-EL"
      },
      "source": [
        "### <span style=\"color:LightGreen\">Question 01</span>"
      ]
    },
    {
      "cell_type": "markdown",
      "metadata": {
        "tags": [],
        "id": "2xT6IpBf1-EL"
      },
      "source": [
        "Implement and train one of the neural networks (NN) described in __[1]__. Be sure to set aside test data from the original data set which is not used in the training. You should implement a NN one that makes the training time manageable, like one of the shallow networks with hyperparameters shown in Table 1 of __[1]__ or even a smaller network. Can you show the NN classification output (analogous to Figure 4)?"
      ]
    },
    {
      "cell_type": "code",
      "source": [
        "%pip install xgboost"
      ],
      "metadata": {
        "id": "7LFky1IXqOck",
        "outputId": "aadf9275-1911-4dc0-d2f8-5d265d9eefd0",
        "colab": {
          "base_uri": "https://localhost:8080/"
        }
      },
      "execution_count": 1,
      "outputs": [
        {
          "output_type": "stream",
          "name": "stdout",
          "text": [
            "Requirement already satisfied: xgboost in /usr/local/lib/python3.10/dist-packages (2.0.2)\n",
            "Requirement already satisfied: numpy in /usr/local/lib/python3.10/dist-packages (from xgboost) (1.23.5)\n",
            "Requirement already satisfied: scipy in /usr/local/lib/python3.10/dist-packages (from xgboost) (1.11.4)\n"
          ]
        }
      ]
    },
    {
      "cell_type": "code",
      "source": [
        "import matplotlib.pyplot as plt\n",
        "import seaborn as sns; sns.set()\n",
        "import numpy as np\n",
        "import pandas as pd\n",
        "import os.path\n",
        "import subprocess\n",
        "import autograd.numpy as anp\n",
        "import autograd\n",
        "import warnings\n",
        "warnings.filterwarnings('ignore')\n",
        "\n",
        "\n",
        "# import matplotlib.collections\n",
        "# import scipy.signal\n",
        "# from sklearn import model_selection\n",
        "# import xgboost\n",
        "\n",
        "# import tensorflow.compat.v1 as tf\n",
        "# tf.disable_v2_behavior()\n",
        "# print(tf.__version__)\n",
        "\n",
        "\n",
        "# Use CPU rather than GPU for keras neural networks\n",
        "import os\n",
        "os.environ[\"CUDA_DEVICE_ORDER\"] = \"PCI_BUS_ID\"\n",
        "os.environ[\"CUDA_VISIBLE_DEVICES\"] = \"\"\n",
        "from tensorflow import keras\n",
        "from tqdm.keras import TqdmCallback"
      ],
      "metadata": {
        "id": "P0p9IiCT2iF7"
      },
      "execution_count": 1,
      "outputs": []
    },
    {
      "cell_type": "code",
      "source": [
        "def wget_data(url: str):\n",
        "    local_path = './tmp_data'\n",
        "    p = subprocess.Popen([\"wget\", \"-nc\", \"-P\", local_path, url], stderr=subprocess.PIPE, encoding='UTF-8')\n",
        "    rc = None\n",
        "    while rc is None:\n",
        "      line = p.stderr.readline().strip('\\n')\n",
        "      # if len(line) > 0:\n",
        "      #   print(line)\n",
        "      rc = p.poll()\n",
        "\n",
        "def locate_data(name, check_exists=True):\n",
        "    local_path='./tmp_data'\n",
        "    path = os.path.join(local_path, name)\n",
        "    if check_exists and not os.path.exists(path):\n",
        "        raise RuntimeError('No such data file: {}'.format(path))\n",
        "    return path"
      ],
      "metadata": {
        "id": "yZP_eFI83FfF"
      },
      "execution_count": 2,
      "outputs": []
    },
    {
      "cell_type": "code",
      "source": [
        "wget_data('https://courses.physics.illinois.edu/phys503/fa2023/data/projects/HiggsTauTau/HIGGS.csv.gz')"
      ],
      "metadata": {
        "id": "Rgtkir193Ijs"
      },
      "execution_count": 3,
      "outputs": []
    },
    {
      "cell_type": "code",
      "source": [
        "data = pd.read_csv(locate_data('HIGGS.csv.gz'), names = ['signal', 'lepton  pT', 'lepton  eta', 'lepton  phi', 'missing energy magnitude', 'missing energy phi', 'jet 1 pt', 'jet 1 eta', 'jet 1 phi', 'jet 1 b-tag', 'jet 2 pt', 'jet 2 eta', 'jet 2 phi', 'jet 2 b-tag', 'jet 3 pt', 'jet 3 eta', 'jet 3 phi', 'jet 3 b-tag', 'jet 4 pt', 'jet 4 eta',\n",
        "                'jet 4 phi', 'jet 4 b-tag', 'm_jj', 'm_jjj', 'm_lv', 'm_jlv', 'm_bb', 'm_wbb', 'm_wwbb'], header = None)"
      ],
      "metadata": {
        "id": "D6KH4MC33UAJ"
      },
      "execution_count": 4,
      "outputs": []
    },
    {
      "cell_type": "code",
      "source": [
        "# Set the random seed to make sure we get reproducible results (we get the same every time we run)\n",
        "keras.utils.set_random_seed(0)\n",
        "original_data = data[['lepton  pT', 'lepton  eta', 'lepton  phi', 'missing energy magnitude', 'missing energy phi', 'jet 1 pt', 'jet 1 eta', 'jet 1 phi', 'jet 1 b-tag', 'jet 2 pt', 'jet 2 eta', 'jet 2 phi', 'jet 2 b-tag', 'jet 3 pt', 'jet 3 eta', 'jet 3 phi', 'jet 3 b-tag', 'jet 4 pt', 'jet 4 eta',\n",
        "                'jet 4 phi', 'jet 4 b-tag', 'm_jj', 'm_jjj', 'm_lv', 'm_jlv', 'm_bb', 'm_wbb', 'm_wwbb']]\n",
        "\n",
        "training_data = np.array(original_data.iloc[1:10000])\n",
        "training_output = np.array(data[\"signal\"].iloc[1:10000])"
      ],
      "metadata": {
        "id": "obqBCW9SiEVT"
      },
      "execution_count": 5,
      "outputs": []
    },
    {
      "cell_type": "code",
      "source": [
        "training_data = training_data.reshape(9999,1,28)"
      ],
      "metadata": {
        "id": "lavEhdbGl8Ek"
      },
      "execution_count": 18,
      "outputs": []
    },
    {
      "cell_type": "code",
      "source": [
        "# Make model\n",
        "x = keras.layers.Input(shape=(1,28))\n",
        "y = keras.layers.SimpleRNN(100,activation=\"tanh\", return_sequences=True)(x)\n",
        "y = keras.layers.SimpleRNN(100,activation=\"tanh\", return_sequences=True)(y)\n",
        "y = keras.layers.SimpleRNN(1,activation=\"linear\", return_sequences=False)(y)\n",
        "model  = keras.Model(inputs=x,outputs=y)"
      ],
      "metadata": {
        "id": "AFhr8eQojt7d"
      },
      "execution_count": 19,
      "outputs": []
    },
    {
      "cell_type": "code",
      "source": [
        "# Train model\n",
        "model.compile(\n",
        "    optimizer = keras.optimizers.Adam(),\n",
        "    loss = keras.losses.MeanSquaredError()\n",
        ")\n",
        "history = model.fit(\n",
        "    training_data,\n",
        "    training_output,\n",
        "    batch_size=10,         # The training takes groups of samples (in this case 10 samples at a time)\n",
        "    epochs=50,             # The number of times to iterate through our dataset\n",
        "    validation_split = 0,  # Use 0% of data to check accuracy\n",
        "    verbose=0,             # Don't print info as it trains\n",
        "    callbacks=[TqdmCallback(verbose=0)]\n",
        ")"
      ],
      "metadata": {
        "id": "z0CngtTCkDq7",
        "outputId": "ef403c96-14bd-4dfe-c5d9-e1e0f24ccfb5",
        "colab": {
          "base_uri": "https://localhost:8080/",
          "height": 49,
          "referenced_widgets": [
            "ec35d7d6b82643cf99d5293cf4fe4f6c",
            "992fc9f0219e4dc58cc8c0da6f15b10d",
            "b3a073319abf42688f6964d8366082e6",
            "d73befcaae6e48b3866f83c3a7faf298",
            "93595a2a3b72431198d26ffff6de501e",
            "5855fce750154b4ab07e29958fd301b8",
            "77e75e73a03c49738f2bf9be9c5438d2",
            "6865ab55578a4431a76524f746c6a397",
            "4d490092b67d40ac9a244ee20c6bdcb8",
            "fc04847e81614e90b98a906388f2f861",
            "96e2e315ede14a9eb8b6da69c43ac294"
          ]
        }
      },
      "execution_count": 20,
      "outputs": [
        {
          "output_type": "display_data",
          "data": {
            "text/plain": [
              "0epoch [00:00, ?epoch/s]"
            ],
            "application/vnd.jupyter.widget-view+json": {
              "version_major": 2,
              "version_minor": 0,
              "model_id": "ec35d7d6b82643cf99d5293cf4fe4f6c"
            }
          },
          "metadata": {}
        }
      ]
    },
    {
      "cell_type": "code",
      "source": [
        "results = model(np.array(original_data.iloc[10001:20001]).reshape(10000,1,28)).numpy()"
      ],
      "metadata": {
        "id": "X3uJJNBLmk5x"
      },
      "execution_count": 62,
      "outputs": []
    },
    {
      "cell_type": "code",
      "source": [
        "true_results = np.array(data[\"signal\"].iloc[10001:20001])"
      ],
      "metadata": {
        "id": "pCYWweZ4ouy8"
      },
      "execution_count": 35,
      "outputs": []
    },
    {
      "cell_type": "code",
      "source": [
        "signal = np.array([])\n",
        "background = np.array([])\n",
        "for i in range(0,10000):\n",
        "  if true_results[i] == 1:\n",
        "    signal = np.append(signal, results[i])\n",
        "  else:\n",
        "    background = np.append(background, results[i])"
      ],
      "metadata": {
        "id": "wJmTEqMOp1bh"
      },
      "execution_count": 73,
      "outputs": []
    },
    {
      "cell_type": "code",
      "source": [
        "print(results[100])"
      ],
      "metadata": {
        "id": "6j04l-iVroim",
        "outputId": "62e250af-6a30-430e-9a2f-a2d3b5e85518",
        "colab": {
          "base_uri": "https://localhost:8080/"
        }
      },
      "execution_count": 70,
      "outputs": [
        {
          "output_type": "stream",
          "name": "stdout",
          "text": [
            "[0.91460085]\n"
          ]
        }
      ]
    },
    {
      "cell_type": "code",
      "source": [
        "plt.hist(signal, label = \"Signal\")\n",
        "plt.hist(background, label = \"Background\")\n",
        "plt.legend()\n",
        "plt.show()"
      ],
      "metadata": {
        "id": "TJAqBsyDolZ0",
        "outputId": "3b78fdee-10ab-4164-dcef-94faef55230a",
        "colab": {
          "base_uri": "https://localhost:8080/",
          "height": 434
        }
      },
      "execution_count": 76,
      "outputs": [
        {
          "output_type": "display_data",
          "data": {
            "text/plain": [
              "<Figure size 640x480 with 1 Axes>"
            ],
            "image/png": "[encoded data removed]"
          },
          "metadata": {}
        }
      ]
    },
    {
      "cell_type": "code",
      "source": [
        "keras.utils.set_random_seed(0)\n",
        "\n",
        "# Take the first quarter of the data (stationary)\n",
        "original_dh = data[['lepton  pT', 'lepton  eta', 'lepton  phi', 'missing energy magnitude', 'missing energy phi', 'jet 1 pt', 'jet 1 eta', 'jet 1 phi', 'jet 1 b-tag', 'jet 2 pt', 'jet 2 eta', 'jet 2 phi', 'jet 2 b-tag', 'jet 3 pt', 'jet 3 eta', 'jet 3 phi', 'jet 3 b-tag', 'jet 4 pt', 'jet 4 eta',\n",
        "                'jet 4 phi', 'jet 4 b-tag', 'm_jj', 'm_jjj', 'm_lv', 'm_jlv', 'm_bb', 'm_wbb', 'm_wwbb']]\n",
        "dh_data = data[['lepton  pT', 'lepton  eta', 'lepton  phi', 'missing energy magnitude', 'missing energy phi', 'jet 1 pt', 'jet 1 eta', 'jet 1 phi', 'jet 1 b-tag', 'jet 2 pt', 'jet 2 eta', 'jet 2 phi', 'jet 2 b-tag', 'jet 3 pt', 'jet 3 eta', 'jet 3 phi', 'jet 3 b-tag', 'jet 4 pt', 'jet 4 eta',\n",
        "                'jet 4 phi', 'jet 4 b-tag', 'm_jj', 'm_jjj', 'm_lv', 'm_jlv', 'm_bb', 'm_wbb', 'm_wwbb']]\n",
        "quarter_dh = np.array(dh_data.iloc[1:2750000])\n",
        "quarter_output = np.array(data[\"signal\"].iloc[1:2750000])\n",
        "\n",
        "# Organize the data for our recurrent neural network\n",
        "k = 1\n",
        "\n",
        "data_in = np.array(quarter_dh)\n",
        "signal_out = np.array(quarter_output)\n",
        "\n",
        "# Make simple many to one model (input 2 samples of size 2 variables)\n",
        "x = keras.layers.Input(shape=(k,29))\n",
        "y = keras.layers.SimpleRNN(100,activation=\"tanh\", return_sequences=True)(x)\n",
        "y = keras.layers.SimpleRNN(100,activation=\"tanh\", return_sequences=True)(y)\n",
        "y = keras.layers.SimpleRNN(1,activation=\"linear\", return_sequences=False)(y)\n",
        "dh_model  = keras.Model(inputs=x,outputs=y)\n",
        "\n",
        "# Train model\n",
        "dh_model.compile(\n",
        "    optimizer = keras.optimizers.Adam(),\n",
        "    loss = keras.losses.MeanSquaredError()\n",
        ")\n",
        "history = dh_model.fit(\n",
        "    data_in,\n",
        "    signal_out,\n",
        "    batch_size=10,         # The training takes groups of samples (in this case 10 samples at a time)\n",
        "    epochs=50,             # The number of times to iterate through our dataset\n",
        "    validation_split = 0,  # Use 0% of data to check accuracy\n",
        "    verbose=0,             # Don't print info as it trains\n",
        "    callbacks=[TqdmCallback(verbose=0)]\n",
        ")\n",
        "\n",
        "# Plot prediction and the true values\n",
        "data_data = data[\"signal\"].iloc[2750000:]\n",
        "data_signal = data[\"signal\"].iloc[2750000:]\n",
        "\n",
        "# Run predictions through the model to get the next time step\n",
        "predictions = [data_in[-1][i,0] for i in range(k)]\n",
        "# for i in range(len(data_signal)):\n",
        "#   # Get the k previous steps of height and with predicted distance\n",
        "#   i_input = np.vstack([\n",
        "#       np.array([predictions[-i] for i in range(k,0,-1)]),\n",
        "#       np.array([dh_data[\"Height (m)\"].iloc[17+i-j] for j in range(k,0,-1)]),\n",
        "#       np.array([dh_data[\"Drag coefficient\"].iloc[17+i-j] for j in range(k,0,-1)]),\n",
        "#       np.array([dh_data[\"Projectile area (m^2)\"].iloc[17+i-j] for j in range(k,0,-1)])\n",
        "#   ]).T\n",
        "#   prediction = dh_model(i_input.reshape((1,k,4)))\n",
        "#   # Convert single value matrix to just a number\n",
        "#   predictions.append(np.array(prediction)[0][0])\n",
        "\n",
        "# # Cut out first k predictions (that we actually already knew)\n",
        "# predictions = np.array(predictions[k:])\n",
        "\n",
        "# # Shift data and predictions\n",
        "# shift_quarter_distance = quarter_dh[:,0]+original_dh[\"Distance (m)\"].iloc[1:17]\n",
        "# shift_data_distance = data_distance\n",
        "# shift_predictions = [predictions[0]+original_dh[\"Distance (m)\"].iloc[17]]\n",
        "# for pred in predictions[1:]:\n",
        "#   shift_predictions.append(pred + shift_predictions[-1])\n",
        "\n",
        "# # Plot\n",
        "# plt.close('all')\n",
        "# plt.figure(figsize=(10,4))\n",
        "# plt.scatter(shift_quarter_distance, quarter_height, label=\"Input\")\n",
        "# plt.scatter(shift_data_distance, data_height, label=\"True data\")\n",
        "# plt.scatter(shift_predictions, data_height, label=\"Predicted data\")\n",
        "# plt.legend()\n",
        "# plt.show()"
      ],
      "metadata": {
        "id": "qj8Pekf63q5a"
      },
      "execution_count": null,
      "outputs": []
    },
    {
      "cell_type": "markdown",
      "metadata": {
        "id": "y05CBpPK1-EL"
      },
      "source": [
        "---\n",
        "\n",
        "## <span style=\"color:Orange\">References</span>\n",
        "\n",
        "__[<span style=\"color:Red\">1</span>]__ P.J. Sadowski, D. Whiteson, P. Baldi, \"Searching for Higgs Boson Decay Modes with Deep Learning\", _Advances in Neural Information Processing Systems 27 (NIPS 2014)_ (https://papers.nips.cc/paper/2014/hash/e1d5be1c7f2f456670de3d53c7b54f4a-Abstract.html)\n"
      ]
    },
    {
      "cell_type": "markdown",
      "metadata": {
        "id": "_bdwwTiw1-EL"
      },
      "source": [
        "---\n",
        "\n",
        "## <span style=\"color:Orange\">Acknowledgements</span>\n",
        "\n",
        "* Initial version: Mark Neubauer\n",
        "\n",
        "© Copyright 2023"
      ]
    }
  ],
  "metadata": {
    "kernelspec": {
      "display_name": "Python 3 (ipykernel)",
      "language": "python",
      "name": "python3"
    },
    "language_info": {
      "codemirror_mode": {
        "name": "ipython",
        "version": 3
      },
      "file_extension": ".py",
      "mimetype": "text/x-python",
      "name": "python",
      "nbconvert_exporter": "python",
      "pygments_lexer": "ipython3",
      "version": "3.9.7"
    },
    "colab": {
      "provenance": []
    },
    "widgets": {
      "application/vnd.jupyter.widget-state+json": {
        "ec35d7d6b82643cf99d5293cf4fe4f6c": {
          "model_module": "@jupyter-widgets/controls",
          "model_name": "HBoxModel",
          "model_module_version": "1.5.0",
          "state": {
            "_dom_classes": [],
            "_model_module": "@jupyter-widgets/controls",
            "_model_module_version": "1.5.0",
            "_model_name": "HBoxModel",
            "_view_count": null,
            "_view_module": "@jupyter-widgets/controls",
            "_view_module_version": "1.5.0",
            "_view_name": "HBoxView",
            "box_style": "",
            "children": [
              "IPY_MODEL_992fc9f0219e4dc58cc8c0da6f15b10d",
              "IPY_MODEL_b3a073319abf42688f6964d8366082e6",
              "IPY_MODEL_d73befcaae6e48b3866f83c3a7faf298"
            ],
            "layout": "IPY_MODEL_93595a2a3b72431198d26ffff6de501e"
          }
        },
        "992fc9f0219e4dc58cc8c0da6f15b10d": {
          "model_module": "@jupyter-widgets/controls",
          "model_name": "HTMLModel",
          "model_module_version": "1.5.0",
          "state": {
            "_dom_classes": [],
            "_model_module": "@jupyter-widgets/controls",
            "_model_module_version": "1.5.0",
            "_model_name": "HTMLModel",
            "_view_count": null,
            "_view_module": "@jupyter-widgets/controls",
            "_view_module_version": "1.5.0",
            "_view_name": "HTMLView",
            "description": "",
            "description_tooltip": null,
            "layout": "IPY_MODEL_5855fce750154b4ab07e29958fd301b8",
            "placeholder": "​",
            "style": "IPY_MODEL_77e75e73a03c49738f2bf9be9c5438d2",
            "value": "100%"
          }
        },
        "b3a073319abf42688f6964d8366082e6": {
          "model_module": "@jupyter-widgets/controls",
          "model_name": "FloatProgressModel",
          "model_module_version": "1.5.0",
          "state": {
            "_dom_classes": [],
            "_model_module": "@jupyter-widgets/controls",
            "_model_module_version": "1.5.0",
            "_model_name": "FloatProgressModel",
            "_view_count": null,
            "_view_module": "@jupyter-widgets/controls",
            "_view_module_version": "1.5.0",
            "_view_name": "ProgressView",
            "bar_style": "success",
            "description": "",
            "description_tooltip": null,
            "layout": "IPY_MODEL_6865ab55578a4431a76524f746c6a397",
            "max": 50,
            "min": 0,
            "orientation": "horizontal",
            "style": "IPY_MODEL_4d490092b67d40ac9a244ee20c6bdcb8",
            "value": 50
          }
        },
        "d73befcaae6e48b3866f83c3a7faf298": {
          "model_module": "@jupyter-widgets/controls",
          "model_name": "HTMLModel",
          "model_module_version": "1.5.0",
          "state": {
            "_dom_classes": [],
            "_model_module": "@jupyter-widgets/controls",
            "_model_module_version": "1.5.0",
            "_model_name": "HTMLModel",
            "_view_count": null,
            "_view_module": "@jupyter-widgets/controls",
            "_view_module_version": "1.5.0",
            "_view_name": "HTMLView",
            "description": "",
            "description_tooltip": null,
            "layout": "IPY_MODEL_fc04847e81614e90b98a906388f2f861",
            "placeholder": "​",
            "style": "IPY_MODEL_96e2e315ede14a9eb8b6da69c43ac294",
            "value": " 50/50 [03:59&lt;00:00,  4.38s/epoch, loss=0.119]"
          }
        },
        "93595a2a3b72431198d26ffff6de501e": {
          "model_module": "@jupyter-widgets/base",
          "model_name": "LayoutModel",
          "model_module_version": "1.2.0",
          "state": {
            "_model_module": "@jupyter-widgets/base",
            "_model_module_version": "1.2.0",
            "_model_name": "LayoutModel",
            "_view_count": null,
            "_view_module": "@jupyter-widgets/base",
            "_view_module_version": "1.2.0",
            "_view_name": "LayoutView",
            "align_content": null,
            "align_items": null,
            "align_self": null,
            "border": null,
            "bottom": null,
            "display": null,
            "flex": null,
            "flex_flow": null,
            "grid_area": null,
            "grid_auto_columns": null,
            "grid_auto_flow": null,
            "grid_auto_rows": null,
            "grid_column": null,
            "grid_gap": null,
            "grid_row": null,
            "grid_template_areas": null,
            "grid_template_columns": null,
            "grid_template_rows": null,
            "height": null,
            "justify_content": null,
            "justify_items": null,
            "left": null,
            "margin": null,
            "max_height": null,
            "max_width": null,
            "min_height": null,
            "min_width": null,
            "object_fit": null,
            "object_position": null,
            "order": null,
            "overflow": null,
            "overflow_x": null,
            "overflow_y": null,
            "padding": null,
            "right": null,
            "top": null,
            "visibility": null,
            "width": null
          }
        },
        "5855fce750154b4ab07e29958fd301b8": {
          "model_module": "@jupyter-widgets/base",
          "model_name": "LayoutModel",
          "model_module_version": "1.2.0",
          "state": {
            "_model_module": "@jupyter-widgets/base",
            "_model_module_version": "1.2.0",
            "_model_name": "LayoutModel",
            "_view_count": null,
            "_view_module": "@jupyter-widgets/base",
            "_view_module_version": "1.2.0",
            "_view_name": "LayoutView",
            "align_content": null,
            "align_items": null,
            "align_self": null,
            "border": null,
            "bottom": null,
            "display": null,
            "flex": null,
            "flex_flow": null,
            "grid_area": null,
            "grid_auto_columns": null,
            "grid_auto_flow": null,
            "grid_auto_rows": null,
            "grid_column": null,
            "grid_gap": null,
            "grid_row": null,
            "grid_template_areas": null,
            "grid_template_columns": null,
            "grid_template_rows": null,
            "height": null,
            "justify_content": null,
            "justify_items": null,
            "left": null,
            "margin": null,
            "max_height": null,
            "max_width": null,
            "min_height": null,
            "min_width": null,
            "object_fit": null,
            "object_position": null,
            "order": null,
            "overflow": null,
            "overflow_x": null,
            "overflow_y": null,
            "padding": null,
            "right": null,
            "top": null,
            "visibility": null,
            "width": null
          }
        },
        "77e75e73a03c49738f2bf9be9c5438d2": {
          "model_module": "@jupyter-widgets/controls",
          "model_name": "DescriptionStyleModel",
          "model_module_version": "1.5.0",
          "state": {
            "_model_module": "@jupyter-widgets/controls",
            "_model_module_version": "1.5.0",
            "_model_name": "DescriptionStyleModel",
            "_view_count": null,
            "_view_module": "@jupyter-widgets/base",
            "_view_module_version": "1.2.0",
            "_view_name": "StyleView",
            "description_width": ""
          }
        },
        "6865ab55578a4431a76524f746c6a397": {
          "model_module": "@jupyter-widgets/base",
          "model_name": "LayoutModel",
          "model_module_version": "1.2.0",
          "state": {
            "_model_module": "@jupyter-widgets/base",
            "_model_module_version": "1.2.0",
            "_model_name": "LayoutModel",
            "_view_count": null,
            "_view_module": "@jupyter-widgets/base",
            "_view_module_version": "1.2.0",
            "_view_name": "LayoutView",
            "align_content": null,
            "align_items": null,
            "align_self": null,
            "border": null,
            "bottom": null,
            "display": null,
            "flex": null,
            "flex_flow": null,
            "grid_area": null,
            "grid_auto_columns": null,
            "grid_auto_flow": null,
            "grid_auto_rows": null,
            "grid_column": null,
            "grid_gap": null,
            "grid_row": null,
            "grid_template_areas": null,
            "grid_template_columns": null,
            "grid_template_rows": null,
            "height": null,
            "justify_content": null,
            "justify_items": null,
            "left": null,
            "margin": null,
            "max_height": null,
            "max_width": null,
            "min_height": null,
            "min_width": null,
            "object_fit": null,
            "object_position": null,
            "order": null,
            "overflow": null,
            "overflow_x": null,
            "overflow_y": null,
            "padding": null,
            "right": null,
            "top": null,
            "visibility": null,
            "width": null
          }
        },
        "4d490092b67d40ac9a244ee20c6bdcb8": {
          "model_module": "@jupyter-widgets/controls",
          "model_name": "ProgressStyleModel",
          "model_module_version": "1.5.0",
          "state": {
            "_model_module": "@jupyter-widgets/controls",
            "_model_module_version": "1.5.0",
            "_model_name": "ProgressStyleModel",
            "_view_count": null,
            "_view_module": "@jupyter-widgets/base",
            "_view_module_version": "1.2.0",
            "_view_name": "StyleView",
            "bar_color": null,
            "description_width": ""
          }
        },
        "fc04847e81614e90b98a906388f2f861": {
          "model_module": "@jupyter-widgets/base",
          "model_name": "LayoutModel",
          "model_module_version": "1.2.0",
          "state": {
            "_model_module": "@jupyter-widgets/base",
            "_model_module_version": "1.2.0",
            "_model_name": "LayoutModel",
            "_view_count": null,
            "_view_module": "@jupyter-widgets/base",
            "_view_module_version": "1.2.0",
            "_view_name": "LayoutView",
            "align_content": null,
            "align_items": null,
            "align_self": null,
            "border": null,
            "bottom": null,
            "display": null,
            "flex": null,
            "flex_flow": null,
            "grid_area": null,
            "grid_auto_columns": null,
            "grid_auto_flow": null,
            "grid_auto_rows": null,
            "grid_column": null,
            "grid_gap": null,
            "grid_row": null,
            "grid_template_areas": null,
            "grid_template_columns": null,
            "grid_template_rows": null,
            "height": null,
            "justify_content": null,
            "justify_items": null,
            "left": null,
            "margin": null,
            "max_height": null,
            "max_width": null,
            "min_height": null,
            "min_width": null,
            "object_fit": null,
            "object_position": null,
            "order": null,
            "overflow": null,
            "overflow_x": null,
            "overflow_y": null,
            "padding": null,
            "right": null,
            "top": null,
            "visibility": null,
            "width": null
          }
        },
        "96e2e315ede14a9eb8b6da69c43ac294": {
          "model_module": "@jupyter-widgets/controls",
          "model_name": "DescriptionStyleModel",
          "model_module_version": "1.5.0",
          "state": {
            "_model_module": "@jupyter-widgets/controls",
            "_model_module_version": "1.5.0",
            "_model_name": "DescriptionStyleModel",
            "_view_count": null,
            "_view_module": "@jupyter-widgets/base",
            "_view_module_version": "1.2.0",
            "_view_name": "StyleView",
            "description_width": ""
          }
        }
      }
    }
  },
  "nbformat": 4,
  "nbformat_minor": 0
}