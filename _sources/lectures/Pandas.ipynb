{
  "cells": [
    {
      "cell_type": "markdown",
      "metadata": {
        "id": "iiSCj52Yi6C-"
      },
      "source": [
        "# Handling Data"
      ]
    },
    {
      "cell_type": "code",
      "execution_count": null,
      "metadata": {
        "id": "oexkON-6i6DC"
      },
      "outputs": [],
      "source": [
        "%matplotlib inline\n",
        "import matplotlib.pyplot as plt\n",
        "import seaborn as sns; sns.set()\n",
        "import numpy as np\n",
        "import pandas as pd\n",
        "import os.path\n",
        "import subprocess"
      ]
    },
    {
      "cell_type": "markdown",
      "metadata": {
        "id": "rLK6ITGKi6DD"
      },
      "source": [
        "## Locate Course Data Files"
      ]
    },
    {
      "cell_type": "code",
      "execution_count": null,
      "metadata": {
        "id": "ss3IicAui6DE"
      },
      "outputs": [],
      "source": [
        "def wget_data(url):\n",
        "    local_path='./tmp_data'\n",
        "    subprocess.run([\"wget\", \"-nc\", \"-P\", local_path, url])"
      ]
    },
    {
      "cell_type": "code",
      "execution_count": null,
      "metadata": {
        "id": "I1EWSCJfi6DE"
      },
      "outputs": [],
      "source": [
        "wget_data('https://courses.physics.illinois.edu/phys503/fa2023/data/pong_data.hf5')"
      ]
    },
    {
      "cell_type": "code",
      "execution_count": null,
      "metadata": {
        "id": "JD38tA1li6DF"
      },
      "outputs": [],
      "source": [
        "def locate_data(name, check_exists=True):\n",
        "    local_path='./tmp_data'\n",
        "    path = os.path.join(local_path, name)\n",
        "    if check_exists and not os.path.exists(path):\n",
        "        raise RuxntimeError('No such data file: {}'.format(path))\n",
        "    return path"
      ]
    },
    {
      "cell_type": "code",
      "execution_count": null,
      "metadata": {
        "id": "-MozQ9xVi6DF"
      },
      "outputs": [],
      "source": [
        "locate_data('pong_data.hf5')"
      ]
    },
    {
      "cell_type": "markdown",
      "metadata": {
        "id": "5zZ_DJfii6DF"
      },
      "source": [
        "Data files are stored in the industry standard [binary HDF5](https://en.wikipedia.org/wiki/Hierarchical_Data_Format) and [text CSV](https://en.wikipedia.org/wiki/Comma-separated_values) formats, with extensions `.hf5` and `.csv`, respectively. HDF5 is more efficient for larger files but requires specialized software to read.  CSV files are just plain text:"
      ]
    },
    {
      "cell_type": "code",
      "execution_count": null,
      "metadata": {
        "id": "8SUQS3LQi6DG"
      },
      "outputs": [],
      "source": [
        "wget_data('https://courses.physics.illinois.edu/phys503/fa2023/data/line_data.csv')"
      ]
    },
    {
      "cell_type": "code",
      "execution_count": null,
      "metadata": {
        "id": "YWU4WVyKi6DG"
      },
      "outputs": [],
      "source": [
        "with open(locate_data('line_data.csv')) as f:\n",
        "    # Print the first 5 lines of the file.\n",
        "    for lineno in range(5):\n",
        "        print(f.readline(), end='')"
      ]
    },
    {
      "cell_type": "markdown",
      "metadata": {
        "id": "dx8jC9tSi6DH"
      },
      "source": [
        "The first line specifies the names of each column (\"feature\") in the data file. Subsequent lines are the rows (\"samples\") of the data file, with values for each column separated by commas.  Note that values might be missing (for example, at the end of the third row)."
      ]
    },
    {
      "cell_type": "markdown",
      "metadata": {
        "id": "zNLunFIAi6DH"
      },
      "source": [
        "## Read Files with Pandas"
      ]
    },
    {
      "cell_type": "markdown",
      "metadata": {
        "id": "UShZI4pki6DH"
      },
      "source": [
        "We will use the [Pandas package](https://pandas.pydata.org/) to read data files into DataFrame objects in memory.  This will only be a quick introduction. For a deeper dive, start with [Data Manipulation with Pandas](https://jakevdp.github.io/PythonDataScienceHandbook/03.00-introduction-to-pandas.html) in the [Phython Data Science Handbook](https://jakevdp.github.io/PythonDataScienceHandbook/index.html)."
      ]
    },
    {
      "cell_type": "code",
      "execution_count": null,
      "metadata": {
        "id": "BH3KW4n5i6DI"
      },
      "outputs": [],
      "source": [
        "pong_data = pd.read_hdf(locate_data('pong_data.hf5'))"
      ]
    },
    {
      "cell_type": "code",
      "execution_count": null,
      "metadata": {
        "id": "UYYW9M3si6DI"
      },
      "outputs": [],
      "source": [
        "line_data = pd.read_csv(locate_data('line_data.csv'))"
      ]
    },
    {
      "cell_type": "markdown",
      "metadata": {
        "id": "51nqa_Qni6DI"
      },
      "source": [
        "You can think of a DataFrame as an enhanced 2D numpy array, with most of the same capabilities:"
      ]
    },
    {
      "cell_type": "code",
      "execution_count": null,
      "metadata": {
        "id": "IRuKVFsMi6DJ"
      },
      "outputs": [],
      "source": [
        "line_data.shape"
      ]
    },
    {
      "cell_type": "markdown",
      "metadata": {
        "id": "mpQVxgLqi6DJ"
      },
      "source": [
        "Individual columns also behave like enhanced 1D numpy arrays:"
      ]
    },
    {
      "cell_type": "code",
      "execution_count": null,
      "metadata": {
        "id": "cPpZP0ELi6DK"
      },
      "outputs": [],
      "source": [
        "line_data['y'].shape"
      ]
    },
    {
      "cell_type": "code",
      "execution_count": null,
      "metadata": {
        "id": "ixf-LocNi6DK"
      },
      "outputs": [],
      "source": [
        "line_data['x'].shape"
      ]
    },
    {
      "cell_type": "markdown",
      "metadata": {
        "id": "eOIahLA0i6DK"
      },
      "source": [
        "For a first look at some unknown data, start with some basic [summary statistics](https://pandas.pydata.org/pandas-docs/stable/generated/pandas.DataFrame.aggregate.html):"
      ]
    },
    {
      "cell_type": "code",
      "execution_count": null,
      "metadata": {
        "id": "HJlWYLkxi6DK"
      },
      "outputs": [],
      "source": [
        "line_data.describe()"
      ]
    },
    {
      "cell_type": "markdown",
      "metadata": {
        "solution2": "hidden",
        "solution2_first": true,
        "id": "ZS9VVnfmi6DK"
      },
      "source": [
        "Jot down a few things you notice about this data from this summary."
      ]
    },
    {
      "cell_type": "markdown",
      "metadata": {
        "solution2": "hidden",
        "id": "BiIgFrg1i6DL"
      },
      "source": [
        "- The values of x and y are symmetric about zero.\n",
        "- The values of x look uniformly distributed on \\[-1, +1], judging by the percentiles.\n",
        "- The value of dy is always > 0, as you might expect if it represents the \"error on y\".\n",
        "- The dy column is missing 150 entries."
      ]
    },
    {
      "cell_type": "markdown",
      "metadata": {
        "solution2": "hidden",
        "solution2_first": true,
        "id": "NSgU2ugNi6DL"
      },
      "source": [
        "Summarize `pong_data` the same way.  Does anything stick out?"
      ]
    },
    {
      "cell_type": "code",
      "execution_count": null,
      "metadata": {
        "scrolled": true,
        "solution2": "hidden",
        "id": "jLgj5Gxui6DL"
      },
      "outputs": [],
      "source": [
        "pong_data.describe()"
      ]
    },
    {
      "cell_type": "markdown",
      "metadata": {
        "solution2": "hidden",
        "id": "z9u9B3ddi6DL"
      },
      "source": [
        "Some things that stick out from this summary are:\n",
        "- Mean, median values in the xn columns are increasing left to right.\n",
        "- Column y0 is always zero, so not very informative.\n",
        "- Mean, median values in the yn columns increase from y0 to y4 then decrease through y9."
      ]
    },
    {
      "cell_type": "markdown",
      "metadata": {
        "id": "ZSsETKpmi6DM"
      },
      "source": [
        "## Work with Subsets of Data"
      ]
    },
    {
      "cell_type": "markdown",
      "metadata": {
        "id": "a3VNN4Tpi6DM"
      },
      "source": [
        "A subset is specified by limiting the rows and/or columns.  We have already seen how to pick out a single column, e.g. with `line_data['x']`."
      ]
    },
    {
      "cell_type": "markdown",
      "metadata": {
        "id": "KiYzAqH5i6DM"
      },
      "source": [
        "We can also pick out specific rows (for details on why we use `iloc` see [here](https://jakevdp.github.io/PythonDataScienceHandbook/03.02-data-indexing-and-selection.html#Indexers:-loc,-iloc,-and-ix)):"
      ]
    },
    {
      "cell_type": "code",
      "execution_count": null,
      "metadata": {
        "id": "x8IRgkIJi6DM"
      },
      "outputs": [],
      "source": [
        "line_data.iloc[:4]"
      ]
    },
    {
      "cell_type": "markdown",
      "metadata": {
        "id": "6AxM8ZEMi6DM"
      },
      "source": [
        "Note how the missing value in the CSV file is represented as NaN = \"not a number\".  This is generally how Pandas handles any [data that is missing / invalid or otherwise not available (NA)](https://pandas.pydata.org/pandas-docs/stable/missing_data.html)."
      ]
    },
    {
      "cell_type": "markdown",
      "metadata": {
        "id": "5onc39O_i6DM"
      },
      "source": [
        "We may not want to use any rows with missing data. Select the subset of useful data with:"
      ]
    },
    {
      "cell_type": "code",
      "execution_count": null,
      "metadata": {
        "id": "hlLpNNPoi6DN"
      },
      "outputs": [],
      "source": [
        "line_data_valid = line_data.dropna()"
      ]
    },
    {
      "cell_type": "code",
      "execution_count": null,
      "metadata": {
        "id": "lLrCdFkWi6DN"
      },
      "outputs": [],
      "source": [
        "line_data_valid[:4]"
      ]
    },
    {
      "cell_type": "markdown",
      "metadata": {
        "id": "wGeckoiLi6DN"
      },
      "source": [
        "You can also select rows using any logical test on its column values. For example, to select all rows with dy > 0.5 and y < 0:"
      ]
    },
    {
      "cell_type": "code",
      "execution_count": null,
      "metadata": {
        "id": "fDw0d6wKi6DN"
      },
      "outputs": [],
      "source": [
        "xpos = line_data[(line_data['dy'] > 0.5) & (line_data['y'] < 0)]\n",
        "xpos[:4]"
      ]
    },
    {
      "cell_type": "markdown",
      "metadata": {
        "solution2": "hidden",
        "solution2_first": true,
        "id": "aLgr2tChi6DO"
      },
      "source": [
        "Use `describe` to compare the summary statistics for rows with x < 0 and x >= 0. Do they make sense?"
      ]
    },
    {
      "cell_type": "code",
      "execution_count": null,
      "metadata": {
        "solution2": "hidden",
        "id": "luwv5E4ii6DO"
      },
      "outputs": [],
      "source": [
        "line_data[line_data['x'] < 0].describe()"
      ]
    },
    {
      "cell_type": "code",
      "execution_count": null,
      "metadata": {
        "solution2": "hidden",
        "id": "3j4gP-Qzi6DY"
      },
      "outputs": [],
      "source": [
        "line_data[line_data['x'] >= 0].describe()"
      ]
    },
    {
      "cell_type": "markdown",
      "metadata": {
        "id": "lz2B1dQzi6DY"
      },
      "source": [
        "## Extend Data with New Columns"
      ]
    },
    {
      "cell_type": "markdown",
      "metadata": {
        "id": "yVRPS12Ti6DY"
      },
      "source": [
        "You can easily add new columns derived from existing columns, for example:"
      ]
    },
    {
      "cell_type": "code",
      "execution_count": null,
      "metadata": {
        "id": "SS0cPB4Mi6DZ"
      },
      "outputs": [],
      "source": [
        "line_data['yprediction'] = 1.2 * line_data['x'] - 0.1"
      ]
    },
    {
      "cell_type": "markdown",
      "metadata": {
        "id": "2ji94CrAi6DZ"
      },
      "source": [
        "The new column is only in memory, and not automatically written back to the original file."
      ]
    },
    {
      "cell_type": "markdown",
      "metadata": {
        "solution2": "hidden",
        "solution2_first": true,
        "id": "B0SamvCdi6Da"
      },
      "source": [
        "**EXERCISE:** Add a new column for the \"pull\", defined as:\n",
        "$$\n",
        "y_{pull} \\equiv \\frac{y - y_{prediction}}{\\delta y} \\; .\n",
        "$$\n",
        "What would you expect the mean and standard deviation (std) of this new column to be if the prediction is accuracte? What do the actual mean, std values indicate?"
      ]
    },
    {
      "cell_type": "code",
      "execution_count": null,
      "metadata": {
        "solution2": "hidden",
        "id": "e9uNqI_ri6Da"
      },
      "outputs": [],
      "source": [
        "line_data['ypull'] = (line_data['y'] - line_data['yprediction']) / line_data['dy']"
      ]
    },
    {
      "cell_type": "markdown",
      "metadata": {
        "solution2": "hidden",
        "id": "TEZVylcFi6Db"
      },
      "source": [
        "The mean should be close to zero if the prediction is unbiased.  The RMS should be close to one if the prediction is unbiased and the errors are accurate.  The actual values indicate that the prediction is unbiased, but the errors are overerestimated."
      ]
    },
    {
      "cell_type": "code",
      "execution_count": null,
      "metadata": {
        "solution2": "hidden",
        "id": "LOKCIXkei6Db"
      },
      "outputs": [],
      "source": [
        "line_data.describe()"
      ]
    },
    {
      "cell_type": "markdown",
      "metadata": {
        "id": "mO5XoVDsi6Db"
      },
      "source": [
        "## Combine Data from Different Sources"
      ]
    },
    {
      "cell_type": "markdown",
      "metadata": {
        "id": "_2UN6Y1Zi6Db"
      },
      "source": [
        "Most of the data files for this course are in data/targets pairs (for reasons that will be clear soon)."
      ]
    },
    {
      "cell_type": "markdown",
      "metadata": {
        "solution2": "hidden",
        "solution2_first": true,
        "id": "x9gR9sJFi6Dc"
      },
      "source": [
        "Verify that the files `pong_data.hf5` and `pong_targets.hf5` have the same number of rows but different column names."
      ]
    },
    {
      "cell_type": "code",
      "execution_count": null,
      "metadata": {
        "id": "yGv295vUi6Dc"
      },
      "outputs": [],
      "source": [
        "wget_data('https://courses.physics.illinois.edu/phys503/fa2023/data/pong_targets.hf5')"
      ]
    },
    {
      "cell_type": "code",
      "execution_count": null,
      "metadata": {
        "solution2": "hidden",
        "id": "UJeMyU3Ti6Dc"
      },
      "outputs": [],
      "source": [
        "pong_data = pd.read_hdf(locate_data('pong_data.hf5'))\n",
        "pong_targets = pd.read_hdf(locate_data('pong_targets.hf5'))\n",
        "\n",
        "print('#rows: {}, {}.'.format(len(pong_data), len(pong_targets)))\n",
        "assert len(pong_data) == len(pong_targets)\n",
        "\n",
        "print('data columns: {}.'.format(pong_data.columns.values))\n",
        "print('targets columns: {}.'.format(pong_targets.columns.values))"
      ]
    },
    {
      "cell_type": "markdown",
      "metadata": {
        "solution2": "hidden",
        "solution2_first": true,
        "id": "shdCGU_9i6Dd"
      },
      "source": [
        "Use `pd.concat` to combine the (different) columns, matching row by row. Verify that your combined data has the expected number of rows and column names."
      ]
    },
    {
      "cell_type": "code",
      "execution_count": null,
      "metadata": {
        "solution2": "hidden",
        "id": "g0Y02Ya0i6Dd"
      },
      "outputs": [],
      "source": [
        "pong_both = pd.concat([pong_data, pong_targets], axis='columns')"
      ]
    },
    {
      "cell_type": "code",
      "execution_count": null,
      "metadata": {
        "solution2": "hidden",
        "id": "x4sZuQkEi6De"
      },
      "outputs": [],
      "source": [
        "print('#rows: {}'.format(len(pong_both)))\n",
        "print('columns: {}.'.format(pong_both.columns.values))"
      ]
    },
    {
      "cell_type": "markdown",
      "metadata": {
        "id": "BA2CfCqXi6De"
      },
      "source": [
        "## Prepare Data from an External Source"
      ]
    },
    {
      "cell_type": "markdown",
      "metadata": {
        "id": "yUjZShEmi6Df"
      },
      "source": [
        "Finally, here is an example of taking data from an external source and adapting it to the standard format we are using.  The data is from the [2014 ATLAS Higgs Challenge](https://www.kaggle.com/c/higgs-boson) which is now documented and archived [here](http://opendata.cern.ch/record/328).  More details about the challenge are in [this writeup](http://opendata.cern.ch/record/329/files/atlas-higgs-challenge-2014.pdf)."
      ]
    },
    {
      "cell_type": "markdown",
      "metadata": {
        "id": "D5afkQ3Ui6Df"
      },
      "source": [
        "**EXERCISE:**\n",
        "\n",
        "1. Download the compressed CSV file (~62Mb) `atlas-higgs-challenge-2014-v2.csv.gz` using the link at the bottom of [this page](http://opendata.cern.ch/record/328).\n",
        "2. You can uncompress (gunzip) the file on-the-fly.\n",
        "3. Skim the description of the columns [here](http://opendata.cern.ch/record/328). The details are not important, but the main points are that:\n",
        "  - There are two types of input \"features\": 17 primary + 13 derived.\n",
        "  - The goal is to predict the \"Label\" from the input features.\n",
        "4. Examine the function defined below and determine what it does. Lookup the documentation of any functions you are unfamiliar with.\n",
        "5. Run the function below, which should create two new files in your coursse data directory:\n",
        "  - `higgs_data.hf5`: Input data with 30 columns, ~100Mb size.\n",
        "  - `higgs_targets.hf5`: Ouput targets with 1 column, ~8.8Mb size."
      ]
    },
    {
      "cell_type": "code",
      "execution_count": null,
      "metadata": {
        "id": "dUTnfb69i6Dg"
      },
      "outputs": [],
      "source": [
        "wget_data('http://opendata.cern.ch/record/328/files/atlas-higgs-challenge-2014-v2.csv.gz')"
      ]
    },
    {
      "cell_type": "code",
      "execution_count": null,
      "metadata": {
        "id": "I8tqDoHhi6Dh"
      },
      "outputs": [],
      "source": [
        "def prepare_higgs(filename='atlas-higgs-challenge-2014-v2.csv.gz'):\n",
        "    # Read the input file, uncompressing on the fly.\n",
        "    df = pd.read_csv(locate_data(filename), index_col='EventId', na_values='-999.0')\n",
        "    # Prepare and save the data output file.\n",
        "    higgs_data = df.drop(columns=['Label', 'KaggleSet', 'KaggleWeight']).astype('float32')\n",
        "    higgs_data.to_hdf(locate_data('higgs_data.hf5', check_exists=False), 'data', mode='w')\n",
        "    # Prepare and save the targets output file.\n",
        "    higgs_targets = df[['Label']]\n",
        "    higgs_targets.to_hdf(locate_data('higgs_targets.hf5', check_exists=False), 'targets', mode='w')"
      ]
    },
    {
      "cell_type": "code",
      "execution_count": null,
      "metadata": {
        "id": "XAhr5A_gi6Dh"
      },
      "outputs": [],
      "source": [
        "prepare_higgs()"
      ]
    },
    {
      "cell_type": "markdown",
      "metadata": {
        "id": "aR2L8rgDi6Di"
      },
      "source": [
        "Check that `locate_data` can find the new files:"
      ]
    },
    {
      "cell_type": "code",
      "execution_count": null,
      "metadata": {
        "id": "VWgrb2lti6Di"
      },
      "outputs": [],
      "source": [
        "locate_data('higgs_data.hf5')"
      ]
    },
    {
      "cell_type": "code",
      "execution_count": null,
      "metadata": {
        "id": "rXMjuR-bi6Dj"
      },
      "outputs": [],
      "source": [
        "locate_data('higgs_targets.hf5')"
      ]
    },
    {
      "cell_type": "markdown",
      "metadata": {
        "id": "JFLc4_Bai6Dj"
      },
      "source": [
        "Now you can load these data files and explore the data"
      ]
    },
    {
      "cell_type": "code",
      "execution_count": null,
      "metadata": {
        "id": "ihs0JwzFi6Dk"
      },
      "outputs": [],
      "source": [
        "higgs_data = pd.read_hdf(locate_data('higgs_data.hf5'))"
      ]
    },
    {
      "cell_type": "code",
      "execution_count": null,
      "metadata": {
        "id": "8vo-VMFdi6Dk"
      },
      "outputs": [],
      "source": [
        "higgs_data.describe()"
      ]
    },
    {
      "cell_type": "code",
      "execution_count": null,
      "metadata": {
        "id": "qnhJhEC9i6Dl"
      },
      "outputs": [],
      "source": [
        "higgs_targets = pd.read_hdf(locate_data('higgs_targets.hf5'))"
      ]
    },
    {
      "cell_type": "code",
      "execution_count": null,
      "metadata": {
        "id": "m63t9x2Xi6Dl"
      },
      "outputs": [],
      "source": [
        "higgs_targets.describe()"
      ]
    },
    {
      "cell_type": "markdown",
      "metadata": {
        "id": "OkIrTHTii6Dm"
      },
      "source": [
        "You can now safely remove the `tmp_data` directory if you like. This is an example of a [shell command](https://jakevdp.github.io/PythonDataScienceHandbook/01.05-ipython-and-shell-commands.html). Uncomment this line if you want to do this. Colab will clean this up after you end the session."
      ]
    },
    {
      "cell_type": "code",
      "execution_count": null,
      "metadata": {
        "id": "dNyKpbH_i6Dm"
      },
      "outputs": [],
      "source": [
        "#!rm -rf ./tmp_data"
      ]
    }
  ],
  "metadata": {
    "kernelspec": {
      "display_name": "Python 3",
      "language": "python",
      "name": "python3"
    },
    "language_info": {
      "codemirror_mode": {
        "name": "ipython",
        "version": 3
      },
      "file_extension": ".py",
      "mimetype": "text/x-python",
      "name": "python",
      "nbconvert_exporter": "python",
      "pygments_lexer": "ipython3",
      "version": "3.11.2"
    },
    "colab": {
      "provenance": []
    }
  },
  "nbformat": 4,
  "nbformat_minor": 0
}