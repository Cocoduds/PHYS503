{
  "cells": [
    {
      "cell_type": "markdown",
      "metadata": {
        "id": "s8Xy_rkjfua2"
      },
      "source": [
        "# Jupyter Notebooks and Numerical Python"
      ]
    },
    {
      "cell_type": "markdown",
      "metadata": {
        "id": "YXioLQAUfua4"
      },
      "source": [
        "## Jupyter Notebooks"
      ]
    },
    {
      "cell_type": "markdown",
      "metadata": {
        "id": "ywUCP14zfua5"
      },
      "source": [
        "Jupyter is an interactive front-end to a rich ecosystem of python packages that support machine learning and data science tasks. We will use the core set of packages shown below for this course:\n",
        "\n",
        "<img src=\"https://courses.physics.illinois.edu/phys503/fa2023/img/JupyterNumpy-packages.png\" width=800 align=left></img><br>"
      ]
    },
    {
      "cell_type": "markdown",
      "metadata": {
        "id": "WB_ncQnCfua5"
      },
      "source": [
        "All course notebooks begin with some preamble code to import and configure some frequently used packages:"
      ]
    },
    {
      "cell_type": "code",
      "execution_count": 8,
      "metadata": {
        "id": "hAL3wAa7fua6"
      },
      "outputs": [],
      "source": [
        "%matplotlib inline\n",
        "import matplotlib.pyplot as plt\n",
        "import seaborn as sns; sns.set()\n",
        "import numpy as np\n",
        "import pandas as pd"
      ]
    },
    {
      "cell_type": "markdown",
      "metadata": {
        "id": "JzYhy2HOfua7"
      },
      "source": [
        "You might see a warning about \"building the font cache\" if this is your first time using the course conda environment, but any other message probably indicates that you do not have your environment set up correctly yet."
      ]
    },
    {
      "cell_type": "markdown",
      "metadata": {
        "id": "23S8Jj3cfua7"
      },
      "source": [
        "Here are the actual package versions we are using:"
      ]
    },
    {
      "cell_type": "code",
      "execution_count": null,
      "metadata": {
        "id": "oqbAxlF1fua7"
      },
      "outputs": [],
      "source": [
        "import matplotlib\n",
        "print('matplotlib', matplotlib.__version__)\n",
        "print('seaborn', sns.__version__)\n",
        "print('numpy', np.__version__)\n",
        "print('pandas', pd.__version__)"
      ]
    },
    {
      "cell_type": "markdown",
      "metadata": {
        "id": "h4NG-QDcfua8"
      },
      "source": [
        "You will get plenty of experience with notebooks during this course so we will start with just a few basic survival skills.  For a deeper dive, start with [IPython: Beyond Normal Python](https://jakevdp.github.io/PythonDataScienceHandbook/01.00-ipython-beyond-normal-python.html) in the [Python Data Science Handbook](https://jakevdp.github.io/PythonDataScienceHandbook/index.html)."
      ]
    },
    {
      "cell_type": "markdown",
      "metadata": {
        "id": "QEAdkytNfua8"
      },
      "source": [
        "Type `command?` to display help on `command`. Try this now for the built-in `range` function then dismiss the help window."
      ]
    },
    {
      "cell_type": "markdown",
      "metadata": {
        "id": "gBf6q7rKfua9"
      },
      "source": [
        "<img src=\"https://courses.physics.illinois.edu/phys503/fa2023/img/AnsStart.svg\" width=200 align=left></img><br>"
      ]
    },
    {
      "cell_type": "code",
      "execution_count": null,
      "metadata": {
        "id": "7lyjfpQ_fua9"
      },
      "outputs": [],
      "source": []
    },
    {
      "cell_type": "markdown",
      "metadata": {
        "id": "wEIGMbxBfua9"
      },
      "source": [
        "<img src=\"https://courses.physics.illinois.edu/phys503/fa2023/img/AnsEnd.svg\" width=200 align=left></img><br>"
      ]
    },
    {
      "cell_type": "markdown",
      "metadata": {
        "id": "E0DoAEGUfua9"
      },
      "source": [
        "Hit the tab key to display possible completions of a partial name.  Try this now by typing `np.arc` below then hitting TAB."
      ]
    },
    {
      "cell_type": "markdown",
      "metadata": {
        "id": "gJ1eFGTZfua-"
      },
      "source": [
        "<img src=\"https://courses.physics.illinois.edu/phys503/fa2023/img/AnsStart.svg\" width=200 align=left></img><br>"
      ]
    },
    {
      "cell_type": "code",
      "execution_count": null,
      "metadata": {
        "id": "fA2yym5sfua-"
      },
      "outputs": [],
      "source": []
    },
    {
      "cell_type": "markdown",
      "metadata": {
        "id": "NdjwwirHfua-"
      },
      "source": [
        "<img src=\"https://courses.physics.illinois.edu/phys503/fa2023/img/AnsEnd.svg\" width=200 align=left></img><br>"
      ]
    },
    {
      "cell_type": "markdown",
      "metadata": {
        "id": "q8cx6asrfua-"
      },
      "source": [
        "Your notebook will sometimes be unresponsive while executing a long command that you don't want to wait for. Use the *Interrupt* command in the *Kernel* menu to recover from situations like this.  Try this out now by:\n",
        " - Uncomment the `time.sleep(3600)` line below, which sleeps for an hour.\n",
        " - Execute the cell and note the `In [*]` to the left while it is running.\n",
        " - Interrupt the kernel."
      ]
    },
    {
      "cell_type": "code",
      "execution_count": null,
      "metadata": {
        "id": "XpvVTQmIfua_"
      },
      "outputs": [],
      "source": [
        "import time\n",
        "#time.sleep(3600)"
      ]
    },
    {
      "cell_type": "markdown",
      "metadata": {
        "id": "p8qqWRqIfua_"
      },
      "source": [
        "In more extreme cases you may need to use the *Restart* command, which puts your kernel in a well-defined initial state (good) but also forgets any variables or functions you have already defined (bad). Try this now by:\n",
        " - Re-running the sleep cell above.\n",
        " - Restarting the kernel.  Note that this leaves `[*]` next to the cell, which is misleading.\n",
        " - Comment out the `time.sleep(3600)` line above.\n",
        " - Rebuild the kernel state using *Run All Above* from the *Cell* menu. This fixes the `[*]`."
      ]
    },
    {
      "cell_type": "markdown",
      "metadata": {
        "id": "8r8y5teufua_"
      },
      "source": [
        "## Numerical Python"
      ]
    },
    {
      "cell_type": "markdown",
      "metadata": {
        "id": "onbovOdofubA"
      },
      "source": [
        "This section introduces the \"numpy\" package. For further reading, see [Introduction to NumPy](https://jakevdp.github.io/PythonDataScienceHandbook/02.00-introduction-to-numpy.html) in the [Python Data Science Handbook](https://jakevdp.github.io/PythonDataScienceHandbook/index.html)."
      ]
    },
    {
      "cell_type": "markdown",
      "metadata": {
        "id": "sMWlyGqwfubA"
      },
      "source": [
        "### Rationale"
      ]
    },
    {
      "cell_type": "markdown",
      "metadata": {
        "id": "J5nRj30xfubA"
      },
      "source": [
        "The problem that numpy addresses is that python lists are very flexible, but not optimized for the special case where all list elements are numeric values of the same type, which can be very efficiently organized in memory. Numpy provides a specialized array with lots of nice features. One downside of this approach is that most of builtin math functions are duplicated (e.g., `math.sin` and `np.sin`) to work with numpy arrays."
      ]
    },
    {
      "cell_type": "markdown",
      "metadata": {
        "id": "Zi_4c-V5fubA"
      },
      "source": [
        "In this example, we fill a list with values $\\sin(\\pi k / n)$ using plain python and the builtin math package (if the use of spaces in `math.pi * k / n` looks odd, see [PEP8](https://www.python.org/dev/peps/pep-0008/#whitespace-in-expressions-and-statements)):"
      ]
    },
    {
      "cell_type": "code",
      "execution_count": 1,
      "metadata": {
        "id": "pHYy_QnBfubB"
      },
      "outputs": [],
      "source": [
        "import math"
      ]
    },
    {
      "cell_type": "code",
      "execution_count": 4,
      "metadata": {
        "id": "1eHyU7BmfubB"
      },
      "outputs": [],
      "source": [
        "def create_python_array(n=100):\n",
        "    x = []\n",
        "    for k in range(n):\n",
        "        x.append(math.sin(math.pi * k / n))\n",
        "    return x"
      ]
    },
    {
      "cell_type": "markdown",
      "metadata": {
        "id": "UZ9wq9pQfubB"
      },
      "source": [
        "Use an ipython [magic command](http://ipython.readthedocs.io/en/stable/interactive/magics.html) to time this function for a large array:"
      ]
    },
    {
      "cell_type": "code",
      "execution_count": 3,
      "metadata": {
        "colab": {
          "base_uri": "https://localhost:8080/"
        },
        "id": "QONGyV3ZfubB",
        "outputId": "a4c930a9-fd0d-477e-f503-b63f82c3be63"
      },
      "outputs": [
        {
          "output_type": "stream",
          "name": "stdout",
          "text": [
            "CPU times: user 300 ms, sys: 34 ms, total: 334 ms\n",
            "Wall time: 484 ms\n"
          ]
        }
      ],
      "source": [
        "%time x1 = create_python_array(1000000)"
      ]
    },
    {
      "cell_type": "markdown",
      "metadata": {
        "id": "tuChPlyifubB"
      },
      "source": [
        "The resulting list is very flexible so, for example, we can replace any value with a completely different type or append new values:"
      ]
    },
    {
      "cell_type": "code",
      "execution_count": 5,
      "metadata": {
        "id": "X4nUKxewfubC"
      },
      "outputs": [],
      "source": [
        "x1[3] = 'not a number'\n",
        "x1.append(-1)"
      ]
    },
    {
      "cell_type": "markdown",
      "metadata": {
        "id": "R2kuQN1MfubC"
      },
      "source": [
        "The corresponding python code uses numpy functions and does not require any python loop (which is often a bottleneck):"
      ]
    },
    {
      "cell_type": "code",
      "execution_count": 6,
      "metadata": {
        "id": "18LWdz_CfubC"
      },
      "outputs": [],
      "source": [
        "def create_numpy_array(n=100):\n",
        "    k = np.arange(n)\n",
        "    x = np.sin(np.pi * k / n)\n",
        "    return x"
      ]
    },
    {
      "cell_type": "code",
      "execution_count": 9,
      "metadata": {
        "colab": {
          "base_uri": "https://localhost:8080/"
        },
        "id": "WFD9pN4VfubC",
        "outputId": "372af6d8-06b8-4dee-818e-4c64ec1781cb"
      },
      "outputs": [
        {
          "output_type": "stream",
          "name": "stdout",
          "text": [
            "CPU times: user 17.8 ms, sys: 5.01 ms, total: 22.8 ms\n",
            "Wall time: 26.4 ms\n"
          ]
        }
      ],
      "source": [
        "%time x2 = create_numpy_array(1000000)"
      ]
    },
    {
      "cell_type": "markdown",
      "metadata": {
        "id": "hGbr4IVifubD"
      },
      "source": [
        "The resulting numpy array holds only 64-bit floating point numbers and has a fixed size:"
      ]
    },
    {
      "cell_type": "code",
      "execution_count": 10,
      "metadata": {
        "colab": {
          "base_uri": "https://localhost:8080/"
        },
        "id": "Guy_Lj8XfubD",
        "outputId": "67f7b421-5435-4c36-95ca-447ddb750006"
      },
      "outputs": [
        {
          "output_type": "stream",
          "name": "stdout",
          "text": [
            "could not convert string to float: 'not a number'\n"
          ]
        }
      ],
      "source": [
        "try:\n",
        "    x2[2] = 'not a number'\n",
        "except ValueError as e:\n",
        "    print(e)"
      ]
    },
    {
      "cell_type": "markdown",
      "metadata": {
        "id": "mbiGaiNffubD"
      },
      "source": [
        "### Create Arrays"
      ]
    },
    {
      "cell_type": "markdown",
      "metadata": {
        "id": "PMBYjBdmfubD"
      },
      "source": [
        "The most common ways you will create arrays are:\n",
        " - Filled with a regular sequence of values.\n",
        " - Filled with random values.\n",
        " - Calculated as a mathematical function of other arrays.\n",
        "\n",
        "The exercises below will give you some practice, with pointers to the `numpy functions` to use (Use the builtin notebook help to learn more about them)."
      ]
    },
    {
      "cell_type": "markdown",
      "metadata": {
        "solution2": "hidden",
        "solution2_first": true,
        "id": "tqLqwBKtfubD"
      },
      "source": [
        "**EXAMPLE:** Use `np.arange` to create an array of integers 0, 1, ..., 9:"
      ]
    },
    {
      "cell_type": "code",
      "execution_count": 11,
      "metadata": {
        "solution2": "hidden",
        "colab": {
          "base_uri": "https://localhost:8080/"
        },
        "id": "kf9_hkv0fubE",
        "outputId": "d7937b9d-da61-4504-f453-299f2d969508"
      },
      "outputs": [
        {
          "output_type": "execute_result",
          "data": {
            "text/plain": [
              "array([0, 1, 2, 3, 4, 5, 6, 7, 8, 9])"
            ]
          },
          "metadata": {},
          "execution_count": 11
        }
      ],
      "source": [
        "np.arange(10)"
      ]
    },
    {
      "cell_type": "markdown",
      "metadata": {
        "solution2": "hidden",
        "solution2_first": true,
        "id": "F727a21qfubF"
      },
      "source": [
        "**EXAMPLE:** Use `np.linspace` to create an array of 11 floats 0.0, 0.1, ..., 0.9, 1.0:"
      ]
    },
    {
      "cell_type": "code",
      "execution_count": 12,
      "metadata": {
        "solution2": "hidden",
        "colab": {
          "base_uri": "https://localhost:8080/"
        },
        "id": "mckwHVaOfubF",
        "outputId": "9180194c-f5a5-46f6-e2a4-8fba307a1f86"
      },
      "outputs": [
        {
          "output_type": "execute_result",
          "data": {
            "text/plain": [
              "array([0. , 0.1, 0.2, 0.3, 0.4, 0.5, 0.6, 0.7, 0.8, 0.9, 1. ])"
            ]
          },
          "metadata": {},
          "execution_count": 12
        }
      ],
      "source": [
        "np.linspace(0., 1., 11)"
      ]
    },
    {
      "cell_type": "markdown",
      "metadata": {
        "solution2": "hidden",
        "solution2_first": true,
        "id": "RKFNtUgcfubF"
      },
      "source": [
        "**EXAMPLE:** Use `np.random.RandomState` to initialize a reproducible (pseudo)random number generator using the seed 123:"
      ]
    },
    {
      "cell_type": "code",
      "execution_count": 13,
      "metadata": {
        "solution2": "hidden",
        "id": "rJX8gRMrfubF"
      },
      "outputs": [],
      "source": [
        "generator = np.random.RandomState(seed=123)"
      ]
    },
    {
      "cell_type": "markdown",
      "metadata": {
        "solution2": "hidden",
        "solution2_first": true,
        "id": "Mp0s97KVfubG"
      },
      "source": [
        "**EXAMPLE:** Use `np.random.uniform` to generate an array of 10 uniformly distributed random numbers in the interval [0,1]:"
      ]
    },
    {
      "cell_type": "code",
      "execution_count": 14,
      "metadata": {
        "solution2": "hidden",
        "colab": {
          "base_uri": "https://localhost:8080/"
        },
        "id": "LcE4-xYifubG",
        "outputId": "9483e551-2212-43ca-ce68-05d836d613a0"
      },
      "outputs": [
        {
          "output_type": "execute_result",
          "data": {
            "text/plain": [
              "array([0.69646919, 0.28613933, 0.22685145, 0.55131477, 0.71946897,\n",
              "       0.42310646, 0.9807642 , 0.68482974, 0.4809319 , 0.39211752])"
            ]
          },
          "metadata": {},
          "execution_count": 14
        }
      ],
      "source": [
        "generator.uniform(size=10)"
      ]
    },
    {
      "cell_type": "markdown",
      "metadata": {
        "solution2": "hidden",
        "solution2_first": true,
        "id": "YeWIQ724fubG"
      },
      "source": [
        "**EXERCISE:** Use `np.random.normal` to generate an array of 10 random numbers drawn from a [normal (aka Gaussian) distribution](https://en.wikipedia.org/wiki/Normal_distribution) with mean -1 and [standard deviation](https://en.wikipedia.org/wiki/Standard_deviation) 2:"
      ]
    },
    {
      "cell_type": "code",
      "execution_count": 15,
      "metadata": {
        "solution2": "hidden",
        "colab": {
          "base_uri": "https://localhost:8080/"
        },
        "id": "3_oPwjgvfubG",
        "outputId": "e4b2164f-2703-49f8-8c46-83075e2d035f"
      },
      "outputs": [
        {
          "output_type": "execute_result",
          "data": {
            "text/plain": [
              "array([ 1.53187252, -2.7334808 , -2.3577723 , -1.18941794,  1.98277925,\n",
              "       -2.27780399, -1.88796392, -1.86870255,  3.41186017,  3.37357218])"
            ]
          },
          "metadata": {},
          "execution_count": 15
        }
      ],
      "source": [
        "generator.normal(loc=-1, scale=2, size=10)"
      ]
    },
    {
      "cell_type": "markdown",
      "metadata": {
        "solution2": "hidden",
        "solution2_first": true,
        "id": "zO8llr72fubG"
      },
      "source": [
        "**EXAMPLE:** Generate arrays x, y, z of length 10 with values drawn from a \"unit\" Gaussian distribution (mean=0, std=1):"
      ]
    },
    {
      "cell_type": "code",
      "execution_count": 16,
      "metadata": {
        "solution2": "hidden",
        "id": "B-Dwm-tPfubH"
      },
      "outputs": [],
      "source": [
        "x = generator.normal(size=10)\n",
        "y = generator.normal(size=10)\n",
        "z = generator.normal(size=10)"
      ]
    },
    {
      "cell_type": "markdown",
      "metadata": {
        "solution2": "hidden",
        "solution2_first": true,
        "id": "Ylgebt7bfubH"
      },
      "source": [
        "**EXAMPLE:** Adjust the values in x, y, z so that the vectors (x,y,z) are normalized. (This is a useful trick for generating random points that are uniformly distributed on a unit sphere)."
      ]
    },
    {
      "cell_type": "code",
      "execution_count": 17,
      "metadata": {
        "solution2": "hidden",
        "id": "mRk_Q99lfubH"
      },
      "outputs": [],
      "source": [
        "r = np.sqrt(x ** 2 + y ** 2 + z ** 2)\n",
        "x /= r\n",
        "y /= r\n",
        "z /= r"
      ]
    },
    {
      "cell_type": "markdown",
      "metadata": {
        "solution2": "hidden",
        "solution2_first": true,
        "id": "jk-g6TjFfubH"
      },
      "source": [
        "**EXAMPLE:** Calculate arrays `theta` and `phi` containing the polar angles **in degrees** for each vector (x, y, z). Use `np.arccos`, `np.arctan2`, `np.degrees`."
      ]
    },
    {
      "cell_type": "code",
      "execution_count": 20,
      "metadata": {
        "solution2": "hidden",
        "colab": {
          "base_uri": "https://localhost:8080/"
        },
        "id": "VoTCCeRifubI",
        "outputId": "c905c4cb-5ac9-47f7-e5d8-d5736eb1f842"
      },
      "outputs": [
        {
          "output_type": "stream",
          "name": "stdout",
          "text": [
            "[130.94437732  73.28250202 135.9013039  118.58408989 101.04005813\n",
            "  67.24978754  77.75129324  91.02541555  20.76515178  75.4053876 ] [  -7.94169048  -65.86096452  -19.11960592  -61.9569901  -117.84579781\n",
            "  -30.76196372  143.51064473 -164.7696815     0.17975692  154.27899719]\n"
          ]
        }
      ],
      "source": [
        "theta = np.degrees(np.arccos(z))\n",
        "phi = np.degrees(np.arctan2(y, x))\n",
        "print(theta,phi)"
      ]
    },
    {
      "cell_type": "markdown",
      "metadata": {
        "id": "S6_6_wnsfubI"
      },
      "source": [
        "### Multidimensional Arrays"
      ]
    },
    {
      "cell_type": "markdown",
      "metadata": {
        "id": "c75VybkYfubI"
      },
      "source": [
        "The examples above all create 1D arrays, but numpy arrays can have multiple dimensions (aka \"shapes\"):"
      ]
    },
    {
      "cell_type": "code",
      "execution_count": 19,
      "metadata": {
        "id": "1RvjWF_XfubI"
      },
      "outputs": [],
      "source": [
        "vector = np.ones(shape=(4,))\n",
        "matrix = np.ones(shape=(3, 4))\n",
        "tensor = np.ones(shape=(2, 3, 4))"
      ]
    },
    {
      "cell_type": "markdown",
      "metadata": {
        "id": "ViyaIQSBfubJ"
      },
      "source": [
        "Access array elements with zero-based indexing:"
      ]
    },
    {
      "cell_type": "code",
      "execution_count": 21,
      "metadata": {
        "colab": {
          "base_uri": "https://localhost:8080/"
        },
        "id": "Cp6ZQ9v7fubJ",
        "outputId": "ffce297e-a49e-47ec-f0ec-1b49ff51610d"
      },
      "outputs": [
        {
          "output_type": "execute_result",
          "data": {
            "text/plain": [
              "1.0"
            ]
          },
          "metadata": {},
          "execution_count": 21
        }
      ],
      "source": [
        "vector[1] # single element"
      ]
    },
    {
      "cell_type": "code",
      "execution_count": 22,
      "metadata": {
        "colab": {
          "base_uri": "https://localhost:8080/"
        },
        "id": "cpk2K6_VfubJ",
        "outputId": "98123047-06a4-4699-f7a8-756e3a3888a3"
      },
      "outputs": [
        {
          "output_type": "execute_result",
          "data": {
            "text/plain": [
              "array([1., 1., 1., 1.])"
            ]
          },
          "metadata": {},
          "execution_count": 22
        }
      ],
      "source": [
        "matrix[1, :] # single row"
      ]
    },
    {
      "cell_type": "code",
      "execution_count": 23,
      "metadata": {
        "colab": {
          "base_uri": "https://localhost:8080/"
        },
        "id": "cvKptrxyfubJ",
        "outputId": "84cb049a-8929-4970-dd02-3804725e823e"
      },
      "outputs": [
        {
          "output_type": "execute_result",
          "data": {
            "text/plain": [
              "array([1., 1., 1.])"
            ]
          },
          "metadata": {},
          "execution_count": 23
        }
      ],
      "source": [
        "matrix[:, 1] # single column"
      ]
    },
    {
      "cell_type": "code",
      "execution_count": 24,
      "metadata": {
        "colab": {
          "base_uri": "https://localhost:8080/"
        },
        "id": "yGgS8sc-fubK",
        "outputId": "013e9dbb-046b-4062-d83f-0461c16931cd"
      },
      "outputs": [
        {
          "output_type": "execute_result",
          "data": {
            "text/plain": [
              "array([[1., 1.],\n",
              "       [1., 1.]])"
            ]
          },
          "metadata": {},
          "execution_count": 24
        }
      ],
      "source": [
        "tensor[0, :2, :2] # submatrix"
      ]
    },
    {
      "cell_type": "markdown",
      "metadata": {
        "id": "GIRoqTRJfubK"
      },
      "source": [
        "Use `np.dot` to calculate inner products:"
      ]
    },
    {
      "cell_type": "code",
      "execution_count": 25,
      "metadata": {
        "colab": {
          "base_uri": "https://localhost:8080/"
        },
        "id": "LUyHn0LofubK",
        "outputId": "96e6a5e6-41d4-4824-9a7a-da07d5999469"
      },
      "outputs": [
        {
          "output_type": "execute_result",
          "data": {
            "text/plain": [
              "4.0"
            ]
          },
          "metadata": {},
          "execution_count": 25
        }
      ],
      "source": [
        "vector.dot(vector)"
      ]
    },
    {
      "cell_type": "code",
      "execution_count": 26,
      "metadata": {
        "colab": {
          "base_uri": "https://localhost:8080/"
        },
        "id": "RECTCk7LfubK",
        "outputId": "e1a1913f-c94b-400f-ba2e-f3331657a7c2"
      },
      "outputs": [
        {
          "output_type": "execute_result",
          "data": {
            "text/plain": [
              "array([4., 4., 4.])"
            ]
          },
          "metadata": {},
          "execution_count": 26
        }
      ],
      "source": [
        "matrix.dot(vector)"
      ]
    },
    {
      "cell_type": "markdown",
      "metadata": {
        "id": "fBit_lTXfubK"
      },
      "source": [
        "Arrays of the same shape can be combined in \"vectorized\" operations (i.e., without any explicit loops):"
      ]
    },
    {
      "cell_type": "code",
      "execution_count": 27,
      "metadata": {
        "colab": {
          "base_uri": "https://localhost:8080/"
        },
        "id": "YN3itgfkfubL",
        "outputId": "47620e82-b694-4081-a7ec-573595ce983a"
      },
      "outputs": [
        {
          "output_type": "execute_result",
          "data": {
            "text/plain": [
              "array([[1.84147098, 1.84147098, 1.84147098, 1.84147098],\n",
              "       [1.84147098, 1.84147098, 1.84147098, 1.84147098],\n",
              "       [1.84147098, 1.84147098, 1.84147098, 1.84147098]])"
            ]
          },
          "metadata": {},
          "execution_count": 27
        }
      ],
      "source": [
        "matrix + np.sin(matrix ** 2)"
      ]
    },
    {
      "cell_type": "markdown",
      "metadata": {
        "id": "aczRsvRBfubL"
      },
      "source": [
        "Arrays of different shapes can also be combined when they are compatible according to the [broadcasting rules](https://docs.scipy.org/doc/numpy-1.13.0/user/basics.broadcasting.html).  Note that the broadcasting rules do not depend on the operations being used so, for example, if `x + y` is valid, then so is `x * y ** 2 + x ** 2 * y`."
      ]
    },
    {
      "cell_type": "code",
      "execution_count": 28,
      "metadata": {
        "colab": {
          "base_uri": "https://localhost:8080/"
        },
        "id": "v0RfQuI_fubL",
        "outputId": "32926e2a-d43b-4600-b63e-445aae747906"
      },
      "outputs": [
        {
          "output_type": "execute_result",
          "data": {
            "text/plain": [
              "array([[1.1, 1.1, 1.1, 1.1],\n",
              "       [1.1, 1.1, 1.1, 1.1],\n",
              "       [1.1, 1.1, 1.1, 1.1]])"
            ]
          },
          "metadata": {},
          "execution_count": 28
        }
      ],
      "source": [
        "matrix + 0.1"
      ]
    },
    {
      "cell_type": "code",
      "execution_count": 29,
      "metadata": {
        "colab": {
          "base_uri": "https://localhost:8080/"
        },
        "id": "KEbssT0ZfubL",
        "outputId": "ccb58a45-2ffa-4d58-e511-658ce947e266"
      },
      "outputs": [
        {
          "output_type": "execute_result",
          "data": {
            "text/plain": [
              "array([[2., 2., 2., 2.],\n",
              "       [2., 2., 2., 2.],\n",
              "       [2., 2., 2., 2.]])"
            ]
          },
          "metadata": {},
          "execution_count": 29
        }
      ],
      "source": [
        "vector + matrix"
      ]
    },
    {
      "cell_type": "markdown",
      "metadata": {
        "id": "5phpRavsfubL"
      },
      "source": [
        "Define a function to try broadcasting two arbitrary shapes:"
      ]
    },
    {
      "cell_type": "code",
      "execution_count": 30,
      "metadata": {
        "id": "Y7mRU8VmfubM"
      },
      "outputs": [],
      "source": [
        "def broadcast(shape1, shape2):\n",
        "    array1 = np.ones(shape1)\n",
        "    array2 = np.ones(shape2)\n",
        "    try:\n",
        "        array12 = array1 + array2\n",
        "        print('shapes {} {} broadcast to {}'.format(shape1, shape2, array12.shape))\n",
        "    except ValueError as e:\n",
        "        print(e)"
      ]
    },
    {
      "cell_type": "code",
      "execution_count": 31,
      "metadata": {
        "colab": {
          "base_uri": "https://localhost:8080/"
        },
        "id": "QrqqTLs2fubM",
        "outputId": "c08ae62b-7f85-4a27-d5b1-f73932dbaafb"
      },
      "outputs": [
        {
          "output_type": "stream",
          "name": "stdout",
          "text": [
            "shapes (1, 3) (3,) broadcast to (1, 3)\n"
          ]
        }
      ],
      "source": [
        "broadcast((1, 3), (3,))"
      ]
    },
    {
      "cell_type": "code",
      "execution_count": 33,
      "metadata": {
        "colab": {
          "base_uri": "https://localhost:8080/"
        },
        "id": "gystoKlFfubM",
        "outputId": "58e32097-1e73-47bb-f536-95a9de5824da"
      },
      "outputs": [
        {
          "output_type": "stream",
          "name": "stdout",
          "text": [
            "operands could not be broadcast together with shapes (1,2) (3,) \n"
          ]
        }
      ],
      "source": [
        "broadcast((1, 2), (3,))"
      ]
    },
    {
      "cell_type": "markdown",
      "metadata": {
        "solution2": "hidden",
        "solution2_first": true,
        "id": "RWF4qCj1fubM"
      },
      "source": [
        "**EXERCISE:** Predict the results of the following:\n",
        "```\n",
        "broadcast((3, 1, 2), (3, 2))\n",
        "broadcast((2, 1, 3), (3, 2))\n",
        "broadcast((3,), (2, 1))\n",
        "broadcast((3,), (1, 2))\n",
        "broadcast((3,), (1, 3))\n",
        "```"
      ]
    },
    {
      "cell_type": "code",
      "execution_count": 35,
      "metadata": {
        "solution2": "hidden",
        "colab": {
          "base_uri": "https://localhost:8080/"
        },
        "id": "mIQnzfa-fubN",
        "outputId": "f0e5496c-8684-4fc5-a1cb-96a78601a607"
      },
      "outputs": [
        {
          "output_type": "stream",
          "name": "stdout",
          "text": [
            "shapes (3, 1, 2) (3, 2) broadcast to (3, 3, 2)\n",
            "None\n",
            "operands could not be broadcast together with shapes (2,1,3) (3,2) \n",
            "shapes (3,) (2, 1) broadcast to (2, 3)\n",
            "None\n",
            "operands could not be broadcast together with shapes (3,) (1,2) \n",
            "shapes (3,) (1, 3) broadcast to (1, 3)\n",
            "None\n"
          ]
        }
      ],
      "source": [
        "print(broadcast((3, 1, 2), (3, 2)))\n",
        "broadcast((2, 1, 3), (3, 2))\n",
        "print(broadcast((3,), (2, 1)))\n",
        "broadcast((3,), (1, 2))\n",
        "print(broadcast((3,), (1, 3)))"
      ]
    },
    {
      "cell_type": "markdown",
      "metadata": {
        "id": "3VBc-kESfubN"
      },
      "source": [
        "Since array values are always \"unrolled\" into physical memory, arrays with different shapes can look identical in memory.  Numpy takes advantage of this with \"views\" that allow the same memory to be very efficiently interpreted with different shapes:"
      ]
    },
    {
      "cell_type": "markdown",
      "metadata": {
        "id": "FbrquFrlfubN"
      },
      "source": [
        "The `np.newaxis` method is useful to increase the dimensionality of an array, especially when used in combination with numpy's broadcast functionality."
      ]
    },
    {
      "cell_type": "code",
      "execution_count": null,
      "metadata": {
        "id": "otBjEm7yfubN"
      },
      "outputs": [],
      "source": [
        "np.arange(4).shape"
      ]
    },
    {
      "cell_type": "code",
      "execution_count": null,
      "metadata": {
        "id": "FYKY5N9OfubO"
      },
      "outputs": [],
      "source": [
        "# make it as row vector by inserting an axis along first dimension\n",
        "np.arange(4)[np.newaxis, :].shape"
      ]
    },
    {
      "cell_type": "code",
      "execution_count": null,
      "metadata": {
        "id": "9CpyaqP4fubO"
      },
      "outputs": [],
      "source": [
        "# make it as column vector by inserting an axis along second dimension\n",
        "np.arange(4)[:, np.newaxis].shape"
      ]
    },
    {
      "cell_type": "markdown",
      "metadata": {
        "solution2": "hidden",
        "solution2_first": true,
        "id": "-HgUZjfufubO"
      },
      "source": [
        "**EXAMPLE:** Use `np.reshape` to create a view of `np.arange(12)` with shape (2, 1, 6):"
      ]
    },
    {
      "cell_type": "code",
      "execution_count": null,
      "metadata": {
        "solution2": "hidden",
        "id": "C4E9V7sefubO"
      },
      "outputs": [],
      "source": [
        "np.arange(12).reshape(2, 1, 6)"
      ]
    },
    {
      "cell_type": "markdown",
      "metadata": {
        "solution2": "hidden",
        "solution2_first": true,
        "id": "DJxUbLo6fubP"
      },
      "source": [
        "**EXAMPLE:** Use `np.newaxis` to create a view of `np.arange(12)` with shape (1, 12):"
      ]
    },
    {
      "cell_type": "code",
      "execution_count": null,
      "metadata": {
        "solution2": "hidden",
        "id": "eCulk8ZbfubP"
      },
      "outputs": [],
      "source": [
        "np.arange(12)[np.newaxis, :]"
      ]
    },
    {
      "cell_type": "markdown",
      "metadata": {
        "id": "D7_GL_wrfubP"
      },
      "source": [
        "---\n",
        "## Acknowledgements\n",
        "* Initial version: Mark Neubauer\n",
        "\n",
        "© Copyright 2023"
      ]
    }
  ],
  "metadata": {
    "kernelspec": {
      "display_name": "Python 3",
      "language": "python",
      "name": "python3"
    },
    "language_info": {
      "codemirror_mode": {
        "name": "ipython",
        "version": 3
      },
      "file_extension": ".py",
      "mimetype": "text/x-python",
      "name": "python",
      "nbconvert_exporter": "python",
      "pygments_lexer": "ipython3",
      "version": "3.11.2"
    },
    "colab": {
      "provenance": []
    }
  },
  "nbformat": 4,
  "nbformat_minor": 0
}